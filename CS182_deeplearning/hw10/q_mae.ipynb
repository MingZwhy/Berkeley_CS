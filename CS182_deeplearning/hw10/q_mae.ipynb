{
  "cells": [
    {
      "cell_type": "markdown",
      "metadata": {
        "id": "ohhBQGEKZ9z-"
      },
      "source": [
        "# Vision Transformer and Masked Autoencoder\n",
        "\n",
        "In this assignment, you will be implementing [Vision Transformer (ViT)](https://arxiv.org/abs/2010.11929) and [Masked Autoencoder (MAE)](https://arxiv.org/abs/2111.06377)."
      ]
    },
    {
      "cell_type": "markdown",
      "metadata": {
        "id": "Sr_tSqTXc0VE"
      },
      "source": [
        "## Setup"
      ]
    },
    {
      "cell_type": "markdown",
      "metadata": {
        "id": "M-f8SLhqa585"
      },
      "source": [
        "We recommend working on Colab with GPU enabled since this assignment needs a fair amount of compute.\n",
        "In Colab, we can enforce using GPU by clicking `Runtime -> Change Runtime Type -> Hardware accelerator` and selecting `GPU`.\n",
        "The dependencies will be installed once the notebooks are excuted.\n",
        "\n",
        "You should make a copy of this notebook to your Google Drive otherwise the outputs will not be saved.\n",
        "Once the folder is copied, you can start working by clicking a Jupyter Notebook and openning it in Colab."
      ]
    },
    {
      "cell_type": "code",
      "execution_count": 24,
      "metadata": {
        "id": "9hFl82FA59le"
      },
      "outputs": [],
      "source": [
        "#@title Install einops\n",
        "#!python -m pip install einops"
      ]
    },
    {
      "cell_type": "code",
      "execution_count": 1,
      "metadata": {},
      "outputs": [],
      "source": [
        "import os\n",
        "os.environ[\"KMP_DUPLICATE_LIB_OK\"]=\"TRUE\""
      ]
    },
    {
      "cell_type": "code",
      "execution_count": 2,
      "metadata": {
        "id": "imL8NunGXV5f"
      },
      "outputs": [],
      "source": [
        "#@title Import packages\n",
        "import numpy as np\n",
        "from matplotlib import pyplot as plt\n",
        "import seaborn\n",
        "seaborn.set()\n",
        "\n",
        "from tqdm.notebook import trange, tqdm\n",
        "\n",
        "import torch\n",
        "import torch.nn as nn\n",
        "import torch.nn.functional as F\n",
        "import torch.optim as optim\n",
        "\n",
        "import torchvision\n",
        "import torchvision.transforms as transforms\n",
        "\n",
        "import einops\n",
        "import pickle\n",
        "import os\n",
        "import io\n",
        "import urllib.request\n",
        "\n",
        "torch_device = 'cuda' if torch.cuda.is_available() else 'cpu'\n",
        "root_folder = colab_root_folder = os.getcwd()"
      ]
    },
    {
      "cell_type": "code",
      "execution_count": 26,
      "metadata": {
        "id": "hHjvJvZhkv-i"
      },
      "outputs": [],
      "source": [
        "# Mount drive to save models and logs\n",
        "# If you are not using colab, you can ignore this cell\n",
        "#from google.colab import drive\n",
        "#drive.mount('/content/drive')"
      ]
    },
    {
      "cell_type": "markdown",
      "metadata": {
        "id": "X1wxozGQcVUz"
      },
      "source": [
        "**Note**: change ```root_folder``` to the folder of this notebook in your google drive"
      ]
    },
    {
      "cell_type": "code",
      "execution_count": 27,
      "metadata": {
        "id": "eRrKGY0ycIS6"
      },
      "outputs": [],
      "source": [
        "#root_folder = \"/content/drive/MyDrive/cs182_hw9_mae/\"\n",
        "#os.makedirs(root_folder, exist_ok=True)\n",
        "#os.chdir(root_folder)"
      ]
    },
    {
      "cell_type": "code",
      "execution_count": 95,
      "metadata": {
        "id": "nl3t1xKoWee7"
      },
      "outputs": [],
      "source": [
        "#@title Download Testing Data\n",
        "\n",
        "def load_from_url(url):\n",
        "    return torch.load(io.BytesIO(urllib.request.urlopen(url).read()))\n",
        "\n",
        "test_data = load_from_url('https://github.com/Berkeley-CS182/cs182hw9/raw/main/test_reference.pt')\n",
        "auto_grader_data = load_from_url('https://github.com/Berkeley-CS182/cs182hw9/raw/main/autograder_student.pt')\n",
        "auto_grader_data['output'] = {}"
      ]
    },
    {
      "cell_type": "code",
      "execution_count": 4,
      "metadata": {},
      "outputs": [
        {
          "data": {
            "text/plain": [
              "torch.Size([10, 64, 48])"
            ]
          },
          "execution_count": 4,
          "metadata": {},
          "output_type": "execute_result"
        }
      ],
      "source": [
        "test_data['input']['unpatchify'].shape"
      ]
    },
    {
      "cell_type": "code",
      "execution_count": 5,
      "metadata": {},
      "outputs": [
        {
          "data": {
            "text/plain": [
              "torch.Size([10, 3, 32, 32])"
            ]
          },
          "execution_count": 5,
          "metadata": {},
          "output_type": "execute_result"
        }
      ],
      "source": [
        "test_data['input']['patchify'].shape"
      ]
    },
    {
      "cell_type": "code",
      "execution_count": 6,
      "metadata": {
        "id": "Uv1eceRfsIHZ"
      },
      "outputs": [],
      "source": [
        "#@title Utilities for Testing\n",
        "def save_auto_grader_data():\n",
        "    torch.save(\n",
        "        {'output': auto_grader_data['output']},\n",
        "        'autograder.pt'\n",
        "    )\n",
        "\n",
        "def rel_error(x, y):\n",
        "    return torch.max(\n",
        "        torch.abs(x - y)\n",
        "        / (torch.maximum(torch.tensor(1e-8), torch.abs(x) + torch.abs(y)))\n",
        "    ).item()\n",
        "\n",
        "def check_error(name, x, y, tol=1e-3):\n",
        "    error = rel_error(x, y)\n",
        "    if error > tol:\n",
        "        print(f'The relative error for {name} is {error}, should be smaller than {tol}')\n",
        "    else:\n",
        "        print(f'The relative error for {name} is {error}')\n",
        "\n",
        "def check_acc(acc, threshold):\n",
        "    if acc < threshold:\n",
        "        print(f'The accuracy {acc} should >= threshold accuracy {threshold}')\n",
        "    else:\n",
        "        print(f'The accuracy {acc} is better than threshold accuracy {threshold}')"
      ]
    },
    {
      "cell_type": "markdown",
      "metadata": {
        "id": "-Ii0DgIQdsmQ"
      },
      "source": [
        "## Vision Transformer\n",
        "The first part of this notebook is implementing Vision Transformer (ViT) and training it on CIFAR dataset.\n"
      ]
    },
    {
      "cell_type": "markdown",
      "metadata": {
        "id": "MquneePhckk8"
      },
      "source": [
        "### Image patchify and unpatchify\n",
        "\n",
        "In ViT, an image is split into fixed-size patches, each of them are then linearly embedded, position embeddings are added, and the resulting sequence of vectors is fed to a standard Transformer encoder. The architecture can be seen in the following figure.\n",
        "![vit](https://github.com/google-research/vision_transformer/blob/main/vit_figure.png?raw=true)\n",
        "\n",
        "To get started with implementing ViT, we need to implement splitting image batch into fixed-size patches batch in ```patchify``` and combining patches batch into the original image batch in ```unpatchify```. The `patchify` function has been implemented for you. **Please implement `unpatchify`.**\n",
        "\n",
        "This implementation uses [einops](https://github.com/arogozhnikov/einops) for flexible tensor operations, you can check out its [tutorial](https://einops.rocks/1-einops-basics/)."
      ]
    },
    {
      "cell_type": "code",
      "execution_count": 7,
      "metadata": {},
      "outputs": [],
      "source": [
        "import math"
      ]
    },
    {
      "cell_type": "code",
      "execution_count": 8,
      "metadata": {
        "id": "hS2qs7nD5iyp"
      },
      "outputs": [],
      "source": [
        "def patchify(images, patch_size=4):\n",
        "    \"\"\"Splitting images into patches.\n",
        "    Args:\n",
        "        images: Input tensor with size (batch, channels, height, width)\n",
        "    Returns:\n",
        "        A batch of image patches with size (\n",
        "          batch, (height / patch_size) * (width / patch_size),\n",
        "        channels * patch_size * patch_size)\n",
        "\n",
        "    Hint: use einops.rearrange. The \"space-to-depth operation\" example at https://einops.rocks/api/rearrange/\n",
        "    is not exactly what you need, but it gives a good idea of how to use rearrange.\n",
        "    \"\"\"\n",
        "    return einops.rearrange(\n",
        "        images,\n",
        "        'b c (h p1) (w p2) -> b (h w) (c p1 p2)',\n",
        "        p1=patch_size,\n",
        "        p2=patch_size\n",
        "    )\n",
        "\n",
        "def unpatchify(patches, patch_size=4):\n",
        "    \"\"\"Combining patches into images.\n",
        "    Args:\n",
        "        patches: Input tensor with size (\n",
        "        batch, (height / patch_size) * (width / patch_size),\n",
        "        channels * patch_size * patch_size)\n",
        "    Returns:\n",
        "        A batch of images with size (batch, channels, height, width)\n",
        "\n",
        "    Hint: einops.rearrange can be used here as well.\n",
        "    \"\"\"\n",
        "    ############################################################################\n",
        "    # TODO: implement this function\n",
        "    \n",
        "    batch, num_patches, patch_channels = patches.shape\n",
        "    height = width = math.sqrt(num_patches)\n",
        "    \n",
        "    return einops.rearrange(\n",
        "        patches,\n",
        "        'b (h w) (c p1 p2) -> b c (h p1) (w p2)',\n",
        "        h = int(height),\n",
        "        w = int(width),\n",
        "        p1=patch_size,\n",
        "        p2=patch_size\n",
        "    )\n",
        "    \n",
        "    ############################################################################\n",
        "    ############################################################################"
      ]
    },
    {
      "cell_type": "code",
      "execution_count": 9,
      "metadata": {
        "cellView": "form",
        "id": "plMY_EoNZ4ip"
      },
      "outputs": [
        {
          "name": "stdout",
          "output_type": "stream",
          "text": [
            "The relative error for patchify is 0.0\n",
            "The relative error for unpatchify is 0.0\n"
          ]
        }
      ],
      "source": [
        "#@title Test your implementation\n",
        "x = test_data['input']['patchify']\n",
        "y = test_data['output']['patchify']\n",
        "check_error('patchify', patchify(x), y)\n",
        "\n",
        "x = auto_grader_data['input']['patchify']\n",
        "auto_grader_data['output']['patchify'] = patchify(x)\n",
        "save_auto_grader_data()\n",
        "\n",
        "\n",
        "x = test_data['input']['unpatchify']\n",
        "y = test_data['output']['unpatchify']\n",
        "check_error('unpatchify', unpatchify(x), y)\n",
        "\n",
        "x = auto_grader_data['input']['unpatchify']\n",
        "auto_grader_data['output']['unpatchify'] = unpatchify(x)\n",
        "\n",
        "save_auto_grader_data()"
      ]
    },
    {
      "cell_type": "markdown",
      "metadata": {
        "id": "sFlVruRYhBlR"
      },
      "source": [
        "### ViT Model\n",
        "\n",
        "Here is an implementation of a Transformer. It simply wraps `nn.TransformerEncoder` of PyTorch."
      ]
    },
    {
      "cell_type": "code",
      "execution_count": 10,
      "metadata": {
        "id": "gpZeS39N8BPJ"
      },
      "outputs": [],
      "source": [
        "class Transformer(nn.Module):\n",
        "    \"\"\"Transformer Encoder\n",
        "    Args:\n",
        "        embedding_dim: dimension of embedding\n",
        "        n_heads: number of attention heads\n",
        "        n_layers: number of attention layers\n",
        "        feedforward_dim: hidden dimension of MLP layer\n",
        "    Returns:\n",
        "        Transformer embedding of input\n",
        "    \"\"\"\n",
        "    def __init__(self, embedding_dim=256, n_heads=4, n_layers=4, feedforward_dim=1024):\n",
        "        super().__init__()\n",
        "        self.embedding_dim = embedding_dim\n",
        "        self.n_layers = n_layers\n",
        "        self.n_heads = n_heads\n",
        "        self.feedforward_dim = feedforward_dim\n",
        "        self.transformer = nn.TransformerEncoder(\n",
        "            nn.TransformerEncoderLayer(\n",
        "                d_model=embedding_dim,\n",
        "                nhead=self.n_heads,\n",
        "                dim_feedforward=self.feedforward_dim,\n",
        "                activation=F.gelu,\n",
        "                batch_first=True,\n",
        "                dropout=0.0,\n",
        "            ),\n",
        "            num_layers=n_layers,\n",
        "        )\n",
        "\n",
        "    def forward(self, x):\n",
        "        return self.transformer(x)"
      ]
    },
    {
      "cell_type": "markdown",
      "metadata": {
        "id": "O1wuxQEXrGtp"
      },
      "source": [
        "**Implement the `forward` method of `ClassificationViT`**, use the layers defined in the constructor and `patchify`/`unpachify` function implemented above."
      ]
    },
    {
      "cell_type": "code",
      "execution_count": 11,
      "metadata": {},
      "outputs": [
        {
          "data": {
            "text/plain": [
              "Parameter containing:\n",
              "tensor([[[-1.1207, -0.3079, -0.9933, -0.5641, -1.3019, -0.2997, -1.0301,\n",
              "           0.6219, -0.3573, -0.4080]]], requires_grad=True)"
            ]
          },
          "execution_count": 11,
          "metadata": {},
          "output_type": "execute_result"
        }
      ],
      "source": [
        "nn.Parameter(torch.randn(1, 1, 10))"
      ]
    },
    {
      "cell_type": "code",
      "execution_count": 12,
      "metadata": {
        "id": "yZLM569zrHh3"
      },
      "outputs": [],
      "source": [
        "class ClassificationViT(nn.Module):\n",
        "    \"\"\"Vision transformer for classfication\n",
        "    Args:\n",
        "        n_classes: number of classes\n",
        "        embedding_dim: dimension of embedding\n",
        "        patch_size: image patch size\n",
        "        num_patches: number of image patches\n",
        "    Returns:\n",
        "        Logits of classfication\n",
        "    \"\"\"\n",
        "    def __init__(self, n_classes, embedding_dim=256, patch_size=4, num_patches=8):\n",
        "        super().__init__()\n",
        "        self.patch_size = patch_size\n",
        "        self.num_patches = num_patches\n",
        "        self.embedding_dim = embedding_dim\n",
        "\n",
        "        self.transformer = Transformer(embedding_dim)\n",
        "        self.cls_token = nn.Parameter(torch.randn(1, 1, embedding_dim) * 0.02)\n",
        "        self.position_encoding = nn.Parameter(\n",
        "            torch.randn(1, num_patches * num_patches + 1, embedding_dim) * 0.02\n",
        "        )\n",
        "        self.patch_projection = nn.Linear(patch_size * patch_size * 3, embedding_dim)\n",
        "\n",
        "        # A Layernorm and a Linear layer are applied on ViT encoder embeddings\n",
        "        self.output_head = nn.Sequential(\n",
        "            nn.LayerNorm(embedding_dim), nn.Linear(embedding_dim, n_classes)\n",
        "        )\n",
        "\n",
        "    def forward(self, images):\n",
        "        \"\"\"\n",
        "        (1) Splitting images into fixed-size patches;\n",
        "        (2) Linearly embed each image patch, prepend CLS token;\n",
        "        (3) Add position embeddings;\n",
        "        (4) Feed the resulting sequence of vectors to Transformer encoder.\n",
        "        (5) Extract the embeddings corresponding to each CLS token in the batch.\n",
        "        (6) Apply output head to the embeddings to obtain the logits\n",
        "        \"\"\"\n",
        "        ########################################################################\n",
        "        # TODO: implement this function\n",
        "        \n",
        "        # (1) splitting images into fixed-size patches\n",
        "        patches = patchify(images, self.patch_size)\n",
        "        # patches: (batch, (height / patch_size) * (width / patch_size), channels * patch_size * patch_size)\n",
        "        batch_size, num_patches, length = patches.shape\n",
        "        flat_patches = patches.view(batch_size * num_patches, -1)\n",
        "        # flat_patches: (batch_size * num_patches, length)\n",
        "        \n",
        "        # (2) Linearly embed each image patch, prepend CLS token\n",
        "        flat_embed_patches = self.patch_projection(flat_patches)\n",
        "        # flat_embed_patches: (batch_size * num_patches, embedding_dim)\n",
        "        embed_patches = flat_embed_patches.view(batch_size, num_patches, -1)\n",
        "        # embed_patches: (batch_size, self.num_patches, embedding_dim)\n",
        "        \n",
        "        cls_token = self.cls_token.expand(batch_size, -1, -1)\n",
        "        # expand cls_token to (batch_size, 1, embedding_dim)\n",
        "        cls_embed_patches = torch.cat([cls_token, embed_patches], dim=1)\n",
        "        # cls_embed_patches: (batch_size, self.num_patches+1, embedding_dim)\n",
        "        \n",
        "        # (3) Add position embeddings\n",
        "        pos_patches = cls_embed_patches + self.position_encoding\n",
        "        \n",
        "        # (4) Feed the resulting sequence of vectors to Transformer encoder.\n",
        "        encoded_patches = self.transformer(pos_patches)\n",
        "        #print(\"encoded_patches shape: \", encoded_patches.shape)\n",
        "        \n",
        "        # (5) Extract the embeddings corresponding to each CLS token in the batch.\n",
        "        cls_embedding = encoded_patches[:, 0, :]\n",
        "        \n",
        "        # (6) Apply output head to the embeddings to obtain the logits\n",
        "        logits = self.output_head(cls_embedding)\n",
        "        \n",
        "        return logits\n",
        "        \n",
        "        ########################################################################\n",
        "        ########################################################################"
      ]
    },
    {
      "cell_type": "code",
      "execution_count": 13,
      "metadata": {
        "id": "D3-wRAClbpnf"
      },
      "outputs": [
        {
          "name": "stdout",
          "output_type": "stream",
          "text": [
            "The relative error for ClassificationViT.forward is 6.255409971345216e-06\n"
          ]
        }
      ],
      "source": [
        "#@title Test your implementation\n",
        "model = ClassificationViT(10)\n",
        "model.load_state_dict(test_data['weights']['ClassificationViT'])\n",
        "x = test_data['input']['ClassificationViT.forward']\n",
        "y = model.forward(x)\n",
        "check_error('ClassificationViT.forward', y, test_data['output']['ClassificationViT.forward'])\n",
        "\n",
        "model.load_state_dict(auto_grader_data['weights']['ClassificationViT'])\n",
        "x = auto_grader_data['input']['ClassificationViT.forward']\n",
        "y = model.forward(x)\n",
        "auto_grader_data['output']['ClassificationViT.forward'] = y\n",
        "save_auto_grader_data()"
      ]
    },
    {
      "cell_type": "markdown",
      "metadata": {
        "id": "R1m2Q5dNnZXT"
      },
      "source": [
        "### Data Loader and Preprocess\n",
        "\n",
        "We use ```torchvision``` to download and prepare images and labels. ViT usually works on a much larger image dataset, but due to our limited computational resources, we train our ViT on CIFAR-10."
      ]
    },
    {
      "cell_type": "code",
      "execution_count": 14,
      "metadata": {
        "id": "F_EBBMgv-FRI"
      },
      "outputs": [
        {
          "name": "stdout",
          "output_type": "stream",
          "text": [
            "Files already downloaded and verified\n",
            "Files already downloaded and verified\n"
          ]
        }
      ],
      "source": [
        "# use local data\n",
        "local_root_folder = \"../cifar-10/\"\n",
        " \n",
        "transform_train = transforms.Compose([\n",
        "    transforms.RandomCrop(32, padding=4),\n",
        "    transforms.Resize(32),\n",
        "    transforms.RandomHorizontalFlip(),\n",
        "    transforms.ToTensor(),\n",
        "    transforms.Normalize((0.4914, 0.4822, 0.4465), (0.2023, 0.1994, 0.2010)),\n",
        "])\n",
        "\n",
        "transform_test = transforms.Compose([\n",
        "    transforms.Resize(32),\n",
        "    transforms.ToTensor(),\n",
        "    transforms.Normalize((0.4914, 0.4822, 0.4465), (0.2023, 0.1994, 0.2010)),\n",
        "])\n",
        "\n",
        "batch_size = 128\n",
        "\n",
        "trainset = torchvision.datasets.CIFAR10(\n",
        "    root=local_root_folder,\n",
        "    train=True, download=True, transform=transform_train\n",
        ")\n",
        "trainloader = torch.utils.data.DataLoader(trainset, batch_size=batch_size,\n",
        "                                          shuffle=True, num_workers=2)\n",
        "\n",
        "testset = torchvision.datasets.CIFAR10(\n",
        "    root=local_root_folder,\n",
        "    train=False, download=True, transform=transform_test\n",
        ")\n",
        "testloader = torch.utils.data.DataLoader(testset, batch_size=batch_size,\n",
        "                                         shuffle=False, num_workers=2)"
      ]
    },
    {
      "cell_type": "markdown",
      "metadata": {
        "id": "FnTEdan3r3_K"
      },
      "source": [
        "### Supervised Training ViT\n",
        "\n",
        "Training should take less than 10 minutes when run on Google Colab."
      ]
    },
    {
      "cell_type": "code",
      "execution_count": 15,
      "metadata": {
        "id": "5JyOv6GfCFVQ"
      },
      "outputs": [
        {
          "data": {
            "application/vnd.jupyter.widget-view+json": {
              "model_id": "e37003f98a284b3397aee93494fcd660",
              "version_major": 2,
              "version_minor": 0
            },
            "text/plain": [
              "  0%|          | 0/10 [00:00<?, ?it/s]"
            ]
          },
          "metadata": {},
          "output_type": "display_data"
        },
        {
          "data": {
            "application/vnd.jupyter.widget-view+json": {
              "model_id": "19e5a1513e32430395fe128767ce96de",
              "version_major": 2,
              "version_minor": 0
            },
            "text/plain": [
              "  0%|          | 0/391 [00:00<?, ?it/s]"
            ]
          },
          "metadata": {},
          "output_type": "display_data"
        },
        {
          "data": {
            "application/vnd.jupyter.widget-view+json": {
              "model_id": "7df026760cd649fc9a2d60542d3c5f6b",
              "version_major": 2,
              "version_minor": 0
            },
            "text/plain": [
              "  0%|          | 0/391 [00:00<?, ?it/s]"
            ]
          },
          "metadata": {},
          "output_type": "display_data"
        },
        {
          "data": {
            "application/vnd.jupyter.widget-view+json": {
              "model_id": "9c05153bc58d4c33888aa20f9038c13d",
              "version_major": 2,
              "version_minor": 0
            },
            "text/plain": [
              "  0%|          | 0/391 [00:00<?, ?it/s]"
            ]
          },
          "metadata": {},
          "output_type": "display_data"
        },
        {
          "data": {
            "application/vnd.jupyter.widget-view+json": {
              "model_id": "7163890db93d4f95b8574f2f37ec2b01",
              "version_major": 2,
              "version_minor": 0
            },
            "text/plain": [
              "  0%|          | 0/391 [00:00<?, ?it/s]"
            ]
          },
          "metadata": {},
          "output_type": "display_data"
        },
        {
          "data": {
            "application/vnd.jupyter.widget-view+json": {
              "model_id": "a38feec10f05481fa5919674ccd0177e",
              "version_major": 2,
              "version_minor": 0
            },
            "text/plain": [
              "  0%|          | 0/391 [00:00<?, ?it/s]"
            ]
          },
          "metadata": {},
          "output_type": "display_data"
        },
        {
          "data": {
            "application/vnd.jupyter.widget-view+json": {
              "model_id": "0138cb9c443348c194b80b9c00b4c00d",
              "version_major": 2,
              "version_minor": 0
            },
            "text/plain": [
              "  0%|          | 0/391 [00:00<?, ?it/s]"
            ]
          },
          "metadata": {},
          "output_type": "display_data"
        },
        {
          "data": {
            "application/vnd.jupyter.widget-view+json": {
              "model_id": "030041f3d9df41c8b318d4b28d1d9361",
              "version_major": 2,
              "version_minor": 0
            },
            "text/plain": [
              "  0%|          | 0/391 [00:00<?, ?it/s]"
            ]
          },
          "metadata": {},
          "output_type": "display_data"
        },
        {
          "data": {
            "application/vnd.jupyter.widget-view+json": {
              "model_id": "28f39150dada4157ad95a7101b29b139",
              "version_major": 2,
              "version_minor": 0
            },
            "text/plain": [
              "  0%|          | 0/391 [00:00<?, ?it/s]"
            ]
          },
          "metadata": {},
          "output_type": "display_data"
        },
        {
          "data": {
            "application/vnd.jupyter.widget-view+json": {
              "model_id": "88a9cc1d1a9248798ace778d8c160c92",
              "version_major": 2,
              "version_minor": 0
            },
            "text/plain": [
              "  0%|          | 0/391 [00:00<?, ?it/s]"
            ]
          },
          "metadata": {},
          "output_type": "display_data"
        },
        {
          "data": {
            "application/vnd.jupyter.widget-view+json": {
              "model_id": "3264300e35794cba95ca712f5092aa25",
              "version_major": 2,
              "version_minor": 0
            },
            "text/plain": [
              "  0%|          | 0/391 [00:00<?, ?it/s]"
            ]
          },
          "metadata": {},
          "output_type": "display_data"
        },
        {
          "data": {
            "text/plain": [
              "Text(0.5, 1.0, 'Val Accuracy')"
            ]
          },
          "execution_count": 15,
          "metadata": {},
          "output_type": "execute_result"
        },
        {
          "data": {
            "image/png": "[encoded data removed]",
            "text/plain": [
              "<Figure size 640x480 with 1 Axes>"
            ]
          },
          "metadata": {},
          "output_type": "display_data"
        },
        {
          "data": {
            "image/png": "[encoded data removed]",
            "text/plain": [
              "<Figure size 640x480 with 1 Axes>"
            ]
          },
          "metadata": {},
          "output_type": "display_data"
        },
        {
          "data": {
            "image/png": "[encoded data removed]",
            "text/plain": [
              "<Figure size 640x480 with 1 Axes>"
            ]
          },
          "metadata": {},
          "output_type": "display_data"
        }
      ],
      "source": [
        "# Initilize model (ClassificationViT)\n",
        "model = ClassificationViT(10)\n",
        "# Move model to GPU\n",
        "model.to(torch_device)\n",
        "# Create optimizer for the model\n",
        "\n",
        "# You may want to tune these hyperparameters to get better performance\n",
        "optimizer = optim.AdamW(model.parameters(), lr=1e-3, betas=(0.9, 0.95), weight_decay=1e-9)\n",
        "\n",
        "total_steps = 0\n",
        "num_epochs = 10\n",
        "train_logfreq = 100\n",
        "losses = []\n",
        "train_acc = []\n",
        "all_val_acc = []\n",
        "best_val_acc = 0\n",
        "\n",
        "epoch_iterator = trange(num_epochs)\n",
        "for epoch in epoch_iterator:\n",
        "    # Train\n",
        "    data_iterator = tqdm(trainloader)\n",
        "    for x, y in data_iterator:\n",
        "        total_steps += 1\n",
        "        x, y = x.to(torch_device), y.to(torch_device)\n",
        "        logits = model(x)\n",
        "        loss = torch.mean(F.cross_entropy(logits, y))\n",
        "        accuracy = torch.mean((torch.argmax(logits, dim=-1) == y).float())\n",
        "        optimizer.zero_grad()\n",
        "        loss.backward()\n",
        "        optimizer.step()\n",
        "\n",
        "        data_iterator.set_postfix(loss=loss.item(), train_acc=accuracy.item())\n",
        "\n",
        "        if total_steps % train_logfreq == 0:\n",
        "            losses.append(loss.item())\n",
        "            train_acc.append(accuracy.item())\n",
        "\n",
        "    # Validation\n",
        "    val_acc = []\n",
        "    model.eval()\n",
        "    for x, y in testloader:\n",
        "        x, y = x.to(torch_device), y.to(torch_device)\n",
        "        with torch.no_grad():\n",
        "          logits = model(x)\n",
        "        accuracy = torch.mean((torch.argmax(logits, dim=-1) == y).float())\n",
        "        val_acc.append(accuracy.item())\n",
        "    model.train()\n",
        "\n",
        "    all_val_acc.append(np.mean(val_acc))\n",
        "    # Save best model\n",
        "    if np.mean(val_acc) > best_val_acc:\n",
        "        best_val_acc = np.mean(val_acc)\n",
        "\n",
        "    epoch_iterator.set_postfix(val_acc=np.mean(val_acc), best_val_acc=best_val_acc)\n",
        "\n",
        "plt.plot(losses)\n",
        "plt.title('Train Loss')\n",
        "plt.figure()\n",
        "plt.plot(train_acc)\n",
        "plt.title('Train Accuracy')\n",
        "plt.figure()\n",
        "plt.plot(all_val_acc)\n",
        "plt.title('Val Accuracy')"
      ]
    },
    {
      "cell_type": "code",
      "execution_count": 16,
      "metadata": {
        "cellView": "form",
        "id": "OikMO6_LCmik"
      },
      "outputs": [
        {
          "name": "stdout",
          "output_type": "stream",
          "text": [
            "The accuracy 0.6653481012658228 is better than threshold accuracy 0.65\n"
          ]
        }
      ],
      "source": [
        "#@title Test your implementation\n",
        "auto_grader_data['output']['vit_acc'] = best_val_acc\n",
        "save_auto_grader_data()\n",
        "check_acc(best_val_acc, threshold=0.65)"
      ]
    },
    {
      "cell_type": "markdown",
      "metadata": {
        "id": "Ij4IVDMIsB5o"
      },
      "source": [
        "## Masked AutoEncoder\n",
        "\n",
        "The second part of this notebook is implementing Masked Autoencoder (MAE), then training it on CIFAR-10.\n",
        "\n",
        "The idea of MAE is to apply BERT-style masked pretraining to images, by masking random patches of the input image and reconstruct the missing pixels. It uses self-supervised learning, and so no labels are needed. The trained model can be used for linear classification and finetuning experiments. This whole achitecture can be seen in the following figure.\n",
        "![mae.png](https://user-images.githubusercontent.com/11435359/146857310-f258c86c-fde6-48e8-9cee-badd2b21bd2c.png)\n",
        "\n",
        "I recommend watching [Masked Autoencoders Are Scalable Vision Learners – Paper explained and animated! - YouTube](https://www.youtube.com/watch?v=Dp6iICL2dVI) for a review of how MAE works."
      ]
    },
    {
      "cell_type": "markdown",
      "metadata": {
        "id": "ufTgPU_Rszsd"
      },
      "source": [
        "### Random Masking and Restore\n",
        "\n",
        "**Implement ```random_masking``` to mask random patches from the input image and ```restore_masked``` to combine reconstructed masked part and unmasked part to restore the image.**\n",
        "\n",
        "The `index_sequence` utility function has been provided to you, along with two examples:"
      ]
    },
    {
      "cell_type": "code",
      "execution_count": 20,
      "metadata": {
        "id": "wtJfOe5O3516"
      },
      "outputs": [],
      "source": [
        "def index_sequence(x, ids):\n",
        "    \"\"\"Index tensor (x) with indices given by ids\n",
        "    Args:\n",
        "        x: input sequence tensor, can be 2D (batch x length) or 3D (batch x length x feature)\n",
        "        ids: 2D indices (batch x length) for re-indexing the sequence tensor\n",
        "    \"\"\"\n",
        "    if len(x.shape) == 3:\n",
        "        ids = ids.unsqueeze(-1).expand(-1, -1, x.shape[-1])\n",
        "    return torch.take_along_dim(x, ids, dim=1)"
      ]
    },
    {
      "cell_type": "code",
      "execution_count": 21,
      "metadata": {
        "id": "b0CJGSMn49-k"
      },
      "outputs": [
        {
          "name": "stdout",
          "output_type": "stream",
          "text": [
            "tensor([[0.0000, 0.2000],\n",
            "        [1.0000, 1.1000]])\n"
          ]
        }
      ],
      "source": [
        "print(index_sequence(\n",
        "    torch.tensor([\n",
        "        [0.0, 0.1, 0.2],\n",
        "        [1.0, 1.1, 1.2]\n",
        "    ], dtype=torch.float),\n",
        "    torch.tensor([\n",
        "        [0, 2],\n",
        "        [0, 1]\n",
        "    ], dtype=torch.long)\n",
        "))"
      ]
    },
    {
      "cell_type": "code",
      "execution_count": 22,
      "metadata": {
        "id": "60kbyzNy5pKi"
      },
      "outputs": [
        {
          "name": "stdout",
          "output_type": "stream",
          "text": [
            "tensor([[[0.0100, 0.0200],\n",
            "         [0.2100, 0.2200]],\n",
            "\n",
            "        [[1.0100, 1.0200],\n",
            "         [1.1100, 1.1200]]])\n"
          ]
        }
      ],
      "source": [
        "print(index_sequence(\n",
        "    torch.tensor([\n",
        "        [[0.01, 0.02], [0.11, 0.12], [0.21, 0.22]],\n",
        "        [[1.01, 1.02], [1.11, 1.12], [1.21, 1.22]]\n",
        "    ], dtype=torch.float),\n",
        "    torch.tensor([\n",
        "        [0, 2],\n",
        "        [0, 1]\n",
        "    ], dtype=torch.long)\n",
        "))"
      ]
    },
    {
      "cell_type": "code",
      "execution_count": 23,
      "metadata": {},
      "outputs": [
        {
          "data": {
            "text/plain": [
              "(10, 1)"
            ]
          },
          "execution_count": 23,
          "metadata": {},
          "output_type": "execute_result"
        }
      ],
      "source": [
        "np.arange(10)[:, None].shape"
      ]
    },
    {
      "cell_type": "code",
      "execution_count": 55,
      "metadata": {
        "id": "eKkRHTjMUOJ7"
      },
      "outputs": [],
      "source": [
        "def random_masking(x, keep_length, ids_shuffle):\n",
        "    \"\"\"Apply random masking on input tensor\n",
        "    Args:\n",
        "        x: input patches (batch x length x feature)\n",
        "        keep_length: length of unmasked patches\n",
        "        ids_shuffle: random indices for shuffling the input sequence. This is an\n",
        "            array of size (batch x length) where each row is a permutation of\n",
        "            [0, 1, ..., length-1]. We will pass this array to index_sequence function\n",
        "            to chooose the unmasked patches.\n",
        "\n",
        "    Returns:\n",
        "        kept: unmasked part of x: (batch x keep_length x feature)\n",
        "        mask: a 2D (batch x length) mask tensor of 0s and 1s indicated which\n",
        "            part of x is masked out. The value 0 indicates not masked and 1\n",
        "            indicates masked.\n",
        "        ids_restore: indices to restore x. This is an array of size (batch x length).\n",
        "            If we take the kept part and masked\n",
        "            part of x, concatentate them together and index it with ids_restore,\n",
        "            we should get x back. (Hint: try using torch.argsort on the shuffle indices)\n",
        "    \"\"\"\n",
        "    ############################################################################\n",
        "    # TODO: implement this function\n",
        "    \n",
        "    kept = index_sequence(x, ids_shuffle[:, :keep_length])\n",
        "    masked = index_sequence(x, ids_shuffle[:, keep_length:])\n",
        "    mask = torch.zeros_like(ids_shuffle, dtype=torch.float32)\n",
        "    # 1 indicates masked\n",
        "    #for i in range(mask.shape[0]):\n",
        "    #    mask[i][ids_shuffle[i, keep_length:]] = 1.0\n",
        "    mask[np.arange(mask.shape[0])[:, None], ids_shuffle[:, keep_length:]] = 1.0\n",
        "    ids_restore = torch.argsort(ids_shuffle, dim=1)\n",
        "    return kept, mask, ids_restore\n",
        "    \n",
        "    ############################################################################\n",
        "    ############################################################################\n",
        "\n",
        "def restore_masked(kept_x, masked_x, ids_restore):\n",
        "    \"\"\"Restore masked patches\n",
        "    Args:\n",
        "        kept_x: unmasked patches: (batch x keep_length x feature)\n",
        "        masked_x: masked patches: (batch x (length - keep_length) x feature)\n",
        "        ids_restore: indices to restore x: (batch x length)\n",
        "    Returns:\n",
        "        restored patches\n",
        "    Hint: use index_sequence function on an array with the kept and masked tokens concatenated\n",
        "    \"\"\"\n",
        "    ############################################################################\n",
        "    # TODO: implement this function\n",
        "    \n",
        "    x_cat = torch.cat([kept_x, masked_x], dim=1)\n",
        "    restored = index_sequence(x_cat, ids_restore)\n",
        "    return restored\n",
        "    \n",
        "    ############################################################################\n",
        "    ############################################################################"
      ]
    },
    {
      "cell_type": "code",
      "execution_count": 25,
      "metadata": {
        "cellView": "form",
        "id": "QxXqQ6Qk9FLX"
      },
      "outputs": [
        {
          "name": "stdout",
          "output_type": "stream",
          "text": [
            "The relative error for random_masking: kept is 0.0\n",
            "The relative error for random_masking: mask is 0.0\n",
            "The relative error for random_masking: ids_restore is 0.0\n",
            "The relative error for restore_masked is 0.0\n"
          ]
        }
      ],
      "source": [
        "#@title Test your implementation\n",
        "x, ids_shuffle = test_data['input']['random_masking']\n",
        "kept, mask, ids_restore = random_masking(x, 4, ids_shuffle)\n",
        "kept_t, mask_t, ids_restore_t = test_data['output']['random_masking']\n",
        "check_error('random_masking: kept', kept, kept_t)\n",
        "check_error('random_masking: mask', mask, mask_t)\n",
        "check_error('random_masking: ids_restore', ids_restore, ids_restore_t)\n",
        "\n",
        "x, ids_shuffle = auto_grader_data['input']['random_masking']\n",
        "kept, mask, ids_restore = random_masking(x, 4, ids_shuffle)\n",
        "auto_grader_data['output']['random_masking'] = (kept, mask, ids_restore)\n",
        "save_auto_grader_data()\n",
        "\n",
        "kept_x, masked_x, ids_restore = test_data['input']['restore_masked']\n",
        "restored = restore_masked(kept_x, masked_x, ids_restore)\n",
        "check_error('restore_masked', restored, test_data['output']['restore_masked'])\n",
        "\n",
        "kept_x, masked_x, ids_restore = auto_grader_data['input']['restore_masked']\n",
        "restored = restore_masked(kept_x, masked_x, ids_restore)\n",
        "auto_grader_data['output']['restore_masked'] = (kept, mask, ids_restore)\n",
        "save_auto_grader_data()"
      ]
    },
    {
      "cell_type": "markdown",
      "metadata": {
        "id": "UKw9lgIasUjU"
      },
      "source": [
        "### Masked Autoencoder\n",
        "\n",
        "**Implement the following methods of `MaskedAutoEncoder`**:\n",
        "\n",
        "- `forward_encoder`: Encodes the input images. It involves patchifying images into patches, randomly masking some patches, and encode the masked image with the ViT encoder. The mask information should also be returned, which will then be passed to the `forward` method.\n",
        "\n",
        "- `forward_decoder`: Decodes the encoder embeddings. It involves restoring the sequence from masked patches and encoder predictions using ViT decoder, and projecting to predict image patches.\n",
        "\n",
        "- `forward_encoder_representation`: Encodes images without applying random masking to get a representation of the input images."
      ]
    },
    {
      "cell_type": "code",
      "execution_count": 112,
      "metadata": {
        "id": "9ud7I0SXK0mk"
      },
      "outputs": [],
      "source": [
        "\n",
        "class MaskedAutoEncoder(nn.Module):\n",
        "    \"\"\"MAE Encoder\n",
        "    Args:\n",
        "        encoder: vit encoder\n",
        "        decoder: vit decoder\n",
        "        encoder_embedding_dim: embedding size of encoder\n",
        "        decoder_embedding_dim: embedding size of decoder\n",
        "        patch_size: image patch size\n",
        "        num_patches: number of patches\n",
        "        mask_ratio: percentage of masked patches\n",
        "    \"\"\"\n",
        "    def __init__(self, encoder, decoder, encoder_embedding_dim=256,\n",
        "                 decoder_embedding_dim=128, patch_size=4, num_patches=8,\n",
        "                 mask_ratio=0.75):\n",
        "        super().__init__()\n",
        "        self.encoder_embedding_dim = encoder_embedding_dim\n",
        "        self.decoder_embedding_dim = decoder_embedding_dim\n",
        "        self.patch_size = patch_size\n",
        "        self.num_patches = num_patches\n",
        "        self.mask_ratio = mask_ratio\n",
        "\n",
        "        self.masked_length = int(num_patches * num_patches * mask_ratio)\n",
        "        self.keep_length = num_patches * num_patches - self.masked_length\n",
        "\n",
        "        self.encoder = encoder\n",
        "        self.decoder = decoder\n",
        "\n",
        "        self.encoder_input_projection = nn.Linear(patch_size * patch_size * 3, encoder_embedding_dim)\n",
        "        self.decoder_input_projection = nn.Linear(encoder_embedding_dim, decoder_embedding_dim)\n",
        "        self.decoder_output_projection = nn.Linear(decoder_embedding_dim, patch_size * patch_size * 3)\n",
        "        self.cls_token = nn.Parameter(torch.randn(1, 1, encoder_embedding_dim) * 0.02)\n",
        "        self.encoder_position_encoding = nn.Parameter(torch.randn(1, num_patches * num_patches, encoder_embedding_dim) * 0.02)\n",
        "        self.decoder_position_encoding = nn.Parameter(torch.randn(1, num_patches * num_patches, decoder_embedding_dim) * 0.02)\n",
        "        self.masked_tokens = nn.Parameter(torch.randn(1, 1, decoder_embedding_dim) * 0.02)\n",
        "\n",
        "    def forward_encoder(self, images, ids_shuffle=None):\n",
        "        \"\"\"\n",
        "        Encode input images using the following steps:\n",
        "\n",
        "        1. Divide the images into smaller patches using the `patchify` function.\n",
        "        2. Apply a linear projection to each image patch.\n",
        "        3. Add position encoding to the projected patches.\n",
        "        4. Mask out a subset of patches using the `random_masking` function.\n",
        "           - Note that `ids_shuffle` is optional. If it is omitted, you need to\n",
        "             generate a random permutation of patch indices and pass it to the\n",
        "             `random_masking` function\n",
        "        5. Concatenate the CLS token embedding with the masked patch embeddings.\n",
        "           - The embedding of the CLS token is defined as `self.cls_token`\n",
        "        6. Pass the combined tensor to the ViT encoder and return its output,\n",
        "           along with the mask and the ids_restore tensor obtained in step 4.\n",
        "        \"\"\"\n",
        "        ########################################################################\n",
        "        # TODO: implement this function\n",
        "        \n",
        "        #（1）Divide the images into smaller patches using the `patchify` function\n",
        "        pathes = patchify(images, self.patch_size)\n",
        "        batch_size, num_patches, length = pathes.shape\n",
        "        flat_patches = pathes.view(batch_size * num_patches, -1)\n",
        "        \n",
        "        # (2) Apply a linear projection to each image patch.\n",
        "        flat_embed_patches = self.encoder_input_projection(flat_patches)\n",
        "        embed_patches = flat_embed_patches.view(batch_size, num_patches, -1)\n",
        "        # embed_patches: (batch_size, num_patches, embedding_dim)\n",
        "        \n",
        "        #cls_token = self.cls_token.expand(batch_size, -1, -1)\n",
        "        #cls_embed_patches = torch.cat([cls_token, embed_patches], dim=1)\n",
        "        # cls_embed_patches: (batch_size, num_patches+1, embedding_dim)\n",
        "        \n",
        "        # (3) Add position embeddings\n",
        "        pos_patches = embed_patches + self.encoder_position_encoding\n",
        "        \n",
        "        # (4) mask\n",
        "        if(ids_shuffle == None):\n",
        "           ids_shuffle = [torch.randperm(num_patches) for _ in range(batch_size)]\n",
        "           ids_shuffle = torch.stack(ids_shuffle, dim=0).to(torch_device)\n",
        "        \n",
        "        kept_patches, mask, ids_restore = random_masking(pos_patches, self.keep_length, ids_shuffle)\n",
        "        \n",
        "        # (5) concatenate the CLS token embedding with masked patch embeddings\n",
        "        cls_token = self.cls_token.expand(batch_size, -1, -1)\n",
        "        kept_cls_patches = torch.cat([cls_token, kept_patches], dim=1)\n",
        "        \n",
        "        # (6) pass the combined tensor to the ViT encoder\n",
        "        # print(\"kept_cls_patches shape: \", kept_cls_patches.shape)\n",
        "        encoder_output = self.encoder(kept_cls_patches)\n",
        "        \n",
        "        return encoder_output, mask, ids_restore\n",
        "        \n",
        "        ########################################################################\n",
        "        ########################################################################\n",
        "\n",
        "    def forward_decoder(self, encoder_embeddings, ids_restore):\n",
        "        \"\"\"\n",
        "        Decode encoder embeddings using the following steps:\n",
        "\n",
        "        1. Apply a linear projection to the encoder output.\n",
        "        2. Extract the CLS token from the projected decoder embeddings and set\n",
        "           it aside.\n",
        "        3. Restore the sequence by inserting MASK tokens into the decoder\n",
        "           embeddings, while also removing the CLS token from the sequence.\n",
        "           - The embedding of the MASK token is defined as `self.masked_tokens`\n",
        "        4. Add position encoding to the restored decoder embeddings.\n",
        "        5. Re-concatenate the CLS token with the decoder embeddings.\n",
        "        6. Pass the combined tensor to the ViT decoder, and retrieve the decoder\n",
        "           output by excluding the CLS token.\n",
        "        7. Apply the decoder output projection to the decoder output to predict\n",
        "           image patches, and return the result.\n",
        "        \"\"\"\n",
        "        ########################################################################\n",
        "        # TODO: implement this function\n",
        "        \n",
        "        # (1) apply a linear projection to the encoder output\n",
        "        #print(\"encoder_embeddings shape: \", encoder_embeddings.shape)\n",
        "        decoder_input = self.decoder_input_projection(encoder_embeddings)\n",
        "        #print(\"decoder_input shape: \", decoder_input.shape)\n",
        "        \n",
        "        # (2) extract the cls token from the projected decoder\n",
        "        cls_token = decoder_input[:, 0:1, :]\n",
        "        decoder_input = decoder_input[:,1:,:]\n",
        "        batch_size, num_patches, _ = decoder_input.shape\n",
        "        #print(\"decoder_input shape: \", decoder_input.shape)\n",
        "        #print(\"masked_token size: \", self.masked_tokens.shape)\n",
        "        \n",
        "        # (3) restore the sequence\n",
        "        masked_tokens = self.masked_tokens.expand(batch_size, self.masked_length, -1)\n",
        "        restore_input = restore_masked(decoder_input, masked_tokens, ids_restore)\n",
        "        #print(\"restore input shape: \", restore_input.shape)\n",
        "        \n",
        "        # (4) add position encoding to the restored decoder embeddings\n",
        "        pos_restore_input = restore_input + self.decoder_position_encoding\n",
        "        #print(\"pos_restore_input shape: \", pos_restore_input.shape)\n",
        "        #print(\"cls_token shape: \", cls_token.shape)\n",
        "        \n",
        "        # (5) re_concatenate the cls token with the decoder embeddings\n",
        "        pos_cls_input = torch.cat([cls_token, pos_restore_input], dim=1)\n",
        "        #print(\"pos_cls_input shape: \",pos_cls_input.shape)\n",
        "        \n",
        "        # (6) pass the combined tensor to the Vit decoder\n",
        "        cls_decoder_output = self.decoder(pos_cls_input)\n",
        "        # excluding the CLS token\n",
        "        decoder_output = cls_decoder_output[:, 1:, :]\n",
        "        \n",
        "        # (7) apply the decoder output projection to the decoder output\n",
        "        decoder_projection = self.decoder_output_projection(decoder_output)\n",
        "        \n",
        "        return decoder_projection\n",
        "        \n",
        "        ########################################################################\n",
        "        ########################################################################\n",
        "\n",
        "    def forward(self, images):\n",
        "        encoder_output, mask, ids_restore = self.forward_encoder(images)\n",
        "        decoder_output = self.forward_decoder(encoder_output, ids_restore)\n",
        "        #print(\"decoder_output shape: \", decoder_output.shape)\n",
        "        return decoder_output, mask\n",
        "\n",
        "    def forward_encoder_representation(self, images):\n",
        "        \"\"\"\n",
        "        Encode input images **without** applying random masking, following step\n",
        "        1, 2, 3, 5, 6 of `forward_encoder`\n",
        "        \"\"\"\n",
        "        ########################################################################\n",
        "        # TODO: implement this function\n",
        "        pathes = patchify(images, self.patch_size)\n",
        "        batch_size, num_patches, length = pathes.shape\n",
        "        flat_patches = pathes.view(batch_size * num_patches, -1)\n",
        "        flat_embed_patches = self.encoder_input_projection(flat_patches)\n",
        "        embed_patches = flat_embed_patches.view(batch_size, num_patches, -1)\n",
        "        pos_patches = embed_patches + self.encoder_position_encoding\n",
        "        cls_token = self.cls_token.expand(batch_size, -1, -1)\n",
        "        cls_patches = torch.cat([cls_token, pos_patches], dim=1)\n",
        "        encoder_output = self.encoder(cls_patches)\n",
        "        \n",
        "        return encoder_output\n",
        "        ########################################################################\n",
        "        ########################################################################"
      ]
    },
    {
      "cell_type": "code",
      "execution_count": 90,
      "metadata": {
        "cellView": "form",
        "id": "obJhGP5vfaBl"
      },
      "outputs": [
        {
          "name": "stdout",
          "output_type": "stream",
          "text": [
            "The relative error for MaskedAutoEncoder.forward_encoder: encoder_embeddings is 0.001419083564542234\n",
            "The relative error for MaskedAutoEncoder.forward_encoder: mask is 0.0\n",
            "The relative error for MaskedAutoEncoder.forward_encoder: ids_restore is 0.0\n",
            "The relative error for MaskedAutoEncoder.forward_decoder is 0.035010941326618195\n",
            "The relative error for MaskedAutoEncoder.forward_encoder_representation is 0.002085419837385416\n"
          ]
        }
      ],
      "source": [
        "#@title Test your implementation\n",
        "model = MaskedAutoEncoder(\n",
        "    Transformer(embedding_dim=256, n_layers=4),\n",
        "    Transformer(embedding_dim=128, n_layers=2),\n",
        ")\n",
        "\n",
        "model.load_state_dict(test_data['weights']['MaskedAutoEncoder'])\n",
        "images, ids_shuffle = test_data['input']['MaskedAutoEncoder.forward_encoder']\n",
        "encoder_embeddings_t, mask_t, ids_restore_t = test_data['output']['MaskedAutoEncoder.forward_encoder']\n",
        "encoder_embeddings, mask, ids_restore = model.forward_encoder(\n",
        "    images, ids_shuffle\n",
        ")\n",
        "\n",
        "check_error(\n",
        "    'MaskedAutoEncoder.forward_encoder: encoder_embeddings',\n",
        "    encoder_embeddings, encoder_embeddings_t, .008\n",
        ")\n",
        "check_error(\n",
        "    'MaskedAutoEncoder.forward_encoder: mask',\n",
        "    mask, mask_t\n",
        ")\n",
        "check_error(\n",
        "    'MaskedAutoEncoder.forward_encoder: ids_restore',\n",
        "    ids_restore, ids_restore_t\n",
        ")\n",
        "\n",
        "encoder_embeddings, ids_restore = test_data['input']['MaskedAutoEncoder.forward_decoder']\n",
        "decoder_output_t = test_data['output']['MaskedAutoEncoder.forward_decoder']\n",
        "decoder_output = model.forward_decoder(encoder_embeddings, ids_restore)\n",
        "check_error(\n",
        "    'MaskedAutoEncoder.forward_decoder',\n",
        "    decoder_output,\n",
        "    #decoder_output_t, .03\n",
        "    decoder_output_t, .04\n",
        ")\n",
        "\n",
        "images = test_data['input']['MaskedAutoEncoder.forward_encoder_representation']\n",
        "encoder_representations_t = test_data['output']['MaskedAutoEncoder.forward_encoder_representation']\n",
        "encoder_representations = model.forward_encoder_representation(images)\n",
        "check_error(\n",
        "    'MaskedAutoEncoder.forward_encoder_representation',\n",
        "    encoder_representations,\n",
        "    encoder_representations_t, .01\n",
        ")\n",
        "\n",
        "\n",
        "\n",
        "model = MaskedAutoEncoder(\n",
        "    Transformer(embedding_dim=256, n_layers=4),\n",
        "    Transformer(embedding_dim=128, n_layers=2),\n",
        ")\n",
        "\n",
        "model.load_state_dict(auto_grader_data['weights']['MaskedAutoEncoder'])\n",
        "images, ids_shuffle = auto_grader_data['input']['MaskedAutoEncoder.forward_encoder']\n",
        "auto_grader_data['output']['MaskedAutoEncoder.forward_encoder'] = model.forward_encoder(\n",
        "    images, ids_shuffle\n",
        ")\n",
        "\n",
        "encoder_embeddings, ids_restore = auto_grader_data['input']['MaskedAutoEncoder.forward_decoder']\n",
        "auto_grader_data['output']['MaskedAutoEncoder.forward_decoder'] = model.forward_decoder(encoder_embeddings, ids_restore)\n",
        "\n",
        "images = auto_grader_data['input']['MaskedAutoEncoder.forward_encoder_representation']\n",
        "auto_grader_data['output']['MaskedAutoEncoder.forward_encoder_representation'] = model.forward_encoder_representation(images)\n",
        "save_auto_grader_data()\n"
      ]
    },
    {
      "cell_type": "markdown",
      "metadata": {
        "id": "t4KO8ZzAOyJ_"
      },
      "source": [
        "### Train Masked Autoencoder\n",
        "\n",
        "This should take less than 15 minutes on Google Colab."
      ]
    },
    {
      "cell_type": "code",
      "execution_count": 82,
      "metadata": {
        "id": "A3WJB5fLqSbl"
      },
      "outputs": [
        {
          "data": {
            "application/vnd.jupyter.widget-view+json": {
              "model_id": "aa2fc94798204f0892d6fe3c05faf98a",
              "version_major": 2,
              "version_minor": 0
            },
            "text/plain": [
              "  0%|          | 0/20 [00:00<?, ?it/s]"
            ]
          },
          "metadata": {},
          "output_type": "display_data"
        },
        {
          "data": {
            "application/vnd.jupyter.widget-view+json": {
              "model_id": "1a6e0426c30c460981595eba7a878796",
              "version_major": 2,
              "version_minor": 0
            },
            "text/plain": [
              "  0%|          | 0/391 [00:00<?, ?it/s]"
            ]
          },
          "metadata": {},
          "output_type": "display_data"
        },
        {
          "data": {
            "application/vnd.jupyter.widget-view+json": {
              "model_id": "ff2d2b9848774748be9a7211a30f3df6",
              "version_major": 2,
              "version_minor": 0
            },
            "text/plain": [
              "  0%|          | 0/391 [00:00<?, ?it/s]"
            ]
          },
          "metadata": {},
          "output_type": "display_data"
        },
        {
          "data": {
            "application/vnd.jupyter.widget-view+json": {
              "model_id": "73966c3db689447a9d168069d77f1378",
              "version_major": 2,
              "version_minor": 0
            },
            "text/plain": [
              "  0%|          | 0/391 [00:00<?, ?it/s]"
            ]
          },
          "metadata": {},
          "output_type": "display_data"
        },
        {
          "data": {
            "application/vnd.jupyter.widget-view+json": {
              "model_id": "4aa0bfae49ca42059f33cc8489b810dd",
              "version_major": 2,
              "version_minor": 0
            },
            "text/plain": [
              "  0%|          | 0/391 [00:00<?, ?it/s]"
            ]
          },
          "metadata": {},
          "output_type": "display_data"
        },
        {
          "data": {
            "application/vnd.jupyter.widget-view+json": {
              "model_id": "41f3233e4bde44c19cf826e43dd9c587",
              "version_major": 2,
              "version_minor": 0
            },
            "text/plain": [
              "  0%|          | 0/391 [00:00<?, ?it/s]"
            ]
          },
          "metadata": {},
          "output_type": "display_data"
        },
        {
          "data": {
            "application/vnd.jupyter.widget-view+json": {
              "model_id": "82160cba4d304257a452e1885f8d001a",
              "version_major": 2,
              "version_minor": 0
            },
            "text/plain": [
              "  0%|          | 0/391 [00:00<?, ?it/s]"
            ]
          },
          "metadata": {},
          "output_type": "display_data"
        },
        {
          "data": {
            "application/vnd.jupyter.widget-view+json": {
              "model_id": "eb61056999d94405bb61b4a9340b5d85",
              "version_major": 2,
              "version_minor": 0
            },
            "text/plain": [
              "  0%|          | 0/391 [00:00<?, ?it/s]"
            ]
          },
          "metadata": {},
          "output_type": "display_data"
        },
        {
          "data": {
            "application/vnd.jupyter.widget-view+json": {
              "model_id": "c35677e527224ee691f1bc723f44f059",
              "version_major": 2,
              "version_minor": 0
            },
            "text/plain": [
              "  0%|          | 0/391 [00:00<?, ?it/s]"
            ]
          },
          "metadata": {},
          "output_type": "display_data"
        },
        {
          "data": {
            "application/vnd.jupyter.widget-view+json": {
              "model_id": "6e6225bdca384890bbcc92a776c5c39d",
              "version_major": 2,
              "version_minor": 0
            },
            "text/plain": [
              "  0%|          | 0/391 [00:00<?, ?it/s]"
            ]
          },
          "metadata": {},
          "output_type": "display_data"
        },
        {
          "data": {
            "application/vnd.jupyter.widget-view+json": {
              "model_id": "3e4c903c704d4d1d8a53156c942d99af",
              "version_major": 2,
              "version_minor": 0
            },
            "text/plain": [
              "  0%|          | 0/391 [00:00<?, ?it/s]"
            ]
          },
          "metadata": {},
          "output_type": "display_data"
        },
        {
          "data": {
            "application/vnd.jupyter.widget-view+json": {
              "model_id": "a69c66e0a3de4d2cabd3f8ff28c6092f",
              "version_major": 2,
              "version_minor": 0
            },
            "text/plain": [
              "  0%|          | 0/391 [00:00<?, ?it/s]"
            ]
          },
          "metadata": {},
          "output_type": "display_data"
        },
        {
          "data": {
            "application/vnd.jupyter.widget-view+json": {
              "model_id": "9ae063f06e8543b8b01463f866bdefc1",
              "version_major": 2,
              "version_minor": 0
            },
            "text/plain": [
              "  0%|          | 0/391 [00:00<?, ?it/s]"
            ]
          },
          "metadata": {},
          "output_type": "display_data"
        },
        {
          "data": {
            "application/vnd.jupyter.widget-view+json": {
              "model_id": "eea6d29a212c44a1b0f62752ea5f1760",
              "version_major": 2,
              "version_minor": 0
            },
            "text/plain": [
              "  0%|          | 0/391 [00:00<?, ?it/s]"
            ]
          },
          "metadata": {},
          "output_type": "display_data"
        },
        {
          "data": {
            "application/vnd.jupyter.widget-view+json": {
              "model_id": "3e8e8d9f91484b78a23d27885084f356",
              "version_major": 2,
              "version_minor": 0
            },
            "text/plain": [
              "  0%|          | 0/391 [00:00<?, ?it/s]"
            ]
          },
          "metadata": {},
          "output_type": "display_data"
        },
        {
          "data": {
            "application/vnd.jupyter.widget-view+json": {
              "model_id": "d952ce6cfab5466ab2cbbb2910241d9c",
              "version_major": 2,
              "version_minor": 0
            },
            "text/plain": [
              "  0%|          | 0/391 [00:00<?, ?it/s]"
            ]
          },
          "metadata": {},
          "output_type": "display_data"
        },
        {
          "data": {
            "application/vnd.jupyter.widget-view+json": {
              "model_id": "eb99dbae3f064ce4b0ae09646c70298d",
              "version_major": 2,
              "version_minor": 0
            },
            "text/plain": [
              "  0%|          | 0/391 [00:00<?, ?it/s]"
            ]
          },
          "metadata": {},
          "output_type": "display_data"
        },
        {
          "data": {
            "application/vnd.jupyter.widget-view+json": {
              "model_id": "0aad052682ae4d91a1170ec4186ef243",
              "version_major": 2,
              "version_minor": 0
            },
            "text/plain": [
              "  0%|          | 0/391 [00:00<?, ?it/s]"
            ]
          },
          "metadata": {},
          "output_type": "display_data"
        },
        {
          "data": {
            "application/vnd.jupyter.widget-view+json": {
              "model_id": "9bae5caac0834da691afdd639e775e9c",
              "version_major": 2,
              "version_minor": 0
            },
            "text/plain": [
              "  0%|          | 0/391 [00:00<?, ?it/s]"
            ]
          },
          "metadata": {},
          "output_type": "display_data"
        },
        {
          "data": {
            "application/vnd.jupyter.widget-view+json": {
              "model_id": "036394391bce4e539cf4b6df1a91d0eb",
              "version_major": 2,
              "version_minor": 0
            },
            "text/plain": [
              "  0%|          | 0/391 [00:00<?, ?it/s]"
            ]
          },
          "metadata": {},
          "output_type": "display_data"
        },
        {
          "data": {
            "application/vnd.jupyter.widget-view+json": {
              "model_id": "33f5e7e4d39a4beaa7283d6aaa611c89",
              "version_major": 2,
              "version_minor": 0
            },
            "text/plain": [
              "  0%|          | 0/391 [00:00<?, ?it/s]"
            ]
          },
          "metadata": {},
          "output_type": "display_data"
        },
        {
          "data": {
            "text/plain": [
              "Text(0.5, 1.0, 'MAE Train Loss')"
            ]
          },
          "execution_count": 82,
          "metadata": {},
          "output_type": "execute_result"
        },
        {
          "data": {
            "image/png": "[encoded data removed]",
            "text/plain": [
              "<Figure size 640x480 with 1 Axes>"
            ]
          },
          "metadata": {},
          "output_type": "display_data"
        }
      ],
      "source": [
        "# Initilize MAE model\n",
        "model = MaskedAutoEncoder(\n",
        "    Transformer(embedding_dim=256, n_layers=4),\n",
        "    Transformer(embedding_dim=128, n_layers=2),\n",
        ")\n",
        "# Move the model to GPU\n",
        "model.to(torch_device)\n",
        "# Create optimizer\n",
        "\n",
        "# You may want to tune these hyperparameters to get better performance\n",
        "optimizer = optim.AdamW(model.parameters(), lr=1e-4, betas=(0.9, 0.95), weight_decay=0.05)\n",
        "\n",
        "total_steps = 0\n",
        "num_epochs = 20\n",
        "train_logfreq = 100\n",
        "\n",
        "losses = []\n",
        "\n",
        "epoch_iterator = trange(num_epochs)\n",
        "for epoch in epoch_iterator:\n",
        "    # Train\n",
        "    data_iterator = tqdm(trainloader)\n",
        "    for x, y in data_iterator:\n",
        "        total_steps += 1\n",
        "        x = x.to(torch_device)\n",
        "        image_patches = patchify(x)\n",
        "        predicted_patches, mask = model(x)\n",
        "        loss = torch.sum(torch.mean(torch.square(image_patches - predicted_patches), dim=-1) * mask) / mask.sum()\n",
        "        optimizer.zero_grad()\n",
        "        loss.backward()\n",
        "        optimizer.step()\n",
        "\n",
        "        data_iterator.set_postfix(loss=loss.item())\n",
        "        if total_steps % train_logfreq == 0:\n",
        "            losses.append(loss.item())\n",
        "\n",
        "    # Periodically save model\n",
        "    torch.save(model.state_dict(), os.path.join(root_folder, \"mae_pretrained.pt\"))\n",
        "\n",
        "plt.plot(losses)\n",
        "plt.title('MAE Train Loss')"
      ]
    },
    {
      "cell_type": "markdown",
      "metadata": {
        "id": "-UV8dPF8Pw4k"
      },
      "source": [
        "### Use pretrained MAE model for classification\n",
        "\n",
        "As ViT has a class token, to adapt to this design, in our MAE pre-training we append an auxiliary dummy token to the encoder input. This token will be treated as the class token for training the classifier in linear probing and fine-tuning.\n",
        "\n",
        "The `ClassificationMAE` class wraps your pretrained MAE and leverage the CLS token for classification. **Implement the `forward` method of `ClassificationMAE`.** It should support two modes controlled by the `detach` flag:\n",
        "\n",
        "- Linear probe mode (`detach` is true): the backpropagation does not run through the pretrained MAE backbone, and only the output classification layer is updated during training.\n",
        "\n",
        "- Full finetuning mode (`detach` is false): the MAE backbone as well as the classification layer is updated during training."
      ]
    },
    {
      "cell_type": "code",
      "execution_count": 124,
      "metadata": {
        "id": "QODCykcJS0ec"
      },
      "outputs": [],
      "source": [
        "\n",
        "class ClassificationMAE(nn.Module):\n",
        "    \"\"\"A linear classifier is trained on self-supervised representations learned by MAE.\n",
        "    Args:\n",
        "        n_classes: number of classes\n",
        "        mae: mae model\n",
        "        embedding_dim: embedding dimension of mae output\n",
        "        detach: if True, only the classification head is updated.\n",
        "    \"\"\"\n",
        "    def __init__(self, n_classes, mae, embedding_dim=256, detach=False):\n",
        "        super().__init__()\n",
        "        self.embedding_dim = embedding_dim\n",
        "        self.mae = mae\n",
        "        self.output_head = nn.Sequential(\n",
        "            nn.LayerNorm(embedding_dim), nn.Linear(embedding_dim, n_classes)\n",
        "        )\n",
        "        self.detach = detach\n",
        "\n",
        "    def forward(self, images):\n",
        "        \"\"\"\n",
        "        Args:\n",
        "            Images: batch of images\n",
        "        Returns:\n",
        "            logits: batch of logits from the ouput_head\n",
        "        Remember to detach the representations if self.detach=True, and\n",
        "        Remember that we do not use masking here.\n",
        "        \"\"\"\n",
        "        \n",
        "        ########################################################################\n",
        "        # TODO: implement this function\n",
        "        \n",
        "        representation = self.mae.forward_encoder_representation(images)\n",
        "        # the first token is classification token, extract it\n",
        "        representation = representation[:, 0, :]\n",
        "        #print(representation.shape)\n",
        "        \n",
        "        if(self.detach):\n",
        "            representation = representation.detach()\n",
        "            \n",
        "        logits = self.output_head(representation)\n",
        "        #print(\"logits shape: \",logits.shape)\n",
        "        return logits\n",
        "        ########################################################################\n",
        "        ########################################################################"
      ]
    },
    {
      "cell_type": "code",
      "execution_count": 125,
      "metadata": {
        "id": "Fi07CiNMt-pX"
      },
      "outputs": [
        {
          "name": "stdout",
          "output_type": "stream",
          "text": [
            "The relative error for ClassificationMAE.forward is 0.00010234936053166166\n"
          ]
        }
      ],
      "source": [
        "#@title Test your implementation\n",
        "model = ClassificationMAE(\n",
        "    10,\n",
        "    MaskedAutoEncoder(\n",
        "        Transformer(embedding_dim=256, n_layers=4),\n",
        "        Transformer(embedding_dim=128, n_layers=2),\n",
        "    )\n",
        ")\n",
        "\n",
        "model.load_state_dict(test_data['weights']['ClassificationMAE'])\n",
        "model = model.to(torch_device)\n",
        "\n",
        "check_error(\n",
        "    'ClassificationMAE.forward',\n",
        "    model(test_data['input']['ClassificationMAE.forward'].to(torch_device)),\n",
        "    test_data['output']['ClassificationMAE.forward'].to(torch_device)\n",
        ")\n",
        "\n",
        "model = ClassificationMAE(\n",
        "    10,\n",
        "    MaskedAutoEncoder(\n",
        "        Transformer(embedding_dim=256, n_layers=4),\n",
        "        Transformer(embedding_dim=128, n_layers=2),\n",
        "    )\n",
        ")\n",
        "\n",
        "model.load_state_dict(auto_grader_data['weights']['ClassificationMAE'])\n",
        "auto_grader_data['output']['ClassificationMAE.forward'] = model(\n",
        "    auto_grader_data['input']['ClassificationMAE.forward']\n",
        ")\n",
        "save_auto_grader_data()"
      ]
    },
    {
      "cell_type": "markdown",
      "metadata": {
        "id": "0gnCcwGlVJ-g"
      },
      "source": [
        "### Load the pretrained MAE model"
      ]
    },
    {
      "cell_type": "code",
      "execution_count": 126,
      "metadata": {
        "id": "DdQEIE_yYuJF"
      },
      "outputs": [
        {
          "data": {
            "text/plain": [
              "<All keys matched successfully>"
            ]
          },
          "execution_count": 126,
          "metadata": {},
          "output_type": "execute_result"
        }
      ],
      "source": [
        "mae = MaskedAutoEncoder(\n",
        "    Transformer(embedding_dim=256, n_layers=4),\n",
        "    Transformer(embedding_dim=128, n_layers=2),\n",
        ")\n",
        "mae.load_state_dict(torch.load(os.path.join(root_folder, \"mae_pretrained.pt\")))"
      ]
    },
    {
      "cell_type": "markdown",
      "metadata": {
        "id": "AyLwLC6VPz2Y"
      },
      "source": [
        "### Linear Classification\n",
        "\n",
        "A linear classifier is trained on self-supervised representations learned by MAE.\n",
        "\n",
        "This should take less than 15 minutes in Google Colab."
      ]
    },
    {
      "cell_type": "code",
      "execution_count": 127,
      "metadata": {
        "id": "KdPfl0MJrfng"
      },
      "outputs": [
        {
          "data": {
            "application/vnd.jupyter.widget-view+json": {
              "model_id": "82d49666d5d34aa48ec71246e0345867",
              "version_major": 2,
              "version_minor": 0
            },
            "text/plain": [
              "  0%|          | 0/20 [00:00<?, ?it/s]"
            ]
          },
          "metadata": {},
          "output_type": "display_data"
        },
        {
          "data": {
            "application/vnd.jupyter.widget-view+json": {
              "model_id": "015cede9e1d646f08b10487d027c22f3",
              "version_major": 2,
              "version_minor": 0
            },
            "text/plain": [
              "  0%|          | 0/391 [00:00<?, ?it/s]"
            ]
          },
          "metadata": {},
          "output_type": "display_data"
        },
        {
          "data": {
            "application/vnd.jupyter.widget-view+json": {
              "model_id": "04579a2cae3f40d58cb6b08966c32dc4",
              "version_major": 2,
              "version_minor": 0
            },
            "text/plain": [
              "  0%|          | 0/391 [00:00<?, ?it/s]"
            ]
          },
          "metadata": {},
          "output_type": "display_data"
        },
        {
          "data": {
            "application/vnd.jupyter.widget-view+json": {
              "model_id": "da5379a5e3fe44839562db1528dfff15",
              "version_major": 2,
              "version_minor": 0
            },
            "text/plain": [
              "  0%|          | 0/391 [00:00<?, ?it/s]"
            ]
          },
          "metadata": {},
          "output_type": "display_data"
        },
        {
          "data": {
            "application/vnd.jupyter.widget-view+json": {
              "model_id": "d33f502a0eed4a7fb30eed75fdd25439",
              "version_major": 2,
              "version_minor": 0
            },
            "text/plain": [
              "  0%|          | 0/391 [00:00<?, ?it/s]"
            ]
          },
          "metadata": {},
          "output_type": "display_data"
        },
        {
          "data": {
            "application/vnd.jupyter.widget-view+json": {
              "model_id": "d81b8a9f83a24ece8cb63852b56166b7",
              "version_major": 2,
              "version_minor": 0
            },
            "text/plain": [
              "  0%|          | 0/391 [00:00<?, ?it/s]"
            ]
          },
          "metadata": {},
          "output_type": "display_data"
        },
        {
          "data": {
            "application/vnd.jupyter.widget-view+json": {
              "model_id": "ef1b43db85a5432f86d8c74249cadc98",
              "version_major": 2,
              "version_minor": 0
            },
            "text/plain": [
              "  0%|          | 0/391 [00:00<?, ?it/s]"
            ]
          },
          "metadata": {},
          "output_type": "display_data"
        },
        {
          "data": {
            "application/vnd.jupyter.widget-view+json": {
              "model_id": "8d5856f4f13c4b3b91767126c4166c75",
              "version_major": 2,
              "version_minor": 0
            },
            "text/plain": [
              "  0%|          | 0/391 [00:00<?, ?it/s]"
            ]
          },
          "metadata": {},
          "output_type": "display_data"
        },
        {
          "data": {
            "application/vnd.jupyter.widget-view+json": {
              "model_id": "d2229d0cc72f4bcf93cfe4d251555c51",
              "version_major": 2,
              "version_minor": 0
            },
            "text/plain": [
              "  0%|          | 0/391 [00:00<?, ?it/s]"
            ]
          },
          "metadata": {},
          "output_type": "display_data"
        },
        {
          "data": {
            "application/vnd.jupyter.widget-view+json": {
              "model_id": "4daa6157f2a14bc5922c781e79d409d4",
              "version_major": 2,
              "version_minor": 0
            },
            "text/plain": [
              "  0%|          | 0/391 [00:00<?, ?it/s]"
            ]
          },
          "metadata": {},
          "output_type": "display_data"
        },
        {
          "data": {
            "application/vnd.jupyter.widget-view+json": {
              "model_id": "4464ff1b05c842378b6111b3728dab77",
              "version_major": 2,
              "version_minor": 0
            },
            "text/plain": [
              "  0%|          | 0/391 [00:00<?, ?it/s]"
            ]
          },
          "metadata": {},
          "output_type": "display_data"
        },
        {
          "data": {
            "application/vnd.jupyter.widget-view+json": {
              "model_id": "4be6fb5938f944dd96ec799f3b2d40b6",
              "version_major": 2,
              "version_minor": 0
            },
            "text/plain": [
              "  0%|          | 0/391 [00:00<?, ?it/s]"
            ]
          },
          "metadata": {},
          "output_type": "display_data"
        },
        {
          "data": {
            "application/vnd.jupyter.widget-view+json": {
              "model_id": "d6c0345e61d142aa9b665f33bdb3d3b0",
              "version_major": 2,
              "version_minor": 0
            },
            "text/plain": [
              "  0%|          | 0/391 [00:00<?, ?it/s]"
            ]
          },
          "metadata": {},
          "output_type": "display_data"
        },
        {
          "data": {
            "application/vnd.jupyter.widget-view+json": {
              "model_id": "f9be77c96e4e466ead6c1b1228f699ee",
              "version_major": 2,
              "version_minor": 0
            },
            "text/plain": [
              "  0%|          | 0/391 [00:00<?, ?it/s]"
            ]
          },
          "metadata": {},
          "output_type": "display_data"
        },
        {
          "data": {
            "application/vnd.jupyter.widget-view+json": {
              "model_id": "c354950789c844ea8ecf23dca562f817",
              "version_major": 2,
              "version_minor": 0
            },
            "text/plain": [
              "  0%|          | 0/391 [00:00<?, ?it/s]"
            ]
          },
          "metadata": {},
          "output_type": "display_data"
        },
        {
          "data": {
            "application/vnd.jupyter.widget-view+json": {
              "model_id": "079b49c7eff747a6b4ebc15356489cc3",
              "version_major": 2,
              "version_minor": 0
            },
            "text/plain": [
              "  0%|          | 0/391 [00:00<?, ?it/s]"
            ]
          },
          "metadata": {},
          "output_type": "display_data"
        },
        {
          "data": {
            "application/vnd.jupyter.widget-view+json": {
              "model_id": "4ca9218216cd44e8a671db611013beda",
              "version_major": 2,
              "version_minor": 0
            },
            "text/plain": [
              "  0%|          | 0/391 [00:00<?, ?it/s]"
            ]
          },
          "metadata": {},
          "output_type": "display_data"
        },
        {
          "data": {
            "application/vnd.jupyter.widget-view+json": {
              "model_id": "10ae1d9ec5564bdeb2374eb7e6ada4e6",
              "version_major": 2,
              "version_minor": 0
            },
            "text/plain": [
              "  0%|          | 0/391 [00:00<?, ?it/s]"
            ]
          },
          "metadata": {},
          "output_type": "display_data"
        },
        {
          "data": {
            "application/vnd.jupyter.widget-view+json": {
              "model_id": "85565f9e02f240f6b689da25f901e9ac",
              "version_major": 2,
              "version_minor": 0
            },
            "text/plain": [
              "  0%|          | 0/391 [00:00<?, ?it/s]"
            ]
          },
          "metadata": {},
          "output_type": "display_data"
        },
        {
          "data": {
            "application/vnd.jupyter.widget-view+json": {
              "model_id": "fe1b3888b508450aa56ef0441916df7e",
              "version_major": 2,
              "version_minor": 0
            },
            "text/plain": [
              "  0%|          | 0/391 [00:00<?, ?it/s]"
            ]
          },
          "metadata": {},
          "output_type": "display_data"
        },
        {
          "data": {
            "application/vnd.jupyter.widget-view+json": {
              "model_id": "164056a962b240358abc66a8ffe72fc1",
              "version_major": 2,
              "version_minor": 0
            },
            "text/plain": [
              "  0%|          | 0/391 [00:00<?, ?it/s]"
            ]
          },
          "metadata": {},
          "output_type": "display_data"
        },
        {
          "data": {
            "text/plain": [
              "Text(0.5, 1.0, 'Linear Classification Val Accuracy')"
            ]
          },
          "execution_count": 127,
          "metadata": {},
          "output_type": "execute_result"
        },
        {
          "data": {
            "image/png": "[encoded data removed]",
            "text/plain": [
              "<Figure size 640x480 with 1 Axes>"
            ]
          },
          "metadata": {},
          "output_type": "display_data"
        },
        {
          "data": {
            "image/png": "[encoded data removed]",
            "text/plain": [
              "<Figure size 640x480 with 1 Axes>"
            ]
          },
          "metadata": {},
          "output_type": "display_data"
        },
        {
          "data": {
            "image/png": "[encoded data removed]",
            "text/plain": [
              "<Figure size 640x480 with 1 Axes>"
            ]
          },
          "metadata": {},
          "output_type": "display_data"
        }
      ],
      "source": [
        "# Initilize classification model; set detach=True to only update the linear classifier.\n",
        "model = ClassificationMAE(10, mae, detach=True)\n",
        "model.to(torch_device)\n",
        "\n",
        "# You may want to tune these hyperparameters to get better performance\n",
        "optimizer = optim.AdamW(model.parameters(), lr=1e-4, betas=(0.9, 0.95), weight_decay=1e-9)\n",
        "\n",
        "total_steps = 0\n",
        "num_epochs = 20\n",
        "train_logfreq = 100\n",
        "losses = []\n",
        "train_acc = []\n",
        "all_val_acc = []\n",
        "best_val_acc = 0\n",
        "\n",
        "epoch_iterator = trange(num_epochs)\n",
        "for epoch in epoch_iterator:\n",
        "    # Train\n",
        "    data_iterator = tqdm(trainloader)\n",
        "    for x, y in data_iterator:\n",
        "        total_steps += 1\n",
        "        x, y = x.to(torch_device), y.to(torch_device)\n",
        "        logits = model(x)\n",
        "        loss = torch.mean(F.cross_entropy(logits, y))\n",
        "        accuracy = torch.mean((torch.argmax(logits, dim=-1) == y).float())\n",
        "        optimizer.zero_grad()\n",
        "        loss.backward()\n",
        "        optimizer.step()\n",
        "\n",
        "        data_iterator.set_postfix(loss=loss.item(), train_acc=accuracy.item())\n",
        "\n",
        "        if total_steps % train_logfreq == 0:\n",
        "            losses.append(loss.item())\n",
        "            train_acc.append(accuracy.item())\n",
        "\n",
        "    # Validation\n",
        "    val_acc = []\n",
        "    model.eval()\n",
        "    for x, y in testloader:\n",
        "        x, y = x.to(torch_device), y.to(torch_device)\n",
        "        with torch.no_grad():\n",
        "          logits = model(x)\n",
        "        accuracy = torch.mean((torch.argmax(logits, dim=-1) == y).float())\n",
        "        val_acc.append(accuracy.item())\n",
        "\n",
        "    model.train()\n",
        "\n",
        "    all_val_acc.append(np.mean(val_acc))\n",
        "\n",
        "    # Save best model\n",
        "    if np.mean(val_acc) > best_val_acc:\n",
        "        best_val_acc = np.mean(val_acc)\n",
        "\n",
        "    epoch_iterator.set_postfix(val_acc=np.mean(val_acc), best_val_acc=best_val_acc)\n",
        "\n",
        "plt.plot(losses)\n",
        "plt.title('Linear Classification Train Loss')\n",
        "plt.figure()\n",
        "plt.plot(train_acc)\n",
        "plt.title('Linear Classification Train Accuracy')\n",
        "plt.figure()\n",
        "plt.plot(all_val_acc)\n",
        "plt.title('Linear Classification Val Accuracy')"
      ]
    },
    {
      "cell_type": "code",
      "execution_count": 128,
      "metadata": {
        "id": "RwXyr42cDYr3"
      },
      "outputs": [
        {
          "name": "stdout",
          "output_type": "stream",
          "text": [
            "The accuracy 0.35660601265822783 is better than threshold accuracy 0.3\n"
          ]
        }
      ],
      "source": [
        "#@title Test your implementation\n",
        "auto_grader_data['output']['mae_linear_acc'] = best_val_acc\n",
        "save_auto_grader_data()\n",
        "check_acc(best_val_acc, threshold=0.30)"
      ]
    },
    {
      "cell_type": "markdown",
      "metadata": {
        "id": "frkTBj1wQo_R"
      },
      "source": [
        "### Full Finetuning\n",
        "\n",
        "A linear classifer and the pretrained MAE model are jointly updated.\n",
        "\n",
        "This should take less than 15 minutes in Google Colab."
      ]
    },
    {
      "cell_type": "code",
      "execution_count": 129,
      "metadata": {
        "id": "dGTMdBgci8PW"
      },
      "outputs": [
        {
          "data": {
            "application/vnd.jupyter.widget-view+json": {
              "model_id": "a5fe0168206146a2b5384ee4a90f0b27",
              "version_major": 2,
              "version_minor": 0
            },
            "text/plain": [
              "  0%|          | 0/20 [00:00<?, ?it/s]"
            ]
          },
          "metadata": {},
          "output_type": "display_data"
        },
        {
          "data": {
            "application/vnd.jupyter.widget-view+json": {
              "model_id": "c6169429143b488081c4d6ca5de5f591",
              "version_major": 2,
              "version_minor": 0
            },
            "text/plain": [
              "  0%|          | 0/391 [00:00<?, ?it/s]"
            ]
          },
          "metadata": {},
          "output_type": "display_data"
        },
        {
          "data": {
            "application/vnd.jupyter.widget-view+json": {
              "model_id": "9666ede10d7e499f809b36ac38fa2616",
              "version_major": 2,
              "version_minor": 0
            },
            "text/plain": [
              "  0%|          | 0/391 [00:00<?, ?it/s]"
            ]
          },
          "metadata": {},
          "output_type": "display_data"
        },
        {
          "data": {
            "application/vnd.jupyter.widget-view+json": {
              "model_id": "e5c188f9332f43c5b4595e708bdef949",
              "version_major": 2,
              "version_minor": 0
            },
            "text/plain": [
              "  0%|          | 0/391 [00:00<?, ?it/s]"
            ]
          },
          "metadata": {},
          "output_type": "display_data"
        },
        {
          "data": {
            "application/vnd.jupyter.widget-view+json": {
              "model_id": "d41739d6da034d229abe4e8913efef85",
              "version_major": 2,
              "version_minor": 0
            },
            "text/plain": [
              "  0%|          | 0/391 [00:00<?, ?it/s]"
            ]
          },
          "metadata": {},
          "output_type": "display_data"
        },
        {
          "data": {
            "application/vnd.jupyter.widget-view+json": {
              "model_id": "fd91f628dc9b45d4b7708dcf44b423a3",
              "version_major": 2,
              "version_minor": 0
            },
            "text/plain": [
              "  0%|          | 0/391 [00:00<?, ?it/s]"
            ]
          },
          "metadata": {},
          "output_type": "display_data"
        },
        {
          "data": {
            "application/vnd.jupyter.widget-view+json": {
              "model_id": "e709c6c6814346098ecb9fdb486b1d8f",
              "version_major": 2,
              "version_minor": 0
            },
            "text/plain": [
              "  0%|          | 0/391 [00:00<?, ?it/s]"
            ]
          },
          "metadata": {},
          "output_type": "display_data"
        },
        {
          "data": {
            "application/vnd.jupyter.widget-view+json": {
              "model_id": "37169df1e806487bb4765698702fdcdc",
              "version_major": 2,
              "version_minor": 0
            },
            "text/plain": [
              "  0%|          | 0/391 [00:00<?, ?it/s]"
            ]
          },
          "metadata": {},
          "output_type": "display_data"
        },
        {
          "data": {
            "application/vnd.jupyter.widget-view+json": {
              "model_id": "c4cc5ac8e56a49bdbf638e23323b2df1",
              "version_major": 2,
              "version_minor": 0
            },
            "text/plain": [
              "  0%|          | 0/391 [00:00<?, ?it/s]"
            ]
          },
          "metadata": {},
          "output_type": "display_data"
        },
        {
          "data": {
            "application/vnd.jupyter.widget-view+json": {
              "model_id": "08d04f9734da4a4785cdcd58800df8ed",
              "version_major": 2,
              "version_minor": 0
            },
            "text/plain": [
              "  0%|          | 0/391 [00:00<?, ?it/s]"
            ]
          },
          "metadata": {},
          "output_type": "display_data"
        },
        {
          "data": {
            "application/vnd.jupyter.widget-view+json": {
              "model_id": "6b3a4c5fc4dc4517831d2e74e0537080",
              "version_major": 2,
              "version_minor": 0
            },
            "text/plain": [
              "  0%|          | 0/391 [00:00<?, ?it/s]"
            ]
          },
          "metadata": {},
          "output_type": "display_data"
        },
        {
          "data": {
            "application/vnd.jupyter.widget-view+json": {
              "model_id": "da617a64ee074661a0836b7f9fe43d15",
              "version_major": 2,
              "version_minor": 0
            },
            "text/plain": [
              "  0%|          | 0/391 [00:00<?, ?it/s]"
            ]
          },
          "metadata": {},
          "output_type": "display_data"
        },
        {
          "data": {
            "application/vnd.jupyter.widget-view+json": {
              "model_id": "ded23200362f44d1bcf43ac727e03f54",
              "version_major": 2,
              "version_minor": 0
            },
            "text/plain": [
              "  0%|          | 0/391 [00:00<?, ?it/s]"
            ]
          },
          "metadata": {},
          "output_type": "display_data"
        },
        {
          "data": {
            "application/vnd.jupyter.widget-view+json": {
              "model_id": "059fb5534cf442dda9010f7880da1691",
              "version_major": 2,
              "version_minor": 0
            },
            "text/plain": [
              "  0%|          | 0/391 [00:00<?, ?it/s]"
            ]
          },
          "metadata": {},
          "output_type": "display_data"
        },
        {
          "data": {
            "application/vnd.jupyter.widget-view+json": {
              "model_id": "355a62f1fdac42968875310c23ac2042",
              "version_major": 2,
              "version_minor": 0
            },
            "text/plain": [
              "  0%|          | 0/391 [00:00<?, ?it/s]"
            ]
          },
          "metadata": {},
          "output_type": "display_data"
        },
        {
          "data": {
            "application/vnd.jupyter.widget-view+json": {
              "model_id": "63526faaad0e43e1a92b10ed14d5d5d1",
              "version_major": 2,
              "version_minor": 0
            },
            "text/plain": [
              "  0%|          | 0/391 [00:00<?, ?it/s]"
            ]
          },
          "metadata": {},
          "output_type": "display_data"
        },
        {
          "data": {
            "application/vnd.jupyter.widget-view+json": {
              "model_id": "a814793ba04d484587d88629147436ad",
              "version_major": 2,
              "version_minor": 0
            },
            "text/plain": [
              "  0%|          | 0/391 [00:00<?, ?it/s]"
            ]
          },
          "metadata": {},
          "output_type": "display_data"
        },
        {
          "data": {
            "application/vnd.jupyter.widget-view+json": {
              "model_id": "2c5a01a0681549e7b9c25af1cfa30605",
              "version_major": 2,
              "version_minor": 0
            },
            "text/plain": [
              "  0%|          | 0/391 [00:00<?, ?it/s]"
            ]
          },
          "metadata": {},
          "output_type": "display_data"
        },
        {
          "data": {
            "application/vnd.jupyter.widget-view+json": {
              "model_id": "afc88e3e5a0644638e85d3e63f9c6ec0",
              "version_major": 2,
              "version_minor": 0
            },
            "text/plain": [
              "  0%|          | 0/391 [00:00<?, ?it/s]"
            ]
          },
          "metadata": {},
          "output_type": "display_data"
        },
        {
          "data": {
            "application/vnd.jupyter.widget-view+json": {
              "model_id": "1bd87b09fe834f4a9b4a8689dd9a18d6",
              "version_major": 2,
              "version_minor": 0
            },
            "text/plain": [
              "  0%|          | 0/391 [00:00<?, ?it/s]"
            ]
          },
          "metadata": {},
          "output_type": "display_data"
        },
        {
          "data": {
            "application/vnd.jupyter.widget-view+json": {
              "model_id": "d90f3ac35d8048a4be6ed46bb904b403",
              "version_major": 2,
              "version_minor": 0
            },
            "text/plain": [
              "  0%|          | 0/391 [00:00<?, ?it/s]"
            ]
          },
          "metadata": {},
          "output_type": "display_data"
        },
        {
          "data": {
            "text/plain": [
              "Text(0.5, 1.0, 'Finetune Classification Val Accuracy')"
            ]
          },
          "execution_count": 129,
          "metadata": {},
          "output_type": "execute_result"
        },
        {
          "data": {
            "image/png": "[encoded data removed]",
            "text/plain": [
              "<Figure size 640x480 with 1 Axes>"
            ]
          },
          "metadata": {},
          "output_type": "display_data"
        },
        {
          "data": {
            "image/png": "[encoded data removed]",
            "text/plain": [
              "<Figure size 640x480 with 1 Axes>"
            ]
          },
          "metadata": {},
          "output_type": "display_data"
        },
        {
          "data": {
            "image/png": "[encoded data removed]",
            "text/plain": [
              "<Figure size 640x480 with 1 Axes>"
            ]
          },
          "metadata": {},
          "output_type": "display_data"
        }
      ],
      "source": [
        "# Initilize classification model; set detach=False to update both the linear classifier and pretrained MAE model.\n",
        "model = ClassificationMAE(10, mae, detach=False)\n",
        "model.to(torch_device)\n",
        "\n",
        "# You may want to tune these hyperparameters to get better performance\n",
        "optimizer = optim.AdamW(model.parameters(), lr=1e-4, betas=(0.9, 0.95), weight_decay=1e-9)\n",
        "\n",
        "total_steps = 0\n",
        "num_epochs = 20\n",
        "train_logfreq = 100\n",
        "losses = []\n",
        "train_acc = []\n",
        "all_val_acc = []\n",
        "best_val_acc = 0\n",
        "\n",
        "epoch_iterator = trange(num_epochs)\n",
        "for epoch in epoch_iterator:\n",
        "    # Train\n",
        "    data_iterator = tqdm(trainloader)\n",
        "    for x, y in data_iterator:\n",
        "        total_steps += 1\n",
        "        x, y = x.to(torch_device), y.to(torch_device)\n",
        "        logits = model(x)\n",
        "        loss = torch.mean(F.cross_entropy(logits, y))\n",
        "        accuracy = torch.mean((torch.argmax(logits, dim=-1) == y).float())\n",
        "        optimizer.zero_grad()\n",
        "        loss.backward()\n",
        "        optimizer.step()\n",
        "\n",
        "        data_iterator.set_postfix(loss=loss.item(), train_acc=accuracy.item())\n",
        "\n",
        "        if total_steps % train_logfreq == 0:\n",
        "            losses.append(loss.item())\n",
        "            train_acc.append(accuracy.item())\n",
        "\n",
        "    # Validation\n",
        "    val_acc = []\n",
        "    model.eval()\n",
        "    for x, y in testloader:\n",
        "        x, y = x.to(torch_device), y.to(torch_device)\n",
        "        with torch.no_grad():\n",
        "          logits = model(x)\n",
        "        accuracy = torch.mean((torch.argmax(logits, dim=-1) == y).float())\n",
        "        val_acc.append(accuracy.item())\n",
        "    model.train()\n",
        "\n",
        "    all_val_acc.append(np.mean(val_acc))\n",
        "\n",
        "    # Save best model\n",
        "    if np.mean(val_acc) > best_val_acc:\n",
        "        best_val_acc = np.mean(val_acc)\n",
        "\n",
        "    epoch_iterator.set_postfix(val_acc=np.mean(val_acc), best_val_acc=best_val_acc)\n",
        "\n",
        "plt.plot(losses)\n",
        "plt.title('Finetune Classification Train Loss')\n",
        "plt.figure()\n",
        "plt.plot(train_acc)\n",
        "plt.title('Finetune Classification Train Accuracy')\n",
        "plt.figure()\n",
        "plt.plot(all_val_acc)\n",
        "plt.title('Finetune Classification Val Accuracy')"
      ]
    },
    {
      "cell_type": "code",
      "execution_count": 130,
      "metadata": {
        "id": "Q9k0Ca7MDSFP"
      },
      "outputs": [
        {
          "name": "stdout",
          "output_type": "stream",
          "text": [
            "The accuracy 0.7729430379746836 is better than threshold accuracy 0.7\n"
          ]
        }
      ],
      "source": [
        "#@title Test your implementation\n",
        "auto_grader_data['output']['mae_finetune_acc'] = best_val_acc\n",
        "save_auto_grader_data()\n",
        "check_acc(best_val_acc, threshold=0.70)"
      ]
    },
    {
      "cell_type": "markdown",
      "metadata": {
        "id": "b3i2FR3LQ7hz"
      },
      "source": [
        "## Prepare Gradescope submission\n",
        "\n",
        "**NOTE:** change the following path to your ```root_dir``` in the begining.\n",
        "\n",
        "Run the following cell will automatically prepare and download ```q_mae_submission.zip```.\n",
        "\n",
        "Upload the downloaded file to Gradescope.\n",
        "The Gradescope will run an autograder on the files you submit.\n",
        "\n",
        "It is very unlikely but still possible that your implementation might fail to pass some test cases due to randomness.\n",
        "If you think your code is correct, you can simply rerun the autograder to check check whether it is really due to randomness."
      ]
    },
    {
      "cell_type": "code",
      "execution_count": null,
      "metadata": {
        "id": "NFzRCAcMBu5G"
      },
      "outputs": [],
      "source": [
        "%cd /content/drive/MyDrive/cs182_hw9_mae\n",
        "!pwd # make sure we are in the right dir\n",
        "\n",
        "!rm q_mae_submission.zip\n",
        "!zip q_mae_submission.zip -r *.ipynb autograder.pt\n",
        "\n",
        "from google.colab import files\n",
        "files.download('q_mae_submission.zip')"
      ]
    }
  ],
  "metadata": {
    "accelerator": "GPU",
    "colab": {
      "provenance": []
    },
    "gpuClass": "standard",
    "kernelspec": {
      "display_name": "malning",
      "language": "python",
      "name": "malning"
    },
    "language_info": {
      "codemirror_mode": {
        "name": "ipython",
        "version": 3
      },
      "file_extension": ".py",
      "mimetype": "text/x-python",
      "name": "python",
      "nbconvert_exporter": "python",
      "pygments_lexer": "ipython3",
      "version": "3.7.0"
    },
    "vscode": {
      "interpreter": {
        "hash": "24c732284262cd41d749de7c2ab26fba11a555a98d922bf877eca389ddd668a1"
      }
    }
  },
  "nbformat": 4,
  "nbformat_minor": 0
}
