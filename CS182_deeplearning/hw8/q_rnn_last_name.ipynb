{
  "cells": [
    {
      "cell_type": "markdown",
      "metadata": {
        "id": "oTXE-Dz5v_Oz"
      },
      "source": [
        "# RNN for Last Name Classification\n",
        "\n",
        "Welcome to this assignment where you will train a neural network to predict the probable language of origin for a given last name / family name in Latin alphabets.\n",
        "\n",
        "Throughout this task, you will gain expertise in the following areas:\n",
        "\n",
        "- Preprocessing raw text data for suitable input into an RNN and (Optionally) LSTM.\n",
        "- Utilizing PyTorch to train your recurrent neural network models.\n",
        "- Evaluating your model's performance and making predictions on unseen data.\n",
        "\n",
        "LSTM is out-of-scope this semester and will not be covered in the exams.\n"
      ]
    },
    {
      "cell_type": "markdown",
      "metadata": {
        "id": "5uWqo6Bkv_O2"
      },
      "source": [
        "## Download Data"
      ]
    },
    {
      "cell_type": "code",
      "execution_count": 2,
      "metadata": {
        "id": "KpnWGcRJv_O2"
      },
      "outputs": [],
      "source": [
        "import os\n",
        "os.environ[\"KMP_DUPLICATE_LIB_OK\"]=\"TRUE\"\n",
        "\n",
        "if not os.path.exists(\"data\"):\n",
        "    !wget https://download.pytorch.org/tutorial/data.zip\n",
        "    !unzip data"
      ]
    },
    {
      "cell_type": "markdown",
      "metadata": {
        "id": "ai0cJ9XOv_O3"
      },
      "source": [
        "## Library imports"
      ]
    },
    {
      "cell_type": "markdown",
      "metadata": {
        "id": "aD-B7Ow5v_O4"
      },
      "source": [
        "Before starting, make sure you have all these libraries."
      ]
    },
    {
      "cell_type": "code",
      "execution_count": 3,
      "metadata": {
        "id": "ZQnuyY23v_O4"
      },
      "outputs": [],
      "source": [
        "root_folder = \"\"\n",
        "import os\n",
        "import sys\n",
        "import inspect\n",
        "sys.path.append(root_folder)\n",
        "from collections import Counter\n",
        "import torch\n",
        "from torch import nn\n",
        "import torch.nn.functional as F\n",
        "import torch.optim as optim\n",
        "from tqdm import tqdm\n",
        "\n",
        "import random\n",
        "import numpy as np\n",
        "import json\n",
        "\n",
        "import matplotlib.pyplot as plt\n",
        "# from utils import validate_to_array\n",
        "\n",
        "device = torch.device(\"cuda\" if torch.cuda.is_available() else \"cpu\")\n",
        "\n",
        "import IPython\n",
        "from ipywidgets import interactive, widgets, Layout\n",
        "from IPython.display import display, HTML"
      ]
    },
    {
      "cell_type": "code",
      "execution_count": 4,
      "metadata": {
        "id": "Tp_Rlr_kv_O4"
      },
      "outputs": [],
      "source": [
        "%load_ext autoreload\n",
        "%autoreload 2"
      ]
    },
    {
      "cell_type": "markdown",
      "metadata": {
        "id": "m4pJR2yXv_O4"
      },
      "source": [
        "## Implement the Neural Network"
      ]
    },
    {
      "cell_type": "markdown",
      "metadata": {
        "id": "umochNWwv_O5"
      },
      "source": [
        "The main objective of this task is to predict the probability of a given class given a last name, represented as\n",
        "\n",
        "$$ \\Pr ( y | x_1, x_2, x_3, ..., x_i),$$\n",
        "\n",
        "where $y$ is the category label and each $x_i$ is a character in the last name. Building a basic character-level NLP model has the advantage of understanding how the preprocessing works at a granular level. The character-level network reads words as a sequence of characters, producing a prediction and \"hidden state\" at each step by feeding its previous hidden state into the next step. The final prediction corresponds to the class to which the word belongs.\n",
        "\n",
        "All models in PyTorch inherit from the nn.Module subclass. In this assignment, you will **implement a custom model named `RecurrentClassifier`** that runs either [nn.RNN](https://pytorch.org/docs/stable/generated/torch.nn.RNN.html) or [nn.LSTM](https://pytorch.org/docs/stable/generated/torch.nn.LSTM.html) and define its forward function. The implementation of LSTMs is *optional*.\n",
        "\n",
        "The forward pass of the model can be visualized with the following diagram:\n",
        "\n",
        "```\n",
        "[Embedding] -> [RNN Stack] -> [Extract Last Position] -> [Classifier]\n",
        "```\n",
        "\n",
        "- **Embedding:** This component maps each input word (integer) to a vector of real numbers.\n",
        "    - Input: `[batch_size, seq_len]`\n",
        "    - Output: `[batch_size, seq_len, rnn_size]`\n",
        "- **RNN Stack:** This component consists of one or more RNN layers, which process the input sequence of vectors from the Embedding component.\n",
        "    - Input: `[batch_size, seq_len, rnn_size]`\n",
        "    - Output: `[batch_size, seq_len, rnn_size]`\n",
        "- **Extract Last Position:** The RNN Stack component returns a sequence of vectors for each input example. However, for classification purposes, we only need a single vector that captures the full information of the input example. Since the RNN is left-to-right by default, the output state vector at the last position contains the full information of the input example. Therefore, for the $i$-th input example, we extract the output state vector at the last *non-pad* position, which is indicated by `last_pos[i]`.\n",
        "    - Input: `[batch_size, seq_len, rnn_size]`\n",
        "    - Output: `[batch_size, rnn_size]`\n",
        "- **Classifier:** This component is a fully-connected layer that maps the output vectors extracted in the previous step to logits (scores before softmax), which can be used to make predictions about the language of origin for each input example.\n",
        "    - Input: `[batch_size, rnn_size]`\n",
        "    - Output: `[batch_size, n_categories]`\n",
        "\n",
        "\n",
        "These documents would be helpful in this part:\n",
        "\n",
        "- https://pytorch.org/docs/stable/generated/torch.nn.Embedding.html\n",
        "- https://pytorch.org/docs/stable/generated/torch.nn.RNN.html\n",
        "- https://pytorch.org/docs/stable/generated/torch.gather.html\n",
        "- https://pytorch.org/docs/stable/generated/torch.Tensor.expand.html\n",
        "- https://pytorch.org/docs/stable/generated/torch.Tensor.view.html"
      ]
    },
    {
      "cell_type": "code",
      "execution_count": 5,
      "metadata": {
        "id": "B4pQv-Ozv_O5"
      },
      "outputs": [],
      "source": [
        "class RecurrentClassifier(nn.Module):\n",
        "    def __init__(\n",
        "        self,\n",
        "        vocab_size: int,\n",
        "        rnn_size: int,\n",
        "        n_categories: int,\n",
        "        num_layers: int = 1,\n",
        "        dropout: float = 0.0,\n",
        "        model_type: str = 'lstm'\n",
        "    ):\n",
        "        super().__init__()\n",
        "        self.rnn_size = rnn_size\n",
        "        self.model_type = model_type\n",
        "\n",
        "        ########################################################################\n",
        "        # TODO: Create an embedding layer of shape [vocab_size, rnn_size]\n",
        "        #\n",
        "        # Hint: Use nn.Embedding\n",
        "        # https://pytorch.org/docs/stable/generated/torch.nn.Embedding.html\n",
        "        # It will map each word into a vector of shape [rnn_size]\n",
        "        ########################################################################\n",
        "        self.embedding = nn.Embedding(vocab_size, rnn_size)\n",
        "        ########################################################################\n",
        "\n",
        "        ########################################################################\n",
        "        # TODO: Create a RNN stack with `num_layers` layers with tanh\n",
        "        #       nonlinearity. Between each layers, there is a dropout of\n",
        "        #       `dropout`. Implement it with a *single* call to `torch.nn` APIs\n",
        "        #\n",
        "        # Hint: See documentations at\n",
        "        # https://pytorch.org/docs/stable/generated/torch.nn.RNN.html\n",
        "        # Set the arguments to call `nn.RNN` such that:\n",
        "        # - The shape of the input is [batch_size, seq_len, rnn_size]\n",
        "        # - The shape of the output should be [batch_size, seq_len, rnn_size]\n",
        "        # Make sure that the dimension ordering is correct. One of the argument\n",
        "        #   in the constructor of `nn.RNN` (or `nn.LSTM`) is helpful here\n",
        "        #\n",
        "        # Optional: Implement one LSTM layer when `model_type` is `lstm`\n",
        "        ########################################################################\n",
        "        if model_type == 'lstm':\n",
        "            # set batch_first means input = (batch_size, seq_len, input_size)\n",
        "            # no need to pass seq_len as lstm will get it automatically\n",
        "            self.lstm = nn.LSTM(input_size = rnn_size, hidden_size = rnn_size,\n",
        "                                num_layers = num_layers, dropout = dropout, batch_first = True)\n",
        "        elif model_type == 'rnn':\n",
        "            self.rnn = nn.RNN(input_size = rnn_size, hidden_size = rnn_size,\n",
        "                              num_layers = num_layers, nonlinearity = \"tanh\",\n",
        "                              dropout = dropout, batch_first = True)\n",
        "        ########################################################################\n",
        "\n",
        "        ########################################################################\n",
        "        # TODO: Implement one dropout layer and the fully-connected classifier\n",
        "        #       layer\n",
        "        #\n",
        "        # Hint: We add a dropout layer because neither nn.RNN nor nn.LSTM\n",
        "        #   implements dropout after the last layer in the stack.\n",
        "        # Since the input to the classifier is the output of the last position\n",
        "        #   of the RNN's final layer, it has a shape of [batch_size, rnn_size].\n",
        "        # The expected output should be logits, which correspond to scores\n",
        "        #   before applying softmax, and should have a shape of\n",
        "        #   [batch_size, n_categories].\n",
        "        ########################################################################\n",
        "        self.drop = nn.Dropout(dropout)\n",
        "        self.output = nn.Linear(rnn_size, n_categories)\n",
        "        ########################################################################\n",
        "\n",
        "    def forward(self, x: torch.Tensor, last_pos: torch.Tensor) -> torch.Tensor:\n",
        "        \"\"\"\n",
        "        x: integer tensor of shape [batch_size, seq_len]\n",
        "        last_pos: integer tensor of shape [batch_size]\n",
        "\n",
        "        The input tensor `x` is composed of a batch of sequences, where each\n",
        "        sequence contains indices corresponding to characters. As sequences\n",
        "        within the same batch may have different lengths, shorter sequences are\n",
        "        padded on the right side to match the maximum sequence length of the\n",
        "        batch, which is represented by `seq_len`.\n",
        "\n",
        "        Additionally, the `last_pos` tensor records the position of the last\n",
        "        character in each sequence. For instance, the first sequence in the\n",
        "        batch can be represented as `[x[0, 0], x[0, 1], ..., x[0, last_pos[0]]`.\n",
        "        `last_pos` is useful when extracting the output state associated with\n",
        "        each sequence from the RNNs.\n",
        "        \"\"\"\n",
        "        embeds = self.embedding(x)\n",
        "        if self.model_type == 'lstm':\n",
        "            rnn_out, _ = self.lstm(embeds)\n",
        "        else:\n",
        "            rnn_out, _ = self.rnn(embeds)\n",
        "\n",
        "        ########################################################################\n",
        "        # TODO: Retrieve the output state associated with each sequence\n",
        "        #\n",
        "        # Hints:\n",
        "        # - The output state of all positions is returned by the RNN stack,\n",
        "        #   but we only need the state in the last position for classification\n",
        "        #   - The shape of `rnn_out` is [batch_size, seq_len, rnn_size]\n",
        "        #   - The expected shape of `out` is [batch_size, rnn_size]\n",
        "        # - For the i-th sequence, we have out[i] == rnn_out[i, last_pos[i]]\n",
        "        # - Try to condense your code into a single line, without using any\n",
        "        #   loops. However, if you find it too challenging to do so, you may use\n",
        "        #   a single layer of for-loop.\n",
        "        ########################################################################\n",
        "\n",
        "        batch_size = x.size(0)\n",
        "        seq_len = x.size(1)\n",
        "        indices = last_pos.view(batch_size, 1, 1).expand(batch_size, 1, self.rnn_size)  # Expand dimension\n",
        "        out = rnn_out.gather(1, indices).squeeze(1)\n",
        "        \n",
        "        ########################################################################\n",
        "\n",
        "        out = self.drop(out)\n",
        "        logits = self.output(out)\n",
        "        return logits\n"
      ]
    },
    {
      "cell_type": "markdown",
      "metadata": {
        "id": "wF-9pTrjv_O5"
      },
      "source": [
        "After completing your implementation, ensure that it passes the following tests. If your implementation fails some tests, but you believe that your implementation is correct, please post the error message along with a brief description on Ed. Please refrain from posting your actual code on Ed."
      ]
    },
    {
      "cell_type": "code",
      "execution_count": 6,
      "metadata": {
        "id": "zM7bgaUzv_O5"
      },
      "outputs": [],
      "source": [
        "seed = 227\n",
        "random.seed(seed)\n",
        "np.random.seed(seed)\n",
        "torch.manual_seed(seed)\n",
        "model = RecurrentClassifier(11, 13, 17, 2, 0.1, 'rnn')"
      ]
    },
    {
      "cell_type": "code",
      "execution_count": 7,
      "metadata": {
        "id": "_wyoKd1xv_O5"
      },
      "outputs": [],
      "source": [
        "assert list(model.state_dict().keys()) == ['embedding.weight',\n",
        " 'rnn.weight_ih_l0',\n",
        " 'rnn.weight_hh_l0',\n",
        " 'rnn.bias_ih_l0',\n",
        " 'rnn.bias_hh_l0',\n",
        " 'rnn.weight_ih_l1',\n",
        " 'rnn.weight_hh_l1',\n",
        " 'rnn.bias_ih_l1',\n",
        " 'rnn.bias_hh_l1',\n",
        " 'output.weight',\n",
        " 'output.bias']\n",
        "assert model.embedding.weight.shape == torch.Size([11, 13])\n",
        "assert (\n",
        "    model.rnn.weight_ih_l0.shape\n",
        "    == model.rnn.weight_hh_l0.shape\n",
        "    == model.rnn.weight_ih_l1.shape\n",
        "    == model.rnn.weight_hh_l1.shape\n",
        "    == torch.Size([13, 13])\n",
        ")\n",
        "assert (\n",
        "    model.rnn.bias_ih_l0.shape\n",
        "    == model.rnn.bias_hh_l0.shape\n",
        "    == model.rnn.bias_ih_l1.shape\n",
        "    == model.rnn.bias_hh_l1.shape\n",
        "    == torch.Size([13])\n",
        ")\n",
        "assert model.output.weight.shape == torch.Size([17, 13])\n",
        "assert model.output.bias.shape == torch.Size([17])"
      ]
    },
    {
      "cell_type": "code",
      "execution_count": 8,
      "metadata": {
        "id": "M7ZpxON4v_O5"
      },
      "outputs": [
        {
          "name": "stdout",
          "output_type": "stream",
          "text": [
            "tensor([-0.2739,  0.2842,  0.2343,  0.2358,  0.0681], grad_fn=<SliceBackward0>)\n",
            "tensor([-0.9424, -0.4886,  0.6905, -0.0018,  1.1025])\n"
          ]
        },
        {
          "data": {
            "text/plain": [
              "'\\nassert torch.allclose(\\n    model.rnn.weight_hh_l0.grad.view(-1)[40:45],\\n    torch.tensor(\\n        [\\n            -0.9424352645874023,\\n            -0.488606333732605,\\n            0.6905138492584229,\\n            -0.0017577260732650757,\\n            1.1024625301361084\\n        ],\\n        dtype=torch.float\\n    )\\n)\\n'"
            ]
          },
          "execution_count": 8,
          "metadata": {},
          "output_type": "execute_result"
        }
      ],
      "source": [
        "x = torch.arange(20).view(5, 4) % 11\n",
        "last_pos = torch.tensor([2, 3, 1, 2, 3])\n",
        "seed = 1025\n",
        "random.seed(seed)\n",
        "np.random.seed(seed)\n",
        "torch.manual_seed(seed)\n",
        "logits = model(x, last_pos)\n",
        "print(logits.view(-1)[40:45])\n",
        "assert logits.shape == torch.Size([5, 17])\n",
        "\n",
        "'''\n",
        "assert torch.allclose(\n",
        "    logits.view(-1)[40:45],\n",
        "    torch.tensor(\n",
        "        [\n",
        "            -0.27393126487731934,\n",
        "            0.28421181440353394,\n",
        "            0.2342953234910965,\n",
        "            0.23580458760261536,\n",
        "            0.06812290847301483\n",
        "        ],\n",
        "        dtype=torch.float\n",
        "    )\n",
        ")\n",
        "'''\n",
        "\n",
        "model.zero_grad()\n",
        "logits.sum().backward()\n",
        "print(model.rnn.weight_hh_l0.grad.view(-1)[40:45])\n",
        "'''\n",
        "assert torch.allclose(\n",
        "    model.rnn.weight_hh_l0.grad.view(-1)[40:45],\n",
        "    torch.tensor(\n",
        "        [\n",
        "            -0.9424352645874023,\n",
        "            -0.488606333732605,\n",
        "            0.6905138492584229,\n",
        "            -0.0017577260732650757,\n",
        "            1.1024625301361084\n",
        "        ],\n",
        "        dtype=torch.float\n",
        "    )\n",
        ")\n",
        "'''"
      ]
    },
    {
      "cell_type": "markdown",
      "metadata": {
        "id": "4g9HOL8_v_O6"
      },
      "source": [
        "## Preprocess the dataset\n",
        "\n",
        "The [dataset](https://pytorch.org/tutorials/intermediate/char_rnn_classification_tutorial.html) contains a few thousand surnames from 18 languages of origin. Included in the data/names directory are 18 text files named as \"[Language].txt\". Each file contains a bunch of names, one name per line, mostly romanized (but we still need to convert from Unicode to ASCII).\n",
        "\n",
        "We'll end up with a dictionary of lists of names per language, {language: [names ...]}.\n",
        "\n",
        "\n"
      ]
    },
    {
      "cell_type": "code",
      "execution_count": 9,
      "metadata": {
        "id": "478rvbP2v_O6"
      },
      "outputs": [
        {
          "name": "stdout",
          "output_type": "stream",
          "text": [
            "The normalized form of Ślusàrski is Slusarski\n"
          ]
        }
      ],
      "source": [
        "from __future__ import unicode_literals, print_function, division\n",
        "from io import open\n",
        "import glob\n",
        "import os\n",
        "\n",
        "def findFiles(path): return glob.glob(path)\n",
        "\n",
        "assert findFiles('data/names/*.txt'), \"Data not found!\"\n",
        "\n",
        "import unicodedata\n",
        "import string\n",
        "\n",
        "all_letters = string.ascii_letters + \" .,;'\"\n",
        "n_letters = len(all_letters)\n",
        "\n",
        "# Turn a Unicode string to plain ASCII, thanks to https://stackoverflow.com/a/518232/2809427\n",
        "def unicodeToAscii(s):\n",
        "    return ''.join(\n",
        "        c for c in unicodedata.normalize('NFD', s)\n",
        "        if unicodedata.category(c) != 'Mn'\n",
        "        and c in all_letters\n",
        "    )\n",
        "\n",
        "print(\"The normalized form of\", 'Ślusàrski', \"is\", unicodeToAscii('Ślusàrski'))\n",
        "\n",
        "# Build the category_lines dictionary, a list of names per language\n",
        "category_lines = {}\n",
        "all_categories = []\n",
        "\n",
        "# Read a file and split into lines\n",
        "def readLines(filename):\n",
        "    lines = open(filename, encoding='utf-8').read().strip().split('\\n')\n",
        "    return [unicodeToAscii(line) for line in lines]\n",
        "\n",
        "for filename in findFiles('data/names/*.txt'):\n",
        "    category = os.path.splitext(os.path.basename(filename))[0]\n",
        "    all_categories.append(category)\n",
        "    lines = readLines(filename)\n",
        "    category_lines[category] = lines\n",
        "\n",
        "n_categories = len(all_categories)"
      ]
    },
    {
      "cell_type": "code",
      "execution_count": 10,
      "metadata": {
        "id": "9gbD9eS2v_O6"
      },
      "outputs": [
        {
          "name": "stdout",
          "output_type": "stream",
          "text": [
            "['Abandonato', 'Abatangelo', 'Abatantuono', 'Abate', 'Abategiovanni']\n"
          ]
        }
      ],
      "source": [
        "print(category_lines['Italian'][:5])"
      ]
    },
    {
      "cell_type": "code",
      "execution_count": 11,
      "metadata": {
        "id": "XXY95oRtv_O6"
      },
      "outputs": [
        {
          "data": {
            "text/plain": [
              "\"abcdefghijklmnopqrstuvwxyzABCDEFGHIJKLMNOPQRSTUVWXYZ .,;'\""
            ]
          },
          "execution_count": 11,
          "metadata": {},
          "output_type": "execute_result"
        }
      ],
      "source": [
        "all_letters"
      ]
    },
    {
      "cell_type": "markdown",
      "metadata": {
        "id": "vT2vrn5av_O6"
      },
      "source": [
        "**Implement the function to encode a letter to an integer:**"
      ]
    },
    {
      "cell_type": "code",
      "execution_count": 12,
      "metadata": {
        "id": "8wdqBI0Hv_O6"
      },
      "outputs": [],
      "source": [
        "def letterToIndex(letter):\n",
        "    ############################################################################\n",
        "    # TODO: implement the function to map a letter (a character) into its index\n",
        "    #       in `all_letters`\n",
        "    #\n",
        "    # e.g. letterToIndex(\"a\") == 0\n",
        "    # Don't worry about efficiency here\n",
        "    ############################################################################\n",
        "    return all_letters.index(letter)\n",
        "    ############################################################################\n",
        "\n",
        "assert letterToIndex(\"a\") == 0\n",
        "assert letterToIndex(\"'\") == 56"
      ]
    },
    {
      "cell_type": "code",
      "execution_count": 13,
      "metadata": {},
      "outputs": [
        {
          "data": {
            "text/plain": [
              "dict_keys(['Arabic', 'Chinese', 'Czech', 'Dutch', 'English', 'French', 'German', 'Greek', 'Irish', 'Italian', 'Japanese', 'Korean', 'Polish', 'Portuguese', 'Russian', 'Scottish', 'Spanish', 'Vietnamese'])"
            ]
          },
          "execution_count": 13,
          "metadata": {},
          "output_type": "execute_result"
        }
      ],
      "source": [
        "category_lines.keys()"
      ]
    },
    {
      "cell_type": "code",
      "execution_count": 14,
      "metadata": {
        "id": "uWaDeH4Sv_O6"
      },
      "outputs": [
        {
          "name": "stdout",
          "output_type": "stream",
          "text": [
            "{0: 'Arabic', 1: 'Chinese', 2: 'Czech', 3: 'Dutch', 4: 'English', 5: 'French', 6: 'German', 7: 'Greek', 8: 'Irish', 9: 'Italian', 10: 'Japanese', 11: 'Korean', 12: 'Polish', 13: 'Portuguese', 14: 'Russian', 15: 'Scottish', 16: 'Spanish', 17: 'Vietnamese'}\n",
            "{'Arabic': 0, 'Chinese': 1, 'Czech': 2, 'Dutch': 3, 'English': 4, 'French': 5, 'German': 6, 'Greek': 7, 'Irish': 8, 'Italian': 9, 'Japanese': 10, 'Korean': 11, 'Polish': 12, 'Portuguese': 13, 'Russian': 14, 'Scottish': 15, 'Spanish': 16, 'Vietnamese': 17}\n"
          ]
        }
      ],
      "source": [
        "# For labels, we must have numbers instead of a string. These dictionaries convert\n",
        "# between these two ways of representing the labels.\n",
        "num_to_cat = dict(enumerate(category_lines.keys()))\n",
        "print(num_to_cat)\n",
        "cat_to_num = dict((v,k) for k,v in num_to_cat.items())\n",
        "print(cat_to_num)\n",
        "\n",
        "pad = 57 # this is the next available character\n",
        "vocab_size = 58 # number of characters used in total"
      ]
    },
    {
      "cell_type": "code",
      "execution_count": 15,
      "metadata": {},
      "outputs": [
        {
          "data": {
            "text/plain": [
              "array([57, 57, 57, 57, 57, 57, 57, 57, 57, 57, 57, 57, 57, 57, 57, 57, 57,\n",
              "       57, 57], dtype=int64)"
            ]
          },
          "execution_count": 15,
          "metadata": {},
          "output_type": "execute_result"
        }
      ],
      "source": [
        "np.ones(19, dtype=np.int64) * 57"
      ]
    },
    {
      "cell_type": "code",
      "execution_count": 16,
      "metadata": {
        "id": "ii6-Owtfv_O6"
      },
      "outputs": [],
      "source": [
        "def build_data():\n",
        "  '''\n",
        "  category_lines: a dictionary of lists of names per language, {language: [names ...]}.\n",
        "\n",
        "  We want to translate our dictionary into a dataset that has one entry per name.\n",
        "  Each datapoint is a 3-tuple consisting of:\n",
        "  - x: a length-19 array with each character in the name as an element,\n",
        "   padded with zeros at the end if the name is less than 19 characters.\n",
        "  - y: the numerical representation of the language the name corresponds to.\n",
        "  - index: the index of the last non-pad token\n",
        "  '''\n",
        "  data = []\n",
        "  for cat in category_lines:\n",
        "    for name in category_lines[cat]:\n",
        "      token = np.ones(19, dtype=np.int64) * pad\n",
        "      numerized = np.array([letterToIndex(l) for l in name])\n",
        "      n = len(numerized)\n",
        "      token[:n] = numerized\n",
        "      data.append((token, cat_to_num[cat], n-1))\n",
        "  return data"
      ]
    },
    {
      "cell_type": "code",
      "execution_count": 17,
      "metadata": {
        "id": "tZakeE0xv_O6"
      },
      "outputs": [],
      "source": [
        "data = build_data()\n",
        "seed = 227\n",
        "random.seed(seed)\n",
        "np.random.seed(seed)\n",
        "torch.manual_seed(seed)\n",
        "random.shuffle(data)"
      ]
    },
    {
      "cell_type": "code",
      "execution_count": 18,
      "metadata": {},
      "outputs": [
        {
          "data": {
            "text/plain": [
              "(array([32, 17, 14,  8, 18, 12,  0, 13, 57, 57, 57, 57, 57, 57, 57, 57, 57,\n",
              "        57, 57], dtype=int64),\n",
              " 14,\n",
              " 7)"
            ]
          },
          "execution_count": 18,
          "metadata": {},
          "output_type": "execute_result"
        }
      ],
      "source": [
        "data[0]"
      ]
    },
    {
      "cell_type": "code",
      "execution_count": 19,
      "metadata": {
        "id": "xQ84H1TFv_O6"
      },
      "outputs": [],
      "source": [
        "n_train = int(len(data) * 0.8)\n",
        "train_data = data[:n_train]\n",
        "test_data = data[n_train:]"
      ]
    },
    {
      "cell_type": "code",
      "execution_count": 20,
      "metadata": {
        "id": "_1nsPxciv_O6"
      },
      "outputs": [
        {
          "data": {
            "text/plain": [
              "16059"
            ]
          },
          "execution_count": 20,
          "metadata": {},
          "output_type": "execute_result"
        }
      ],
      "source": [
        "len(train_data)"
      ]
    },
    {
      "cell_type": "code",
      "execution_count": 21,
      "metadata": {
        "id": "0NRLXgFlv_O6"
      },
      "outputs": [
        {
          "data": {
            "text/plain": [
              "(array([32, 17, 14,  8, 18, 12,  0, 13, 57, 57, 57, 57, 57, 57, 57, 57, 57,\n",
              "        57, 57], dtype=int64),\n",
              " 14,\n",
              " 7)"
            ]
          },
          "execution_count": 21,
          "metadata": {},
          "output_type": "execute_result"
        }
      ],
      "source": [
        "train_data[0]"
      ]
    },
    {
      "cell_type": "code",
      "execution_count": 22,
      "metadata": {
        "id": "38MFlFV8v_O7"
      },
      "outputs": [
        {
          "data": {
            "text/plain": [
              "4015"
            ]
          },
          "execution_count": 22,
          "metadata": {},
          "output_type": "execute_result"
        }
      ],
      "source": [
        "len(test_data)"
      ]
    },
    {
      "cell_type": "code",
      "execution_count": 23,
      "metadata": {
        "id": "CgH3L74jv_O7"
      },
      "outputs": [
        {
          "data": {
            "text/plain": [
              "(array([27,  4, 11, 14, 24,  0, 17, 19, 18,  4, 21, 57, 57, 57, 57, 57, 57,\n",
              "        57, 57], dtype=int64),\n",
              " 14,\n",
              " 10)"
            ]
          },
          "execution_count": 23,
          "metadata": {},
          "output_type": "execute_result"
        }
      ],
      "source": [
        "test_data[0]"
      ]
    },
    {
      "cell_type": "markdown",
      "metadata": {
        "id": "y49D2LHXv_O7"
      },
      "source": [
        "# Train the model"
      ]
    },
    {
      "cell_type": "markdown",
      "metadata": {
        "id": "XKqp-JXyv_O7"
      },
      "source": [
        "Training will be faster if you use the Colab GPU. If it's not already enabled, do so with Runtime -> Change runtime type."
      ]
    },
    {
      "cell_type": "code",
      "execution_count": 24,
      "metadata": {
        "id": "pXBJ3Ce7v_O7"
      },
      "outputs": [],
      "source": [
        "def build_batch(dataset, indices):\n",
        "    '''\n",
        "    Helper function for creating a batch during training. Builds a batch\n",
        "    of source and target elements from the dataset. See the next cell for\n",
        "    when and how it's used.\n",
        "\n",
        "    Arguments:\n",
        "        dataset: List[db_element] -- A list of dataset elements\n",
        "        indices: List[int] -- A list of indices of the dataset to sample\n",
        "    Returns:\n",
        "        batch_input: List[List[int]] -- List of tensorized names\n",
        "        batch_target: List[int] -- List of numerical categories\n",
        "        batch_indices: List[int] -- List of starting indices of padding\n",
        "    '''\n",
        "    # Recover what the entries for the batch are\n",
        "    batch = [dataset[i] for i in indices]\n",
        "    batch_input = np.array(list(zip(*batch))[0])\n",
        "    batch_target = np.array(list(zip(*batch))[1])\n",
        "    batch_indices = np.array(list(zip(*batch))[2])\n",
        "    return batch_input, batch_target, batch_indices # lines, categories"
      ]
    },
    {
      "cell_type": "code",
      "execution_count": 25,
      "metadata": {
        "id": "O1YGSG7mv_O7"
      },
      "outputs": [
        {
          "data": {
            "text/plain": [
              "(array([[31, 14, 17,  3,  7,  0, 12, 57, 57, 57, 57, 57, 57, 57, 57, 57,\n",
              "         57, 57, 57],\n",
              "        [32, 14, 11, 14,  7,  0, 57, 57, 57, 57, 57, 57, 57, 57, 57, 57,\n",
              "         57, 57, 57],\n",
              "        [26, 12,  4, 19,  8, 18, 19, 14, 21, 57, 57, 57, 57, 57, 57, 57,\n",
              "         57, 57, 57]], dtype=int64),\n",
              " array([ 4, 14, 14]),\n",
              " array([6, 5, 8]))"
            ]
          },
          "execution_count": 25,
          "metadata": {},
          "output_type": "execute_result"
        }
      ],
      "source": [
        "build_batch(train_data, [1, 2, 3])"
      ]
    },
    {
      "cell_type": "markdown",
      "metadata": {
        "id": "k7iMpKv0v_O7"
      },
      "source": [
        "**Adjust the hyperparameters listed below** to train an RNN with a minimum evaluation accuracy of 80% after 20 epochs. Your score will be graded on a linear scale, ranging from 0 to the maximum score, as the validation accuracy achieved after the last epoch changes from 70% to 80% (i.e., you get 0 if the accuracy is less than 70%, and get the full score if the accuracy is greater than 80% for this autograding item)."
      ]
    },
    {
      "cell_type": "code",
      "execution_count": 26,
      "metadata": {
        "id": "TKyR7PFFv_O7"
      },
      "outputs": [
        {
          "name": "stdout",
          "output_type": "stream",
          "text": [
            "You are using cuda for training\n"
          ]
        }
      ],
      "source": [
        "criterion = nn.CrossEntropyLoss()\n",
        "\n",
        "# The build_batch function outputs numpy, but our model is built in pytorch,\n",
        "# so we need to convert numpy to pytorch with the correct types.\n",
        "batch_to_torch = lambda b_in,b_target,b_mask: (torch.tensor(b_in).long(),\n",
        "                                               torch.tensor(b_target).long(),\n",
        "                                               torch.tensor(b_mask).long())\n",
        "\n",
        "############################################################################\n",
        "# TODO: Tune these hyperparameters for a better performance\n",
        "############################################################################\n",
        "hidden_size = 32\n",
        "num_layers = 1\n",
        "dropout = 0.0\n",
        "optimizer_class = optim.Adam\n",
        "lr = 1e-4\n",
        "batch_size = 256\n",
        "############################################################################\n",
        "\n",
        "# Do not change the number of epochs\n",
        "epochs = 20\n",
        "\n",
        "device = torch.device(\"cuda\" if torch.cuda.is_available() else \"cpu\")\n",
        "print(\"You are using\", device, \"for training\")\n",
        "list_to_device = lambda th_obj: [tensor.to(device) for tensor in th_obj]"
      ]
    },
    {
      "cell_type": "code",
      "execution_count": 27,
      "metadata": {
        "id": "LCV3rdW0v_O7"
      },
      "outputs": [],
      "source": [
        "# Optional\n",
        "# lstm_model = RecurrentClassifier(vocab_size=vocab_size, rnn_size=hidden_size, n_categories=n_categories, num_layers=num_layers, dropout=dropout, model_type='lstm')\n",
        "# lstm_optimizer = optimizer_class(lstm_model.parameters(), lr=lr)"
      ]
    },
    {
      "cell_type": "code",
      "execution_count": 28,
      "metadata": {
        "id": "vZEuULK2v_O7"
      },
      "outputs": [],
      "source": [
        "seed = 1998\n",
        "random.seed(seed)\n",
        "np.random.seed(seed)\n",
        "torch.manual_seed(seed)\n",
        "rnn_model = RecurrentClassifier(vocab_size=vocab_size, rnn_size=hidden_size, n_categories=n_categories, num_layers=num_layers, dropout=dropout, model_type='rnn')\n",
        "rnn_optimizer = optimizer_class(rnn_model.parameters(), lr=lr)"
      ]
    },
    {
      "cell_type": "code",
      "execution_count": 29,
      "metadata": {
        "id": "QZ7t0lCXv_O7"
      },
      "outputs": [],
      "source": [
        "def train(model, optimizer, criterion, epochs, batch_size, seed):\n",
        "    model.to(device)\n",
        "    model.train()\n",
        "    train_losses = []\n",
        "    train_accuracies = []\n",
        "    eval_accuracies = []\n",
        "    for epoch in range(epochs):\n",
        "        random.seed(seed + epoch)\n",
        "        np.random.seed(seed + epoch)\n",
        "        torch.manual_seed(seed + epoch)\n",
        "        indices = np.random.permutation(range(len(train_data)))\n",
        "        n_correct, n_total = 0, 0\n",
        "        progress_bar = tqdm(range(0, (len(train_data) // batch_size) + 1))\n",
        "        for i in progress_bar:\n",
        "            batch = build_batch(train_data, indices[i*batch_size:(i+1)*batch_size])\n",
        "            (batch_input, batch_target, batch_indices) = batch_to_torch(*batch)\n",
        "            (batch_input, batch_target, batch_indices) = list_to_device((batch_input, batch_target, batch_indices))\n",
        "\n",
        "            logits = model(batch_input, batch_indices)\n",
        "            loss = criterion(logits, batch_target)\n",
        "            train_losses.append(loss.item())\n",
        "\n",
        "            predictions = logits.argmax(dim=-1)\n",
        "            n_correct += (predictions == batch_target).sum().item()\n",
        "            n_total += batch_target.size(0)\n",
        "\n",
        "            optimizer.zero_grad()\n",
        "            loss.backward()\n",
        "            optimizer.step()\n",
        "\n",
        "            if (i + 1) % 10 == 0:\n",
        "                progress_bar.set_description(f\"Epoch: {epoch}  Iteration: {i}  Loss: {np.mean(train_losses[-10:])}\")\n",
        "        train_accuracies.append(n_correct / n_total * 100)\n",
        "        print(f\"Epoch: {epoch}  Train Accuracy: {n_correct / n_total * 100}\")\n",
        "\n",
        "        with torch.no_grad():\n",
        "            indices = list(range(len(test_data)))\n",
        "            n_correct, n_total = 0, 0\n",
        "            for i in range(0, (len(test_data) // batch_size) + 1):\n",
        "                batch = build_batch(test_data, indices[i*batch_size:(i+1)*batch_size])\n",
        "                (batch_input, batch_target, batch_indices) = batch_to_torch(*batch)\n",
        "                (batch_input, batch_target, batch_indices) = list_to_device((batch_input, batch_target, batch_indices))\n",
        "\n",
        "                logits = model(batch_input, batch_indices)\n",
        "                predictions = logits.argmax(dim=-1)\n",
        "                n_correct += (predictions == batch_target).sum().item()\n",
        "                n_total += batch_target.size(0)\n",
        "            eval_accuracies.append(n_correct / n_total * 100)\n",
        "            print(f\"Epoch: {epoch}  Eval Accuracy: {n_correct / n_total * 100}\")\n",
        "\n",
        "    to_save = {\n",
        "        \"history\": {\n",
        "            \"train_losses\": train_losses,\n",
        "            \"train_accuracies\": train_accuracies,\n",
        "            \"eval_accuracies\": eval_accuracies,\n",
        "        },\n",
        "        \"hparams\": {\n",
        "            \"hidden_size\": hidden_size,\n",
        "            \"num_layers\": num_layers,\n",
        "            \"dropout\": dropout,\n",
        "            \"optimizer_class\": optimizer_class.__name__,\n",
        "            \"lr\": lr,\n",
        "            \"batch_size\": batch_size,\n",
        "            \"epochs\": epochs,\n",
        "            \"seed\": seed\n",
        "        },\n",
        "        \"model\": [\n",
        "            (name, list(param.shape))\n",
        "            for name, param in rnn_model.named_parameters()\n",
        "        ]\n",
        "    }\n",
        "    return to_save"
      ]
    },
    {
      "cell_type": "code",
      "execution_count": 30,
      "metadata": {
        "id": "eP3aLJP4v_O7"
      },
      "outputs": [
        {
          "name": "stderr",
          "output_type": "stream",
          "text": [
            "Epoch: 0  Iteration: 59  Loss: 2.77957603931427: 100%|██████████| 63/63 [00:00<00:00, 185.55it/s]  \n"
          ]
        },
        {
          "name": "stdout",
          "output_type": "stream",
          "text": [
            "Epoch: 0  Train Accuracy: 11.91232330780248\n",
            "Epoch: 0  Eval Accuracy: 24.73225404732254\n"
          ]
        },
        {
          "name": "stderr",
          "output_type": "stream",
          "text": [
            "Epoch: 1  Iteration: 59  Loss: 2.579754614830017: 100%|██████████| 63/63 [00:00<00:00, 473.25it/s] \n"
          ]
        },
        {
          "name": "stdout",
          "output_type": "stream",
          "text": [
            "Epoch: 1  Train Accuracy: 31.309546048944515\n",
            "Epoch: 1  Eval Accuracy: 35.2428393524284\n"
          ]
        },
        {
          "name": "stderr",
          "output_type": "stream",
          "text": [
            "Epoch: 2  Iteration: 59  Loss: 2.3747825622558594: 100%|██████████| 63/63 [00:00<00:00, 464.86it/s]\n"
          ]
        },
        {
          "name": "stdout",
          "output_type": "stream",
          "text": [
            "Epoch: 2  Train Accuracy: 38.19042281586649\n",
            "Epoch: 2  Eval Accuracy: 40.473225404732254\n"
          ]
        },
        {
          "name": "stderr",
          "output_type": "stream",
          "text": [
            "Epoch: 3  Iteration: 59  Loss: 2.142752456665039: 100%|██████████| 63/63 [00:00<00:00, 468.46it/s]\n"
          ]
        },
        {
          "name": "stdout",
          "output_type": "stream",
          "text": [
            "Epoch: 3  Train Accuracy: 44.99034809141291\n",
            "Epoch: 3  Eval Accuracy: 45.70361145703611\n"
          ]
        },
        {
          "name": "stderr",
          "output_type": "stream",
          "text": [
            "Epoch: 4  Iteration: 59  Loss: 1.905372440814972: 100%|██████████| 63/63 [00:00<00:00, 472.94it/s]\n"
          ]
        },
        {
          "name": "stdout",
          "output_type": "stream",
          "text": [
            "Epoch: 4  Train Accuracy: 47.71156360919111\n",
            "Epoch: 4  Eval Accuracy: 47.073474470734745\n"
          ]
        },
        {
          "name": "stderr",
          "output_type": "stream",
          "text": [
            "Epoch: 5  Iteration: 59  Loss: 1.7912390232086182: 100%|██████████| 63/63 [00:00<00:00, 489.18it/s]\n"
          ]
        },
        {
          "name": "stdout",
          "output_type": "stream",
          "text": [
            "Epoch: 5  Train Accuracy: 47.79251510056666\n",
            "Epoch: 5  Eval Accuracy: 47.3225404732254\n"
          ]
        },
        {
          "name": "stderr",
          "output_type": "stream",
          "text": [
            "Epoch: 6  Iteration: 59  Loss: 1.7023853540420533: 100%|██████████| 63/63 [00:00<00:00, 414.25it/s]\n"
          ]
        },
        {
          "name": "stdout",
          "output_type": "stream",
          "text": [
            "Epoch: 6  Train Accuracy: 48.04159661249144\n",
            "Epoch: 6  Eval Accuracy: 47.72104607721046\n"
          ]
        },
        {
          "name": "stderr",
          "output_type": "stream",
          "text": [
            "Epoch: 7  Iteration: 59  Loss: 1.6512146830558776: 100%|██████████| 63/63 [00:00<00:00, 437.77it/s]\n"
          ]
        },
        {
          "name": "stdout",
          "output_type": "stream",
          "text": [
            "Epoch: 7  Train Accuracy: 49.056603773584904\n",
            "Epoch: 7  Eval Accuracy: 49.115815691158154\n"
          ]
        },
        {
          "name": "stderr",
          "output_type": "stream",
          "text": [
            "Epoch: 8  Iteration: 59  Loss: 1.591255533695221: 100%|██████████| 63/63 [00:00<00:00, 446.12it/s] \n"
          ]
        },
        {
          "name": "stdout",
          "output_type": "stream",
          "text": [
            "Epoch: 8  Train Accuracy: 50.495049504950494\n",
            "Epoch: 8  Eval Accuracy: 50.2615193026152\n"
          ]
        },
        {
          "name": "stderr",
          "output_type": "stream",
          "text": [
            "Epoch: 9  Iteration: 59  Loss: 1.5436719179153442: 100%|██████████| 63/63 [00:00<00:00, 466.36it/s]\n"
          ]
        },
        {
          "name": "stdout",
          "output_type": "stream",
          "text": [
            "Epoch: 9  Train Accuracy: 51.678186686593186\n",
            "Epoch: 9  Eval Accuracy: 50.90909090909091\n"
          ]
        },
        {
          "name": "stderr",
          "output_type": "stream",
          "text": [
            "Epoch: 10  Iteration: 59  Loss: 1.4651575446128846: 100%|██████████| 63/63 [00:00<00:00, 434.46it/s]\n"
          ]
        },
        {
          "name": "stdout",
          "output_type": "stream",
          "text": [
            "Epoch: 10  Train Accuracy: 52.5811071673205\n",
            "Epoch: 10  Eval Accuracy: 51.78082191780822\n"
          ]
        },
        {
          "name": "stderr",
          "output_type": "stream",
          "text": [
            "Epoch: 11  Iteration: 59  Loss: 1.4844784259796142: 100%|██████████| 63/63 [00:00<00:00, 404.72it/s]\n"
          ]
        },
        {
          "name": "stdout",
          "output_type": "stream",
          "text": [
            "Epoch: 11  Train Accuracy: 54.03823401208045\n",
            "Epoch: 11  Eval Accuracy: 53.97260273972603\n"
          ]
        },
        {
          "name": "stderr",
          "output_type": "stream",
          "text": [
            "Epoch: 12  Iteration: 59  Loss: 1.4506823778152467: 100%|██████████| 63/63 [00:00<00:00, 411.01it/s]\n"
          ]
        },
        {
          "name": "stdout",
          "output_type": "stream",
          "text": [
            "Epoch: 12  Train Accuracy: 55.62612865060091\n",
            "Epoch: 12  Eval Accuracy: 55.342465753424655\n"
          ]
        },
        {
          "name": "stderr",
          "output_type": "stream",
          "text": [
            "Epoch: 13  Iteration: 59  Loss: 1.4293978095054627: 100%|██████████| 63/63 [00:00<00:00, 462.91it/s]\n"
          ]
        },
        {
          "name": "stdout",
          "output_type": "stream",
          "text": [
            "Epoch: 13  Train Accuracy: 56.877763248022916\n",
            "Epoch: 13  Eval Accuracy: 55.666251556662516\n"
          ]
        },
        {
          "name": "stderr",
          "output_type": "stream",
          "text": [
            "Epoch: 14  Iteration: 59  Loss: 1.410203492641449: 100%|██████████| 63/63 [00:00<00:00, 429.97it/s] \n"
          ]
        },
        {
          "name": "stdout",
          "output_type": "stream",
          "text": [
            "Epoch: 14  Train Accuracy: 57.39460738526682\n",
            "Epoch: 14  Eval Accuracy: 56.68742216687422\n"
          ]
        },
        {
          "name": "stderr",
          "output_type": "stream",
          "text": [
            "Epoch: 15  Iteration: 59  Loss: 1.4162867546081543: 100%|██████████| 63/63 [00:00<00:00, 431.80it/s]\n"
          ]
        },
        {
          "name": "stdout",
          "output_type": "stream",
          "text": [
            "Epoch: 15  Train Accuracy: 58.079581543059966\n",
            "Epoch: 15  Eval Accuracy: 57.359900373599004\n"
          ]
        },
        {
          "name": "stderr",
          "output_type": "stream",
          "text": [
            "Epoch: 16  Iteration: 59  Loss: 1.3556838870048522: 100%|██████████| 63/63 [00:00<00:00, 461.80it/s]\n"
          ]
        },
        {
          "name": "stdout",
          "output_type": "stream",
          "text": [
            "Epoch: 16  Train Accuracy: 58.67737717167943\n",
            "Epoch: 16  Eval Accuracy: 57.98256537982566\n"
          ]
        },
        {
          "name": "stderr",
          "output_type": "stream",
          "text": [
            "Epoch: 17  Iteration: 59  Loss: 1.3696428894996644: 100%|██████████| 63/63 [00:00<00:00, 443.64it/s]\n"
          ]
        },
        {
          "name": "stdout",
          "output_type": "stream",
          "text": [
            "Epoch: 17  Train Accuracy: 59.11949685534591\n",
            "Epoch: 17  Eval Accuracy: 58.43088418430884\n"
          ]
        },
        {
          "name": "stderr",
          "output_type": "stream",
          "text": [
            "Epoch: 18  Iteration: 59  Loss: 1.3503025412559508: 100%|██████████| 63/63 [00:00<00:00, 446.38it/s]\n"
          ]
        },
        {
          "name": "stdout",
          "output_type": "stream",
          "text": [
            "Epoch: 18  Train Accuracy: 59.524254312223675\n",
            "Epoch: 18  Eval Accuracy: 58.92901618929016\n"
          ]
        },
        {
          "name": "stderr",
          "output_type": "stream",
          "text": [
            "Epoch: 19  Iteration: 59  Loss: 1.3224847793579102: 100%|██████████| 63/63 [00:00<00:00, 392.61it/s]"
          ]
        },
        {
          "name": "stdout",
          "output_type": "stream",
          "text": [
            "Epoch: 19  Train Accuracy: 60.1095958652469\n",
            "Epoch: 19  Eval Accuracy: 59.60149439601494\n"
          ]
        },
        {
          "name": "stderr",
          "output_type": "stream",
          "text": [
            "\n"
          ]
        }
      ],
      "source": [
        "rnn_log = train(rnn_model, rnn_optimizer, criterion, epochs, batch_size, 1997)"
      ]
    },
    {
      "cell_type": "code",
      "execution_count": 31,
      "metadata": {
        "id": "JZbZ0S1vv_O7"
      },
      "outputs": [
        {
          "data": {
            "image/png": "[encoded data removed]",
            "text/plain": [
              "<Figure size 640x480 with 1 Axes>"
            ]
          },
          "metadata": {},
          "output_type": "display_data"
        }
      ],
      "source": [
        "n_steps = len(rnn_log[\"history\"][\"train_losses\"])\n",
        "plt.plot(range(n_steps), rnn_log[\"history\"][\"train_losses\"], alpha=0.4, color=\"blue\")\n",
        "moving_avg = np.convolve(np.array(rnn_log[\"history\"][\"train_losses\"]), np.ones(10), 'valid') / 10\n",
        "plt.plot(range(9, n_steps), moving_avg.tolist(), color=\"blue\")\n",
        "plt.xlabel(\"Iterations\")\n",
        "plt.title(\"RNN Training Loss\")\n",
        "plt.show()"
      ]
    },
    {
      "cell_type": "code",
      "execution_count": 32,
      "metadata": {
        "id": "M2gUUn_Fv_O_"
      },
      "outputs": [
        {
          "data": {
            "image/png": "[encoded data removed]",
            "text/plain": [
              "<Figure size 640x480 with 1 Axes>"
            ]
          },
          "metadata": {},
          "output_type": "display_data"
        }
      ],
      "source": [
        "plt.plot(rnn_log[\"history\"][\"train_accuracies\"], marker='o')\n",
        "plt.xlabel(\"Epochs\")\n",
        "plt.title(\"RNN Training Accuracy\")\n",
        "plt.show()"
      ]
    },
    {
      "cell_type": "code",
      "execution_count": 33,
      "metadata": {
        "id": "bvtCfgY-v_O_"
      },
      "outputs": [
        {
          "data": {
            "image/png": "[encoded data removed]",
            "text/plain": [
              "<Figure size 640x480 with 1 Axes>"
            ]
          },
          "metadata": {},
          "output_type": "display_data"
        }
      ],
      "source": [
        "plt.plot(rnn_log[\"history\"][\"eval_accuracies\"], marker='o')\n",
        "plt.xlabel(\"Epochs\")\n",
        "plt.title(\"RNN Eval Accuracy\")\n",
        "plt.show()"
      ]
    },
    {
      "cell_type": "code",
      "execution_count": 39,
      "metadata": {
        "id": "i7RnlDGAv_O_"
      },
      "outputs": [
        {
          "name": "stderr",
          "output_type": "stream",
          "text": [
            "Epoch: 0  Iteration: 59  Loss: 2.9269559383392334: 100%|██████████| 63/63 [00:00<00:00, 187.38it/s]\n"
          ]
        },
        {
          "name": "stdout",
          "output_type": "stream",
          "text": [
            "Epoch: 0  Train Accuracy: 7.665483529485025\n",
            "Epoch: 0  Eval Accuracy: 8.617683686176838\n"
          ]
        },
        {
          "name": "stderr",
          "output_type": "stream",
          "text": [
            "Epoch: 1  Iteration: 59  Loss: 2.8329697608947755: 100%|██████████| 63/63 [00:00<00:00, 378.12it/s]\n"
          ]
        },
        {
          "name": "stdout",
          "output_type": "stream",
          "text": [
            "Epoch: 1  Train Accuracy: 9.595865246902049\n",
            "Epoch: 1  Eval Accuracy: 11.481942714819429\n"
          ]
        },
        {
          "name": "stderr",
          "output_type": "stream",
          "text": [
            "Epoch: 2  Iteration: 59  Loss: 2.7042388677597047: 100%|██████████| 63/63 [00:00<00:00, 416.99it/s]\n"
          ]
        },
        {
          "name": "stdout",
          "output_type": "stream",
          "text": [
            "Epoch: 2  Train Accuracy: 17.07453764244349\n",
            "Epoch: 2  Eval Accuracy: 31.008717310087174\n"
          ]
        },
        {
          "name": "stderr",
          "output_type": "stream",
          "text": [
            "Epoch: 3  Iteration: 59  Loss: 2.490705442428589: 100%|██████████| 63/63 [00:00<00:00, 425.40it/s] \n"
          ]
        },
        {
          "name": "stdout",
          "output_type": "stream",
          "text": [
            "Epoch: 3  Train Accuracy: 46.58446976773149\n",
            "Epoch: 3  Eval Accuracy: 52.70236612702366\n"
          ]
        },
        {
          "name": "stderr",
          "output_type": "stream",
          "text": [
            "Epoch: 4  Iteration: 59  Loss: 2.1367154359817504: 100%|██████████| 63/63 [00:00<00:00, 364.05it/s]\n"
          ]
        },
        {
          "name": "stdout",
          "output_type": "stream",
          "text": [
            "Epoch: 4  Train Accuracy: 54.3433588641883\n",
            "Epoch: 4  Eval Accuracy: 50.48567870485678\n"
          ]
        },
        {
          "name": "stderr",
          "output_type": "stream",
          "text": [
            "Epoch: 5  Iteration: 59  Loss: 1.8587276339530945: 100%|██████████| 63/63 [00:00<00:00, 403.01it/s]\n"
          ]
        },
        {
          "name": "stdout",
          "output_type": "stream",
          "text": [
            "Epoch: 5  Train Accuracy: 49.841210536147955\n",
            "Epoch: 5  Eval Accuracy: 47.72104607721046\n"
          ]
        },
        {
          "name": "stderr",
          "output_type": "stream",
          "text": [
            "Epoch: 6  Iteration: 59  Loss: 1.7415399074554443: 100%|██████████| 63/63 [00:00<00:00, 415.71it/s]\n"
          ]
        },
        {
          "name": "stdout",
          "output_type": "stream",
          "text": [
            "Epoch: 6  Train Accuracy: 48.869792639641325\n",
            "Epoch: 6  Eval Accuracy: 47.6214196762142\n"
          ]
        },
        {
          "name": "stderr",
          "output_type": "stream",
          "text": [
            "Epoch: 7  Iteration: 59  Loss: 1.694881761074066: 100%|██████████| 63/63 [00:00<00:00, 396.96it/s] \n"
          ]
        },
        {
          "name": "stdout",
          "output_type": "stream",
          "text": [
            "Epoch: 7  Train Accuracy: 49.01924154679619\n",
            "Epoch: 7  Eval Accuracy: 48.61768368617684\n"
          ]
        },
        {
          "name": "stderr",
          "output_type": "stream",
          "text": [
            "Epoch: 8  Iteration: 59  Loss: 1.6283081412315368: 100%|██████████| 63/63 [00:00<00:00, 418.53it/s]\n"
          ]
        },
        {
          "name": "stdout",
          "output_type": "stream",
          "text": [
            "Epoch: 8  Train Accuracy: 50.35805467339187\n",
            "Epoch: 8  Eval Accuracy: 50.41095890410959\n"
          ]
        },
        {
          "name": "stderr",
          "output_type": "stream",
          "text": [
            "Epoch: 9  Iteration: 59  Loss: 1.58501855134964: 100%|██████████| 63/63 [00:00<00:00, 368.12it/s]  \n"
          ]
        },
        {
          "name": "stdout",
          "output_type": "stream",
          "text": [
            "Epoch: 9  Train Accuracy: 52.39429603337692\n",
            "Epoch: 9  Eval Accuracy: 52.20423412204234\n"
          ]
        },
        {
          "name": "stderr",
          "output_type": "stream",
          "text": [
            "Epoch: 10  Iteration: 59  Loss: 1.518645131587982: 100%|██████████| 63/63 [00:00<00:00, 430.10it/s] \n"
          ]
        },
        {
          "name": "stdout",
          "output_type": "stream",
          "text": [
            "Epoch: 10  Train Accuracy: 54.100504390061644\n",
            "Epoch: 10  Eval Accuracy: 54.371108343711086\n"
          ]
        },
        {
          "name": "stderr",
          "output_type": "stream",
          "text": [
            "Epoch: 11  Iteration: 59  Loss: 1.5191312432289124: 100%|██████████| 63/63 [00:00<00:00, 413.88it/s]\n"
          ]
        },
        {
          "name": "stdout",
          "output_type": "stream",
          "text": [
            "Epoch: 11  Train Accuracy: 55.756896444361416\n",
            "Epoch: 11  Eval Accuracy: 55.41718555417185\n"
          ]
        },
        {
          "name": "stderr",
          "output_type": "stream",
          "text": [
            "Epoch: 12  Iteration: 59  Loss: 1.4798121690750121: 100%|██████████| 63/63 [00:00<00:00, 387.90it/s]\n"
          ]
        },
        {
          "name": "stdout",
          "output_type": "stream",
          "text": [
            "Epoch: 12  Train Accuracy: 56.877763248022916\n",
            "Epoch: 12  Eval Accuracy: 56.23910336239103\n"
          ]
        },
        {
          "name": "stderr",
          "output_type": "stream",
          "text": [
            "Epoch: 13  Iteration: 59  Loss: 1.4610894083976746: 100%|██████████| 63/63 [00:00<00:00, 421.15it/s]\n"
          ]
        },
        {
          "name": "stdout",
          "output_type": "stream",
          "text": [
            "Epoch: 13  Train Accuracy: 57.93635967370322\n",
            "Epoch: 13  Eval Accuracy: 57.011207970112075\n"
          ]
        },
        {
          "name": "stderr",
          "output_type": "stream",
          "text": [
            "Epoch: 14  Iteration: 59  Loss: 1.4355787754058837: 100%|██████████| 63/63 [00:00<00:00, 376.85it/s]\n"
          ]
        },
        {
          "name": "stdout",
          "output_type": "stream",
          "text": [
            "Epoch: 14  Train Accuracy: 58.86418830562301\n",
            "Epoch: 14  Eval Accuracy: 57.733499377334994\n"
          ]
        },
        {
          "name": "stderr",
          "output_type": "stream",
          "text": [
            "Epoch: 15  Iteration: 59  Loss: 1.4491735458374024: 100%|██████████| 63/63 [00:00<00:00, 336.21it/s]\n"
          ]
        },
        {
          "name": "stdout",
          "output_type": "stream",
          "text": [
            "Epoch: 15  Train Accuracy: 59.4059405940594\n",
            "Epoch: 15  Eval Accuracy: 58.85429638854296\n"
          ]
        },
        {
          "name": "stderr",
          "output_type": "stream",
          "text": [
            "Epoch: 16  Iteration: 59  Loss: 1.3787118673324585: 100%|██████████| 63/63 [00:00<00:00, 409.06it/s]\n"
          ]
        },
        {
          "name": "stdout",
          "output_type": "stream",
          "text": [
            "Epoch: 16  Train Accuracy: 60.20300143221869\n",
            "Epoch: 16  Eval Accuracy: 59.25280199252801\n"
          ]
        },
        {
          "name": "stderr",
          "output_type": "stream",
          "text": [
            "Epoch: 17  Iteration: 59  Loss: 1.3951202988624574: 100%|██████████| 63/63 [00:00<00:00, 385.99it/s]\n"
          ]
        },
        {
          "name": "stdout",
          "output_type": "stream",
          "text": [
            "Epoch: 17  Train Accuracy: 60.59530481350022\n",
            "Epoch: 17  Eval Accuracy: 60.0\n"
          ]
        },
        {
          "name": "stderr",
          "output_type": "stream",
          "text": [
            "Epoch: 18  Iteration: 59  Loss: 1.373247468471527: 100%|██████████| 63/63 [00:00<00:00, 348.91it/s] \n"
          ]
        },
        {
          "name": "stdout",
          "output_type": "stream",
          "text": [
            "Epoch: 18  Train Accuracy: 61.05610561056105\n",
            "Epoch: 18  Eval Accuracy: 60.17434620174347\n"
          ]
        },
        {
          "name": "stderr",
          "output_type": "stream",
          "text": [
            "Epoch: 19  Iteration: 59  Loss: 1.3536665201187135: 100%|██████████| 63/63 [00:00<00:00, 361.78it/s]"
          ]
        },
        {
          "name": "stdout",
          "output_type": "stream",
          "text": [
            "Epoch: 19  Train Accuracy: 61.535587521016254\n",
            "Epoch: 19  Eval Accuracy: 60.672478206724776\n"
          ]
        },
        {
          "name": "stderr",
          "output_type": "stream",
          "text": [
            "\n"
          ]
        },
        {
          "data": {
            "text/plain": [
              "{'history': {'train_losses': [2.9838554859161377,\n",
              "   2.995596408843994,\n",
              "   2.993826150894165,\n",
              "   2.9823570251464844,\n",
              "   2.9711856842041016,\n",
              "   2.980523109436035,\n",
              "   2.984727382659912,\n",
              "   2.9988763332366943,\n",
              "   2.978219747543335,\n",
              "   3.0021936893463135,\n",
              "   2.9665725231170654,\n",
              "   2.979062080383301,\n",
              "   2.9606528282165527,\n",
              "   2.9573400020599365,\n",
              "   2.9761250019073486,\n",
              "   2.994560956954956,\n",
              "   2.9513099193573,\n",
              "   2.9668731689453125,\n",
              "   2.9591281414031982,\n",
              "   2.969749689102173,\n",
              "   2.9669249057769775,\n",
              "   2.949038505554199,\n",
              "   2.9685211181640625,\n",
              "   2.9767143726348877,\n",
              "   2.961106061935425,\n",
              "   2.9555459022521973,\n",
              "   2.981281042098999,\n",
              "   2.9576828479766846,\n",
              "   2.9633679389953613,\n",
              "   2.9605469703674316,\n",
              "   2.971752166748047,\n",
              "   2.9555351734161377,\n",
              "   2.958658218383789,\n",
              "   2.9461753368377686,\n",
              "   2.9169600009918213,\n",
              "   2.960306167602539,\n",
              "   2.9430618286132812,\n",
              "   2.9374594688415527,\n",
              "   2.9467966556549072,\n",
              "   2.929957389831543,\n",
              "   2.9347293376922607,\n",
              "   2.945002794265747,\n",
              "   2.940753221511841,\n",
              "   2.959092378616333,\n",
              "   2.936336040496826,\n",
              "   2.9338104724884033,\n",
              "   2.9383113384246826,\n",
              "   2.94091796875,\n",
              "   2.9424664974212646,\n",
              "   2.9294228553771973,\n",
              "   2.9490129947662354,\n",
              "   2.929283380508423,\n",
              "   2.939124584197998,\n",
              "   2.931408166885376,\n",
              "   2.928999900817871,\n",
              "   2.9099574089050293,\n",
              "   2.918994665145874,\n",
              "   2.919557809829712,\n",
              "   2.9080755710601807,\n",
              "   2.9351449012756348,\n",
              "   2.905768394470215,\n",
              "   2.907222270965576,\n",
              "   2.9064810276031494,\n",
              "   2.914682388305664,\n",
              "   2.9107625484466553,\n",
              "   2.919118881225586,\n",
              "   2.889575958251953,\n",
              "   2.8957338333129883,\n",
              "   2.8933663368225098,\n",
              "   2.894651174545288,\n",
              "   2.909848928451538,\n",
              "   2.8993802070617676,\n",
              "   2.905724048614502,\n",
              "   2.907672166824341,\n",
              "   2.8888330459594727,\n",
              "   2.8928635120391846,\n",
              "   2.881728172302246,\n",
              "   2.8844237327575684,\n",
              "   2.885120153427124,\n",
              "   2.901827335357666,\n",
              "   2.8908956050872803,\n",
              "   2.8885393142700195,\n",
              "   2.881504774093628,\n",
              "   2.8704276084899902,\n",
              "   2.8666324615478516,\n",
              "   2.8884880542755127,\n",
              "   2.873422622680664,\n",
              "   2.8640756607055664,\n",
              "   2.857933282852173,\n",
              "   2.8717925548553467,\n",
              "   2.848500967025757,\n",
              "   2.8802475929260254,\n",
              "   2.862476348876953,\n",
              "   2.877610445022583,\n",
              "   2.8691885471343994,\n",
              "   2.860738754272461,\n",
              "   2.8568670749664307,\n",
              "   2.8593192100524902,\n",
              "   2.8739726543426514,\n",
              "   2.859858989715576,\n",
              "   2.8517744541168213,\n",
              "   2.8642330169677734,\n",
              "   2.8723065853118896,\n",
              "   2.856278657913208,\n",
              "   2.849982500076294,\n",
              "   2.851328134536743,\n",
              "   2.8457424640655518,\n",
              "   2.8472230434417725,\n",
              "   2.85867977142334,\n",
              "   2.8492424488067627,\n",
              "   2.8388900756835938,\n",
              "   2.8276538848876953,\n",
              "   2.8260018825531006,\n",
              "   2.8435044288635254,\n",
              "   2.8517906665802,\n",
              "   2.8327133655548096,\n",
              "   2.829702615737915,\n",
              "   2.8360414505004883,\n",
              "   2.812350034713745,\n",
              "   2.834914445877075,\n",
              "   2.824192523956299,\n",
              "   2.8299288749694824,\n",
              "   2.834559202194214,\n",
              "   2.8228821754455566,\n",
              "   2.820040702819824,\n",
              "   2.8118908405303955,\n",
              "   2.821939706802368,\n",
              "   2.8276901245117188,\n",
              "   2.810877561569214,\n",
              "   2.818472385406494,\n",
              "   2.8113157749176025,\n",
              "   2.8073103427886963,\n",
              "   2.810742139816284,\n",
              "   2.7975125312805176,\n",
              "   2.7970709800720215,\n",
              "   2.8029251098632812,\n",
              "   2.7942440509796143,\n",
              "   2.7745070457458496,\n",
              "   2.795334577560425,\n",
              "   2.789334535598755,\n",
              "   2.7998318672180176,\n",
              "   2.7894723415374756,\n",
              "   2.7821712493896484,\n",
              "   2.7920479774475098,\n",
              "   2.7843732833862305,\n",
              "   2.7784628868103027,\n",
              "   2.7692782878875732,\n",
              "   2.7847213745117188,\n",
              "   2.7814419269561768,\n",
              "   2.7664477825164795,\n",
              "   2.775038719177246,\n",
              "   2.764720916748047,\n",
              "   2.7537741661071777,\n",
              "   2.7635018825531006,\n",
              "   2.764108180999756,\n",
              "   2.7567298412323,\n",
              "   2.767460584640503,\n",
              "   2.748342514038086,\n",
              "   2.746898889541626,\n",
              "   2.750544786453247,\n",
              "   2.758046865463257,\n",
              "   2.74733304977417,\n",
              "   2.7442469596862793,\n",
              "   2.7397563457489014,\n",
              "   2.7257487773895264,\n",
              "   2.7340316772460938,\n",
              "   2.7459516525268555,\n",
              "   2.7320261001586914,\n",
              "   2.722475528717041,\n",
              "   2.736024856567383,\n",
              "   2.723806858062744,\n",
              "   2.7205100059509277,\n",
              "   2.7179996967315674,\n",
              "   2.715001106262207,\n",
              "   2.7117323875427246,\n",
              "   2.7167155742645264,\n",
              "   2.709519863128662,\n",
              "   2.7157387733459473,\n",
              "   2.7199792861938477,\n",
              "   2.7155611515045166,\n",
              "   2.69319486618042,\n",
              "   2.712202787399292,\n",
              "   2.7033748626708984,\n",
              "   2.693429470062256,\n",
              "   2.6946616172790527,\n",
              "   2.6847259998321533,\n",
              "   2.6908392906188965,\n",
              "   2.6996383666992188,\n",
              "   2.6595702171325684,\n",
              "   2.6737399101257324,\n",
              "   2.6626274585723877,\n",
              "   2.6921935081481934,\n",
              "   2.676328420639038,\n",
              "   2.66504168510437,\n",
              "   2.67630934715271,\n",
              "   2.6437478065490723,\n",
              "   2.6392722129821777,\n",
              "   2.6765084266662598,\n",
              "   2.649986505508423,\n",
              "   2.6511740684509277,\n",
              "   2.628023624420166,\n",
              "   2.625833034515381,\n",
              "   2.6369409561157227,\n",
              "   2.6275908946990967,\n",
              "   2.6306862831115723,\n",
              "   2.6275999546051025,\n",
              "   2.6498219966888428,\n",
              "   2.633078098297119,\n",
              "   2.611680746078491,\n",
              "   2.610111713409424,\n",
              "   2.622413158416748,\n",
              "   2.622284173965454,\n",
              "   2.615062713623047,\n",
              "   2.60160231590271,\n",
              "   2.596315383911133,\n",
              "   2.603031635284424,\n",
              "   2.5931038856506348,\n",
              "   2.620666265487671,\n",
              "   2.5700879096984863,\n",
              "   2.582355499267578,\n",
              "   2.5799992084503174,\n",
              "   2.5987863540649414,\n",
              "   2.5671727657318115,\n",
              "   2.585515022277832,\n",
              "   2.567638635635376,\n",
              "   2.557744026184082,\n",
              "   2.5373053550720215,\n",
              "   2.5682528018951416,\n",
              "   2.5687122344970703,\n",
              "   2.547222137451172,\n",
              "   2.562340021133423,\n",
              "   2.5479605197906494,\n",
              "   2.5338592529296875,\n",
              "   2.5085206031799316,\n",
              "   2.5409858226776123,\n",
              "   2.504101037979126,\n",
              "   2.5481746196746826,\n",
              "   2.4919190406799316,\n",
              "   2.5128445625305176,\n",
              "   2.522737503051758,\n",
              "   2.50990891456604,\n",
              "   2.489266872406006,\n",
              "   2.494581699371338,\n",
              "   2.5074398517608643,\n",
              "   2.4730873107910156,\n",
              "   2.445200204849243,\n",
              "   2.473867893218994,\n",
              "   2.4901068210601807,\n",
              "   2.500857353210449,\n",
              "   2.44038987159729,\n",
              "   2.472990036010742,\n",
              "   2.491001605987549,\n",
              "   2.4387292861938477,\n",
              "   2.4869279861450195,\n",
              "   2.410226583480835,\n",
              "   2.420595645904541,\n",
              "   2.4484848976135254,\n",
              "   2.412520408630371,\n",
              "   2.404109477996826,\n",
              "   2.430915594100952,\n",
              "   2.398197889328003,\n",
              "   2.398374319076538,\n",
              "   2.3988747596740723,\n",
              "   2.402153968811035,\n",
              "   2.4158620834350586,\n",
              "   2.354405403137207,\n",
              "   2.397372245788574,\n",
              "   2.3780171871185303,\n",
              "   2.386080741882324,\n",
              "   2.3872482776641846,\n",
              "   2.3577709197998047,\n",
              "   2.2947864532470703,\n",
              "   2.3366401195526123,\n",
              "   2.3324368000030518,\n",
              "   2.366217851638794,\n",
              "   2.3472182750701904,\n",
              "   2.359666585922241,\n",
              "   2.32975172996521,\n",
              "   2.28701114654541,\n",
              "   2.335012197494507,\n",
              "   2.352335214614868,\n",
              "   2.304978609085083,\n",
              "   2.33378005027771,\n",
              "   2.2913968563079834,\n",
              "   2.223975419998169,\n",
              "   2.242034673690796,\n",
              "   2.2940597534179688,\n",
              "   2.3182783126831055,\n",
              "   2.2366602420806885,\n",
              "   2.2724218368530273,\n",
              "   2.261866569519043,\n",
              "   2.210207939147949,\n",
              "   2.174041509628296,\n",
              "   2.2722132205963135,\n",
              "   2.219866991043091,\n",
              "   2.166341781616211,\n",
              "   2.22843074798584,\n",
              "   2.1588404178619385,\n",
              "   2.252706527709961,\n",
              "   2.199564218521118,\n",
              "   2.185269832611084,\n",
              "   2.189107894897461,\n",
              "   2.1758811473846436,\n",
              "   2.191826343536377,\n",
              "   2.140841484069824,\n",
              "   2.083263635635376,\n",
              "   2.112123966217041,\n",
              "   2.0349268913269043,\n",
              "   2.131298303604126,\n",
              "   2.1635265350341797,\n",
              "   2.193939447402954,\n",
              "   2.139526605606079,\n",
              "   2.026428461074829,\n",
              "   2.1125988960266113,\n",
              "   2.0633087158203125,\n",
              "   2.061370372772217,\n",
              "   2.0478954315185547,\n",
              "   2.061814069747925,\n",
              "   2.0390942096710205,\n",
              "   2.0685157775878906,\n",
              "   2.127285957336426,\n",
              "   2.0990545749664307,\n",
              "   2.108121871948242,\n",
              "   2.022446632385254,\n",
              "   2.0879054069519043,\n",
              "   2.0831997394561768,\n",
              "   2.0484886169433594,\n",
              "   2.063621759414673,\n",
              "   1.984506368637085,\n",
              "   2.0393242835998535,\n",
              "   1.9292798042297363,\n",
              "   2.091198205947876,\n",
              "   2.043081760406494,\n",
              "   2.0283362865448,\n",
              "   2.061586380004883,\n",
              "   1.9168072938919067,\n",
              "   1.9800052642822266,\n",
              "   1.9694411754608154,\n",
              "   1.959537148475647,\n",
              "   1.9533910751342773,\n",
              "   1.9020169973373413,\n",
              "   1.9097234010696411,\n",
              "   1.951309084892273,\n",
              "   1.8841347694396973,\n",
              "   1.8823355436325073,\n",
              "   1.9351963996887207,\n",
              "   1.9847553968429565,\n",
              "   1.9174823760986328,\n",
              "   1.8917343616485596,\n",
              "   1.9368921518325806,\n",
              "   1.9335209131240845,\n",
              "   1.9276498556137085,\n",
              "   1.9710614681243896,\n",
              "   1.9262908697128296,\n",
              "   1.912489414215088,\n",
              "   2.010655403137207,\n",
              "   1.9332499504089355,\n",
              "   1.8782190084457397,\n",
              "   1.814040184020996,\n",
              "   1.8563308715820312,\n",
              "   1.8395586013793945,\n",
              "   1.7925344705581665,\n",
              "   1.8874666690826416,\n",
              "   1.7691634893417358,\n",
              "   1.8809244632720947,\n",
              "   1.8287540674209595,\n",
              "   1.8865448236465454,\n",
              "   1.8337597846984863,\n",
              "   1.9548991918563843,\n",
              "   1.843883991241455,\n",
              "   1.9350978136062622,\n",
              "   1.837530255317688,\n",
              "   1.859287977218628,\n",
              "   1.7779226303100586,\n",
              "   1.8295958042144775,\n",
              "   1.8510546684265137,\n",
              "   1.892829179763794,\n",
              "   1.9045600891113281,\n",
              "   1.8795709609985352,\n",
              "   1.7835499048233032,\n",
              "   1.6826621294021606,\n",
              "   1.827510118484497,\n",
              "   1.823771357536316,\n",
              "   1.8393601179122925,\n",
              "   1.8465535640716553,\n",
              "   1.8000859022140503,\n",
              "   1.9194611310958862,\n",
              "   1.7701743841171265,\n",
              "   1.840893030166626,\n",
              "   1.7426344156265259,\n",
              "   1.8621196746826172,\n",
              "   1.8341643810272217,\n",
              "   1.6656074523925781,\n",
              "   1.74313223361969,\n",
              "   1.889532446861267,\n",
              "   1.8912254571914673,\n",
              "   1.7694368362426758,\n",
              "   1.7945247888565063,\n",
              "   1.8356058597564697,\n",
              "   1.6861870288848877,\n",
              "   1.9480353593826294,\n",
              "   1.68820059299469,\n",
              "   1.7208950519561768,\n",
              "   1.7778618335723877,\n",
              "   1.8678258657455444,\n",
              "   1.73300039768219,\n",
              "   1.7792352437973022,\n",
              "   1.627333164215088,\n",
              "   1.8296856880187988,\n",
              "   1.7339237928390503,\n",
              "   1.7329694032669067,\n",
              "   1.7961581945419312,\n",
              "   1.902290940284729,\n",
              "   1.8034813404083252,\n",
              "   1.815094232559204,\n",
              "   1.872530221939087,\n",
              "   1.7190971374511719,\n",
              "   1.8054393529891968,\n",
              "   1.7831096649169922,\n",
              "   1.7869478464126587,\n",
              "   1.7355504035949707,\n",
              "   1.802781343460083,\n",
              "   1.8182547092437744,\n",
              "   1.7140634059906006,\n",
              "   1.8232706785202026,\n",
              "   1.7640246152877808,\n",
              "   1.757468342781067,\n",
              "   1.7296417951583862,\n",
              "   1.6963021755218506,\n",
              "   1.698201060295105,\n",
              "   1.8149949312210083,\n",
              "   1.7501442432403564,\n",
              "   1.7568278312683105,\n",
              "   1.7632445096969604,\n",
              "   1.7596442699432373,\n",
              "   1.7507569789886475,\n",
              "   1.659329891204834,\n",
              "   1.7659531831741333,\n",
              "   1.7078466415405273,\n",
              "   1.6881654262542725,\n",
              "   1.6124790906906128,\n",
              "   1.7618615627288818,\n",
              "   1.6756529808044434,\n",
              "   1.755545973777771,\n",
              "   1.726354718208313,\n",
              "   1.7151708602905273,\n",
              "   1.7427339553833008,\n",
              "   1.773693561553955,\n",
              "   1.6944060325622559,\n",
              "   1.7414284944534302,\n",
              "   1.7504719495773315,\n",
              "   1.8606674671173096,\n",
              "   1.5433999300003052,\n",
              "   1.749735951423645,\n",
              "   1.6063597202301025,\n",
              "   1.7042632102966309,\n",
              "   1.7714792490005493,\n",
              "   1.717940330505371,\n",
              "   1.7085461616516113,\n",
              "   1.8763927221298218,\n",
              "   1.5869523286819458,\n",
              "   1.766862392425537,\n",
              "   1.7968746423721313,\n",
              "   1.8667384386062622,\n",
              "   1.6860671043395996,\n",
              "   1.7007240056991577,\n",
              "   1.8204747438430786,\n",
              "   1.6426119804382324,\n",
              "   1.754991888999939,\n",
              "   1.8361828327178955,\n",
              "   1.6849775314331055,\n",
              "   1.7597074508666992,\n",
              "   1.7087258100509644,\n",
              "   1.639003038406372,\n",
              "   1.7117515802383423,\n",
              "   1.6187868118286133,\n",
              "   1.638585090637207,\n",
              "   1.6672896146774292,\n",
              "   1.677106499671936,\n",
              "   1.6511547565460205,\n",
              "   1.6411149501800537,\n",
              "   1.6448917388916016,\n",
              "   1.7210962772369385,\n",
              "   1.782452940940857,\n",
              "   1.7453148365020752,\n",
              "   1.6412084102630615,\n",
              "   1.7996256351470947,\n",
              "   1.6243864297866821,\n",
              "   1.7854950428009033,\n",
              "   1.6667758226394653,\n",
              "   1.67525315284729,\n",
              "   1.6028249263763428,\n",
              "   1.7413069009780884,\n",
              "   1.61874520778656,\n",
              "   1.8137000799179077,\n",
              "   1.84512460231781,\n",
              "   1.6516361236572266,\n",
              "   1.6895407438278198,\n",
              "   1.6447350978851318,\n",
              "   1.6672463417053223,\n",
              "   1.6739575862884521,\n",
              "   1.7328755855560303,\n",
              "   1.6216591596603394,\n",
              "   1.6579453945159912,\n",
              "   1.710405945777893,\n",
              "   1.7796049118041992,\n",
              "   1.6302932500839233,\n",
              "   1.6382722854614258,\n",
              "   1.5728365182876587,\n",
              "   1.7433067560195923,\n",
              "   1.7184818983078003,\n",
              "   1.74764084815979,\n",
              "   1.6371440887451172,\n",
              "   1.5715055465698242,\n",
              "   1.5080922842025757,\n",
              "   1.8818658590316772,\n",
              "   1.8154280185699463,\n",
              "   1.7085504531860352,\n",
              "   1.7510168552398682,\n",
              "   1.7410106658935547,\n",
              "   1.6790848970413208,\n",
              "   1.5123167037963867,\n",
              "   1.7153209447860718,\n",
              "   1.65746009349823,\n",
              "   1.6614412069320679,\n",
              "   1.6956833600997925,\n",
              "   1.6829423904418945,\n",
              "   1.6376385688781738,\n",
              "   1.7302881479263306,\n",
              "   1.6408205032348633,\n",
              "   1.6998602151870728,\n",
              "   1.6949201822280884,\n",
              "   1.6483302116394043,\n",
              "   1.6195259094238281,\n",
              "   1.7222795486450195,\n",
              "   1.7020936012268066,\n",
              "   1.5459290742874146,\n",
              "   1.6520020961761475,\n",
              "   1.6676456928253174,\n",
              "   1.702895164489746,\n",
              "   1.545586109161377,\n",
              "   1.7895534038543701,\n",
              "   1.6446930170059204,\n",
              "   1.6397727727890015,\n",
              "   1.6226425170898438,\n",
              "   1.4603791236877441,\n",
              "   1.6864471435546875,\n",
              "   1.6415542364120483,\n",
              "   1.5327990055084229,\n",
              "   1.7473971843719482,\n",
              "   1.700881004333496,\n",
              "   1.7104634046554565,\n",
              "   1.758414626121521,\n",
              "   1.5533944368362427,\n",
              "   1.6476736068725586,\n",
              "   1.5495474338531494,\n",
              "   1.6115552186965942,\n",
              "   1.728602409362793,\n",
              "   1.6347675323486328,\n",
              "   1.62665855884552,\n",
              "   1.6793098449707031,\n",
              "   1.5955913066864014,\n",
              "   1.5390902757644653,\n",
              "   1.6702852249145508,\n",
              "   1.6992026567459106,\n",
              "   1.6530741453170776,\n",
              "   1.6627154350280762,\n",
              "   1.662109613418579,\n",
              "   1.657806158065796,\n",
              "   1.569331407546997,\n",
              "   1.7509585618972778,\n",
              "   1.5333900451660156,\n",
              "   1.6713334321975708,\n",
              "   1.636438012123108,\n",
              "   1.658918857574463,\n",
              "   1.5518109798431396,\n",
              "   1.6714705228805542,\n",
              "   1.6298391819000244,\n",
              "   1.6351364850997925,\n",
              "   1.6966005563735962,\n",
              "   1.6882436275482178,\n",
              "   1.6094660758972168,\n",
              "   1.5841330289840698,\n",
              "   1.6929558515548706,\n",
              "   1.7661865949630737,\n",
              "   1.6540359258651733,\n",
              "   1.7248908281326294,\n",
              "   1.648918628692627,\n",
              "   1.563153624534607,\n",
              "   1.6094272136688232,\n",
              "   1.56683349609375,\n",
              "   1.7061864137649536,\n",
              "   1.6917246580123901,\n",
              "   1.5044934749603271,\n",
              "   1.588944435119629,\n",
              "   1.444327712059021,\n",
              "   1.5590687990188599,\n",
              "   1.5932843685150146,\n",
              "   1.5615452527999878,\n",
              "   1.7150152921676636,\n",
              "   1.6877753734588623,\n",
              "   1.4725600481033325,\n",
              "   1.5622514486312866,\n",
              "   1.5860360860824585,\n",
              "   1.6870838403701782,\n",
              "   1.580570936203003,\n",
              "   1.6178394556045532,\n",
              "   1.580295443534851,\n",
              "   1.688495397567749,\n",
              "   1.709583044052124,\n",
              "   1.7091271877288818,\n",
              "   1.59023118019104,\n",
              "   1.478430151939392,\n",
              "   1.6441903114318848,\n",
              "   1.797603726387024,\n",
              "   1.6552735567092896,\n",
              "   1.5509448051452637,\n",
              "   1.6542874574661255,\n",
              "   1.6956183910369873,\n",
              "   1.6566215753555298,\n",
              "   1.6494462490081787,\n",
              "   1.543784260749817,\n",
              "   1.5804139375686646,\n",
              "   1.6446423530578613,\n",
              "   1.5953320264816284,\n",
              "   1.4381356239318848,\n",
              "   1.3919036388397217,\n",
              "   1.6096726655960083,\n",
              "   1.507794737815857,\n",
              "   1.6148074865341187,\n",
              "   1.649075984954834,\n",
              "   1.5874426364898682,\n",
              "   1.6797654628753662,\n",
              "   1.5636957883834839,\n",
              "   1.6519660949707031,\n",
              "   1.6122506856918335,\n",
              "   1.4938524961471558,\n",
              "   1.6148347854614258,\n",
              "   1.670527696609497,\n",
              "   1.5670472383499146,\n",
              "   1.6592509746551514,\n",
              "   1.5612750053405762,\n",
              "   1.6334776878356934,\n",
              "   1.5533109903335571,\n",
              "   1.5632972717285156,\n",
              "   1.5226069688796997,\n",
              "   1.666578769683838,\n",
              "   1.3930974006652832,\n",
              "   1.4820424318313599,\n",
              "   1.6266124248504639,\n",
              "   1.6036359071731567,\n",
              "   1.5175392627716064,\n",
              "   1.624569296836853,\n",
              "   1.6629514694213867,\n",
              "   1.6677682399749756,\n",
              "   1.4939719438552856,\n",
              "   1.5291556119918823,\n",
              "   1.5213682651519775,\n",
              "   1.4884697198867798,\n",
              "   1.5093647241592407,\n",
              "   1.6208494901657104,\n",
              "   1.6011457443237305,\n",
              "   1.4753236770629883,\n",
              "   1.6191434860229492,\n",
              "   1.4708731174468994,\n",
              "   1.7949423789978027,\n",
              "   1.6955020427703857,\n",
              "   1.6858782768249512,\n",
              "   1.5922422409057617,\n",
              "   1.5564815998077393,\n",
              "   1.4966095685958862,\n",
              "   1.6801934242248535,\n",
              "   1.6215693950653076,\n",
              "   1.525753378868103,\n",
              "   1.6037578582763672,\n",
              "   1.601779580116272,\n",
              "   1.5264363288879395,\n",
              "   1.6263840198516846,\n",
              "   1.6707755327224731,\n",
              "   1.4875893592834473,\n",
              "   1.5997227430343628,\n",
              "   1.5825685262680054,\n",
              "   1.448684573173523,\n",
              "   1.4711374044418335,\n",
              "   1.6145377159118652,\n",
              "   1.5445916652679443,\n",
              "   1.3869972229003906,\n",
              "   1.5396175384521484,\n",
              "   1.4590812921524048,\n",
              "   1.5395126342773438,\n",
              "   1.6779178380966187,\n",
              "   1.6227047443389893,\n",
              "   1.5488665103912354,\n",
              "   1.483373999595642,\n",
              "   1.5457813739776611,\n",
              "   1.4870526790618896,\n",
              "   1.4230616092681885,\n",
              "   1.6443352699279785,\n",
              "   1.5672144889831543,\n",
              "   1.4539180994033813,\n",
              "   1.5302276611328125,\n",
              "   1.5828007459640503,\n",
              "   1.5745269060134888,\n",
              "   1.549649715423584,\n",
              "   1.451911449432373,\n",
              "   1.466984510421753,\n",
              "   1.5373934507369995,\n",
              "   1.5903888940811157,\n",
              "   1.5659147500991821,\n",
              "   1.4782335758209229,\n",
              "   1.5231376886367798,\n",
              "   1.4833587408065796,\n",
              "   1.576707363128662,\n",
              "   1.5164026021957397,\n",
              "   1.4843552112579346,\n",
              "   1.6439552307128906,\n",
              "   1.5780726671218872,\n",
              "   1.758566975593567,\n",
              "   1.55392324924469,\n",
              "   1.5421994924545288,\n",
              "   1.4783875942230225,\n",
              "   1.5481230020523071,\n",
              "   1.531049370765686,\n",
              "   1.4994674921035767,\n",
              "   1.6663166284561157,\n",
              "   1.5505356788635254,\n",
              "   1.5573238134384155,\n",
              "   1.562520980834961,\n",
              "   1.388519287109375,\n",
              "   1.5061521530151367,\n",
              "   1.6353726387023926,\n",
              "   1.5458273887634277,\n",
              "   1.6008167266845703,\n",
              "   1.4751193523406982,\n",
              "   1.5175601243972778,\n",
              "   1.6435145139694214,\n",
              "   1.538238763809204,\n",
              "   1.6933714151382446,\n",
              "   1.5353894233703613,\n",
              "   1.5571918487548828,\n",
              "   1.579384446144104,\n",
              "   1.5267513990402222,\n",
              "   1.5062501430511475,\n",
              "   1.508489727973938,\n",
              "   1.4590855836868286,\n",
              "   1.4343008995056152,\n",
              "   1.5416259765625,\n",
              "   1.6045418977737427,\n",
              "   1.6244661808013916,\n",
              "   1.546333909034729,\n",
              "   1.442768931388855,\n",
              "   1.4126940965652466,\n",
              "   1.6170052289962769,\n",
              "   1.623020052909851,\n",
              "   1.4754620790481567,\n",
              "   1.365259051322937,\n",
              "   1.58529531955719,\n",
              "   1.4748610258102417,\n",
              "   1.7234241962432861,\n",
              "   1.6627614498138428,\n",
              "   1.467773199081421,\n",
              "   1.4608575105667114,\n",
              "   1.4028167724609375,\n",
              "   1.442137360572815,\n",
              "   1.5745902061462402,\n",
              "   1.4852370023727417,\n",
              "   1.4347728490829468,\n",
              "   1.5302016735076904,\n",
              "   1.4685441255569458,\n",
              "   1.5931384563446045,\n",
              "   1.5321598052978516,\n",
              "   1.538395881652832,\n",
              "   1.5120736360549927,\n",
              "   1.5726393461227417,\n",
              "   1.6248809099197388,\n",
              "   1.274590253829956,\n",
              "   1.467639684677124,\n",
              "   1.4995571374893188,\n",
              "   1.4977253675460815,\n",
              "   1.5303584337234497,\n",
              "   1.3563910722732544,\n",
              "   1.4043184518814087,\n",
              "   1.5255364179611206,\n",
              "   1.5936412811279297,\n",
              "   1.5940697193145752,\n",
              "   1.5042765140533447,\n",
              "   1.4740033149719238,\n",
              "   1.516001582145691,\n",
              "   1.4413034915924072,\n",
              "   1.4203592538833618,\n",
              "   1.523400902748108,\n",
              "   1.441801905632019,\n",
              "   1.5514049530029297,\n",
              "   1.5464011430740356,\n",
              "   1.5302166938781738,\n",
              "   1.4970930814743042,\n",
              "   1.5437051057815552,\n",
              "   1.5043624639511108,\n",
              "   1.3927690982818604,\n",
              "   1.5741652250289917,\n",
              "   1.6372989416122437,\n",
              "   1.4896318912506104,\n",
              "   1.5992323160171509,\n",
              "   1.4394530057907104,\n",
              "   1.5586037635803223,\n",
              "   1.4742751121520996,\n",
              "   1.5357544422149658,\n",
              "   1.386602759361267,\n",
              "   1.3889696598052979,\n",
              "   1.4540600776672363,\n",
              "   1.6023147106170654,\n",
              "   1.5109275579452515,\n",
              "   1.5849840641021729,\n",
              "   1.455356478691101,\n",
              "   1.4276117086410522,\n",
              "   1.451540231704712,\n",
              "   1.5492662191390991,\n",
              "   1.458322525024414,\n",
              "   1.4724889993667603,\n",
              "   1.4231995344161987,\n",
              "   1.4948264360427856,\n",
              "   1.4550315141677856,\n",
              "   1.4652106761932373,\n",
              "   1.473158836364746,\n",
              "   1.6377912759780884,\n",
              "   1.499059796333313,\n",
              "   1.5740724802017212,\n",
              "   1.4434881210327148,\n",
              "   1.446661353111267,\n",
              "   1.4739301204681396,\n",
              "   1.5579688549041748,\n",
              "   1.3770140409469604,\n",
              "   1.532966136932373,\n",
              "   1.4200202226638794,\n",
              "   1.3409193754196167,\n",
              "   1.454505205154419,\n",
              "   1.571581482887268,\n",
              "   1.5517643690109253,\n",
              "   1.5478837490081787,\n",
              "   1.4564733505249023,\n",
              "   1.599048137664795,\n",
              "   1.4813847541809082,\n",
              "   1.5833523273468018,\n",
              "   1.4540538787841797,\n",
              "   1.4013875722885132,\n",
              "   1.5156028270721436,\n",
              "   1.599628210067749,\n",
              "   1.435348629951477,\n",
              "   1.4225118160247803,\n",
              "   1.5006983280181885,\n",
              "   1.489673376083374,\n",
              "   1.4244730472564697,\n",
              "   1.6528832912445068,\n",
              "   1.4162490367889404,\n",
              "   1.3781334161758423,\n",
              "   1.4991271495819092,\n",
              "   1.5304323434829712,\n",
              "   1.4344336986541748,\n",
              "   1.4780328273773193,\n",
              "   1.411062479019165,\n",
              "   1.405149221420288,\n",
              "   1.4384164810180664,\n",
              "   1.4929176568984985,\n",
              "   1.5915731191635132,\n",
              "   1.4940671920776367,\n",
              "   1.3474034070968628,\n",
              "   1.5276052951812744,\n",
              "   1.3864054679870605,\n",
              "   1.4585846662521362,\n",
              "   1.413224458694458,\n",
              "   1.4457688331604004,\n",
              "   1.3359662294387817,\n",
              "   1.536856770515442,\n",
              "   1.3349497318267822,\n",
              "   1.5803941488265991,\n",
              "   1.4652886390686035,\n",
              "   1.4865639209747314,\n",
              "   1.4768624305725098,\n",
              "   1.5350189208984375,\n",
              "   1.4848902225494385,\n",
              "   1.3307530879974365,\n",
              "   1.4303244352340698,\n",
              "   1.5566587448120117,\n",
              "   1.4298994541168213,\n",
              "   1.4625753164291382,\n",
              "   1.499122142791748,\n",
              "   1.3624335527420044,\n",
              "   1.562930703163147,\n",
              "   1.4369559288024902,\n",
              "   1.3585724830627441,\n",
              "   1.3558889627456665,\n",
              "   1.4389303922653198,\n",
              "   1.33135187625885,\n",
              "   1.525963544845581,\n",
              "   1.394139289855957,\n",
              "   1.5302331447601318,\n",
              "   1.4135587215423584,\n",
              "   1.4855753183364868,\n",
              "   1.438311219215393,\n",
              "   1.3772797584533691,\n",
              "   1.5023972988128662,\n",
              "   1.493949294090271,\n",
              "   1.3916949033737183,\n",
              "   1.4790031909942627,\n",
              "   1.4356317520141602,\n",
              "   1.5389279127120972,\n",
              "   1.4974340200424194,\n",
              "   1.4812837839126587,\n",
              "   1.473555088043213,\n",
              "   1.305822491645813,\n",
              "   1.2657760381698608,\n",
              "   1.5234525203704834,\n",
              "   1.5128110647201538,\n",
              "   1.618334174156189,\n",
              "   1.3374102115631104,\n",
              "   1.4181201457977295,\n",
              "   1.5385799407958984,\n",
              "   1.4473659992218018,\n",
              "   1.4905571937561035,\n",
              "   1.391156554222107,\n",
              "   1.5578197240829468,\n",
              "   1.4520959854125977,\n",
              "   1.3865660429000854,\n",
              "   1.3098702430725098,\n",
              "   1.4976178407669067,\n",
              "   1.4075056314468384,\n",
              "   1.5364257097244263,\n",
              "   1.4460301399230957,\n",
              "   1.5179921388626099,\n",
              "   1.5659085512161255,\n",
              "   1.4749547243118286,\n",
              "   1.4175965785980225,\n",
              "   1.3965442180633545,\n",
              "   1.4113167524337769,\n",
              "   1.480638861656189,\n",
              "   1.4930698871612549,\n",
              "   1.365370273590088,\n",
              "   1.4651403427124023,\n",
              "   1.4121428728103638,\n",
              "   1.479970932006836,\n",
              "   1.5155611038208008,\n",
              "   1.336032509803772,\n",
              "   1.4118760824203491,\n",
              "   1.4361050128936768,\n",
              "   1.3789230585098267,\n",
              "   1.4449485540390015,\n",
              "   1.3813434839248657,\n",
              "   1.4005335569381714,\n",
              "   1.4952435493469238,\n",
              "   1.3774017095565796,\n",
              "   1.388397216796875,\n",
              "   1.410757064819336,\n",
              "   1.341679334640503,\n",
              "   1.4063421487808228,\n",
              "   1.406865119934082,\n",
              "   1.4312914609909058,\n",
              "   1.4320803880691528,\n",
              "   1.541264533996582,\n",
              "   1.4439448118209839,\n",
              "   1.4388041496276855,\n",
              "   1.4448336362838745,\n",
              "   1.344132900238037,\n",
              "   1.4988353252410889,\n",
              "   1.4349696636199951,\n",
              "   1.4169082641601562,\n",
              "   1.5178714990615845,\n",
              "   1.3333454132080078,\n",
              "   1.4937902688980103,\n",
              "   1.4383212327957153,\n",
              "   1.3530734777450562,\n",
              "   1.5481609106063843,\n",
              "   1.4615144729614258,\n",
              "   1.4392677545547485,\n",
              "   1.3911267518997192,\n",
              "   1.433006763458252,\n",
              "   1.4329960346221924,\n",
              "   1.4123854637145996,\n",
              "   1.3779187202453613,\n",
              "   1.401014804840088,\n",
              "   1.476792335510254,\n",
              "   1.3611241579055786,\n",
              "   1.4634548425674438,\n",
              "   1.400229573249817,\n",
              "   1.2822396755218506,\n",
              "   1.4858514070510864,\n",
              "   1.3605787754058838,\n",
              "   1.3249425888061523,\n",
              "   1.597927212715149,\n",
              "   1.4727296829223633,\n",
              "   1.3253240585327148,\n",
              "   1.2581937313079834,\n",
              "   1.4317363500595093,\n",
              "   1.4811601638793945,\n",
              "   1.347670316696167,\n",
              "   1.4900262355804443,\n",
              "   1.4009065628051758,\n",
              "   1.4611347913742065,\n",
              "   1.3249835968017578,\n",
              "   1.4573487043380737,\n",
              "   1.5172561407089233,\n",
              "   ...],\n",
              "  'train_accuracies': [7.665483529485025,\n",
              "   9.595865246902049,\n",
              "   17.07453764244349,\n",
              "   46.58446976773149,\n",
              "   54.3433588641883,\n",
              "   49.841210536147955,\n",
              "   48.869792639641325,\n",
              "   49.01924154679619,\n",
              "   50.35805467339187,\n",
              "   52.39429603337692,\n",
              "   54.100504390061644,\n",
              "   55.756896444361416,\n",
              "   56.877763248022916,\n",
              "   57.93635967370322,\n",
              "   58.86418830562301,\n",
              "   59.4059405940594,\n",
              "   60.20300143221869,\n",
              "   60.59530481350022,\n",
              "   61.05610561056105,\n",
              "   61.535587521016254],\n",
              "  'eval_accuracies': [8.617683686176838,\n",
              "   11.481942714819429,\n",
              "   31.008717310087174,\n",
              "   52.70236612702366,\n",
              "   50.48567870485678,\n",
              "   47.72104607721046,\n",
              "   47.6214196762142,\n",
              "   48.61768368617684,\n",
              "   50.41095890410959,\n",
              "   52.20423412204234,\n",
              "   54.371108343711086,\n",
              "   55.41718555417185,\n",
              "   56.23910336239103,\n",
              "   57.011207970112075,\n",
              "   57.733499377334994,\n",
              "   58.85429638854296,\n",
              "   59.25280199252801,\n",
              "   60.0,\n",
              "   60.17434620174347,\n",
              "   60.672478206724776]},\n",
              " 'hparams': {'hidden_size': 32,\n",
              "  'num_layers': 1,\n",
              "  'dropout': 0.0,\n",
              "  'optimizer_class': 'Adam',\n",
              "  'lr': 0.0001,\n",
              "  'batch_size': 256,\n",
              "  'epochs': 20,\n",
              "  'seed': 1997},\n",
              " 'model': [('embedding.weight', [58, 32]),\n",
              "  ('rnn.weight_ih_l0', [32, 32]),\n",
              "  ('rnn.weight_hh_l0', [32, 32]),\n",
              "  ('rnn.bias_ih_l0', [32]),\n",
              "  ('rnn.bias_hh_l0', [32]),\n",
              "  ('output.weight', [18, 32]),\n",
              "  ('output.bias', [18])]}"
            ]
          },
          "execution_count": 39,
          "metadata": {},
          "output_type": "execute_result"
        }
      ],
      "source": [
        "# Optional\n",
        "# train(lstm_model, lstm_optimizer, criterion, epochs, batch_size, 1997)\n",
        "\n",
        "lstm_model = RecurrentClassifier(vocab_size=vocab_size, rnn_size=hidden_size, n_categories=n_categories, num_layers=num_layers, dropout=dropout, model_type='lstm')\n",
        "lstm_optimizer = optimizer_class(lstm_model.parameters(), lr=lr)\n",
        "train(lstm_model, lstm_optimizer, criterion, epochs, batch_size, 1997)"
      ]
    },
    {
      "cell_type": "markdown",
      "metadata": {
        "id": "FucCBRtyv_O_"
      },
      "source": [
        "## Use Your RNN: Try Your Own Name\n",
        "\n",
        "Attempt to use the code cells below to **predict the origin of your own last name**.\n",
        "\n",
        "Please refrain from entering the last names of your classmates, as the names you enter will be logged for anti-plagiarism purposes."
      ]
    },
    {
      "cell_type": "code",
      "execution_count": 40,
      "metadata": {
        "id": "gmkxEWFov_O_"
      },
      "outputs": [],
      "source": [
        "def classify_name(name, model):\n",
        "    '''\n",
        "    Numerize the name and return the most likely number representation of the\n",
        "    predicted class.\n",
        "    '''\n",
        "    # change this if your last name is longer than 19 characters\n",
        "    token = np.ones(19, dtype=np.int64) * pad\n",
        "    numerized = np.array([letterToIndex(l) for l in name])\n",
        "    n = len(numerized)\n",
        "    token[:n] = numerized\n",
        "    print(token)\n",
        "    logits = model(\n",
        "        torch.tensor(token, dtype=torch.long)[None, :],\n",
        "        torch.tensor([n - 1], dtype=torch.long)\n",
        "    )\n",
        "    return logits.argmax(dim=-1).item()"
      ]
    },
    {
      "cell_type": "code",
      "execution_count": 45,
      "metadata": {
        "id": "kap-IL1iv_O_"
      },
      "outputs": [
        {
          "name": "stdout",
          "output_type": "stream",
          "text": [
            "Predicting origin language for name: Chen\n",
            "[28  7  4 13 57 57 57 57 57 57 57 57 57 57 57 57 57 57 57]\n",
            "English\n"
          ]
        }
      ],
      "source": [
        "model = rnn_model\n",
        "model.eval()\n",
        "model.cpu()\n",
        "############################################################################\n",
        "# TODO: Enter your last name\n",
        "############################################################################\n",
        "name = \"Chen\"\n",
        "############################################################################\n",
        "rnn_log[\"last_name\"] = name\n",
        "rnn_log[\"source_init\"] = inspect.getsource(RecurrentClassifier.__init__)\n",
        "rnn_log[\"source_forward\"] = inspect.getsource(RecurrentClassifier.forward)\n",
        "print(\"Predicting origin language for name: \"+ name)\n",
        "c = classify_name(name, model)\n",
        "print(num_to_cat[c])"
      ]
    },
    {
      "cell_type": "code",
      "execution_count": 49,
      "metadata": {},
      "outputs": [
        {
          "name": "stdout",
          "output_type": "stream",
          "text": [
            "Predicting origin language for name: Chen\n",
            "[28  7  4 13 57 57 57 57 57 57 57 57 57 57 57 57 57 57 57]\n",
            "English\n"
          ]
        }
      ],
      "source": [
        "model = lstm_model\n",
        "model.eval()\n",
        "model.cpu()\n",
        "############################################################################\n",
        "# TODO: Enter your last name\n",
        "############################################################################\n",
        "name = \"Chen\"\n",
        "############################################################################\n",
        "rnn_log[\"last_name\"] = name\n",
        "rnn_log[\"source_init\"] = inspect.getsource(RecurrentClassifier.__init__)\n",
        "rnn_log[\"source_forward\"] = inspect.getsource(RecurrentClassifier.forward)\n",
        "print(\"Predicting origin language for name: \"+ name)\n",
        "c = classify_name(name, model)\n",
        "print(num_to_cat[c])"
      ]
    },
    {
      "cell_type": "markdown",
      "metadata": {
        "id": "kOBRjcCtv_O_"
      },
      "source": [
        "### Question\n",
        "\n",
        "Although the neural network you have trained is intended to predict the language of origin for a given last name, it could potentially be misused. **In what ways do you think this could be problematic in real-world applications?** Include your answer in your submission of the written assignment."
      ]
    }
  ],
  "metadata": {
    "colab": {
      "provenance": []
    },
    "kernelspec": {
      "display_name": "malning",
      "language": "python",
      "name": "malning"
    },
    "language_info": {
      "codemirror_mode": {
        "name": "ipython",
        "version": 3
      },
      "file_extension": ".py",
      "mimetype": "text/x-python",
      "name": "python",
      "nbconvert_exporter": "python",
      "pygments_lexer": "ipython3",
      "version": "3.7.0"
    }
  },
  "nbformat": 4,
  "nbformat_minor": 0
}
