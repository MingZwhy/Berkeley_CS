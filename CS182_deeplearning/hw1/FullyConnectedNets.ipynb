{
 "cells": [
  {
   "cell_type": "markdown",
   "metadata": {},
   "source": [
    "# Setup Environment\n",
    "\n",
    "If you are working on this assignment using Google Colab, please execute the codes below.\n",
    "\n",
    "Alternatively, you can also do this assignment using a local anaconda environment (or a Python virtualenv). Please clone the GitHub repo by running `git clone https://github.com/gonglinyuan/cs182hw1.git` and refer to `README.md` for further details."
   ]
  },
  {
   "cell_type": "code",
   "execution_count": null,
   "metadata": {},
   "outputs": [],
   "source": [
    "#@title Mount your Google Drive\n",
    "\n",
    "import os\n",
    "from google.colab import drive\n",
    "drive.mount('/content/gdrive')"
   ]
  },
  {
   "cell_type": "code",
   "execution_count": null,
   "metadata": {},
   "outputs": [],
   "source": [
    "#@title Set up mount symlink\n",
    "\n",
    "DRIVE_PATH = '/content/gdrive/My\\ Drive/cs182hw1_sp23'\n",
    "DRIVE_PYTHON_PATH = DRIVE_PATH.replace('\\\\', '')\n",
    "if not os.path.exists(DRIVE_PYTHON_PATH):\n",
    "  %mkdir $DRIVE_PATH\n",
    "\n",
    "## the space in `My Drive` causes some issues,\n",
    "## make a symlink to avoid this\n",
    "SYM_PATH = '/content/cs182hw1'\n",
    "if not os.path.exists(SYM_PATH):\n",
    "  !ln -s $DRIVE_PATH $SYM_PATH"
   ]
  },
  {
   "cell_type": "code",
   "execution_count": null,
   "metadata": {},
   "outputs": [],
   "source": [
    "#@title Install dependencies\n",
    "\n",
    "!pip install numpy==1.21.6 imageio==2.9.0 matplotlib==3.2.2"
   ]
  },
  {
   "cell_type": "code",
   "execution_count": null,
   "metadata": {},
   "outputs": [],
   "source": [
    "#@title Clone homework repo\n",
    "\n",
    "%cd $SYM_PATH\n",
    "if not os.path.exists(\"cs182hw1\"):\n",
    "  !git clone https://github.com/gonglinyuan/cs182hw1.git\n",
    "%cd cs182hw1"
   ]
  },
  {
   "cell_type": "code",
   "execution_count": null,
   "metadata": {},
   "outputs": [],
   "source": [
    "#@title Download datasets\n",
    "\n",
    "%cd deeplearning/datasets/\n",
    "!bash ./get_datasets.sh\n",
    "%cd ../.."
   ]
  },
  {
   "cell_type": "code",
   "execution_count": 13,
   "metadata": {
    "ExecuteTime": {
     "end_time": "2023-09-01T00:43:28.801687Z",
     "start_time": "2023-09-01T00:43:28.640227Z"
    }
   },
   "outputs": [],
   "source": [
    "#@title Configure Jupyter Notebook\n",
    "\n",
    "import matplotlib\n",
    "%matplotlib inline\n",
    "%load_ext autoreload\n",
    "%autoreload 2"
   ]
  },
  {
   "cell_type": "markdown",
   "metadata": {},
   "source": [
    "# Fully-Connected Neural Nets\n",
    "\n",
    "In this notebook we will implement fully-connected networks using a modular approach. For each layer we will implement a `forward` and a `backward` function. The `forward` function will receive inputs, weights, and other parameters and will return both an output and a `cache` object storing data needed for the backward pass, like this:\n",
    "\n",
    "```python\n",
    "def layer_forward(x, w):\n",
    "  \"\"\" Receive inputs x and weights w \"\"\"\n",
    "  # Do some computations ...\n",
    "  z = # ... some intermediate value\n",
    "  # Do some more computations ...\n",
    "  out = # the output\n",
    "   \n",
    "  cache = (x, w, z, out) # Values we need to compute gradients\n",
    "  \n",
    "  return out, cache\n",
    "```\n",
    "\n",
    "The backward pass will receive upstream derivatives and the `cache` object, and will return gradients with respect to the inputs and weights, like this:\n",
    "\n",
    "```python\n",
    "def layer_backward(dout, cache):\n",
    "  \"\"\"\n",
    "  Receive derivative of loss with respect to outputs and cache,\n",
    "  and compute derivative with respect to inputs.\n",
    "  \"\"\"\n",
    "  # Unpack cache values\n",
    "  x, w, z, out = cache\n",
    "  \n",
    "  # Use values in cache to compute derivatives\n",
    "  dx = # Derivative of loss with respect to x\n",
    "  dw = # Derivative of loss with respect to w\n",
    "  \n",
    "  return dx, dw\n",
    "```\n",
    "\n",
    "After implementing a bunch of layers this way, we will be able to easily combine them to build classifiers with different architectures."
   ]
  },
  {
   "cell_type": "code",
   "execution_count": 14,
   "metadata": {
    "ExecuteTime": {
     "end_time": "2023-09-01T00:43:33.547697Z",
     "start_time": "2023-09-01T00:43:33.442259Z"
    }
   },
   "outputs": [],
   "source": [
    "# As usual, a bit of setup\n",
    "\n",
    "import os\n",
    "import time\n",
    "import numpy as np\n",
    "import matplotlib.pyplot as plt\n",
    "from deeplearning.classifiers.fc_net import *\n",
    "from deeplearning.data_utils import get_CIFAR10_data\n",
    "from deeplearning.gradient_check import eval_numerical_gradient, eval_numerical_gradient_array\n",
    "from deeplearning.solver import Solver\n",
    "\n",
    "plt.rcParams['figure.figsize'] = (10.0, 8.0) # set default size of plots\n",
    "plt.rcParams['image.interpolation'] = 'nearest'\n",
    "plt.rcParams['image.cmap'] = 'gray'\n",
    "\n",
    "# for auto-reloading external modules\n",
    "# see http://stackoverflow.com/questions/1907993/autoreload-of-modules-in-ipython\n",
    "\n",
    "def rel_error(x, y):\n",
    "    \"\"\" returns relative error \"\"\"\n",
    "    return np.max(np.abs(x - y) / (np.maximum(1e-8, np.abs(x) + np.abs(y))))"
   ]
  },
  {
   "cell_type": "code",
   "execution_count": 15,
   "metadata": {
    "ExecuteTime": {
     "end_time": "2023-09-01T00:43:38.328633Z",
     "start_time": "2023-09-01T00:43:34.784980Z"
    }
   },
   "outputs": [
    {
     "name": "stdout",
     "output_type": "stream",
     "text": [
      "deeplearning/datasets/cifar-10-batches-py\\data_batch_1\n",
      "deeplearning/datasets/cifar-10-batches-py\\data_batch_2\n",
      "deeplearning/datasets/cifar-10-batches-py\\data_batch_3\n",
      "deeplearning/datasets/cifar-10-batches-py\\data_batch_4\n",
      "deeplearning/datasets/cifar-10-batches-py\\data_batch_5\n",
      "deeplearning/datasets/cifar-10-batches-py\\test_batch\n",
      "X_train:  (49000, 3, 32, 32)\n",
      "y_train:  (49000,)\n",
      "X_val:  (1000, 3, 32, 32)\n",
      "y_val:  (1000,)\n",
      "X_test:  (1000, 3, 32, 32)\n",
      "y_test:  (1000,)\n"
     ]
    }
   ],
   "source": [
    "# Lddoad the (preprocessed) CIFAR10 data.\n",
    "\n",
    "data = get_CIFAR10_data()\n",
    "for k, v in data.items():\n",
    "    print('%s: ' % k, v.shape)"
   ]
  },
  {
   "cell_type": "markdown",
   "metadata": {},
   "source": [
    "# Affine layer: forward\n",
    "Open the file `deeplearning/layers.py` and implement the `affine_forward` function.\n",
    "\n",
    "Once you are done you can test your implementaion by running the following:"
   ]
  },
  {
   "cell_type": "code",
   "execution_count": 24,
   "metadata": {
    "ExecuteTime": {
     "end_time": "2023-09-01T07:01:17.429570Z",
     "start_time": "2023-09-01T07:01:17.313525Z"
    }
   },
   "outputs": [
    {
     "name": "stdout",
     "output_type": "stream",
     "text": [
      "Testing affine_forward function:\n",
      "difference:  9.769848888397517e-10\n"
     ]
    }
   ],
   "source": [
    "# Test the affine_forward function\n",
    "\n",
    "num_inputs = 2\n",
    "input_shape = (4, 5, 6)\n",
    "output_dim = 3\n",
    "\n",
    "input_size = num_inputs * np.prod(input_shape)\n",
    "weight_size = output_dim * np.prod(input_shape)\n",
    "\n",
    "x = np.linspace(-0.1, 0.5, num=input_size).reshape(num_inputs, *input_shape)\n",
    "w = np.linspace(-0.2, 0.3, num=weight_size).reshape(np.prod(input_shape), output_dim)\n",
    "b = np.linspace(-0.3, 0.1, num=output_dim)\n",
    "\n",
    "out, _ = affine_forward(x, w, b)\n",
    "correct_out = np.array([[ 1.49834967,  1.70660132,  1.91485297],\n",
    "                        [ 3.25553199,  3.5141327,   3.77273342]])\n",
    "\n",
    "# Compare your output with ours. The error should be around 1e-9.\n",
    "print('Testing affine_forward function:')\n",
    "print('difference: ', rel_error(out, correct_out))"
   ]
  },
  {
   "cell_type": "markdown",
   "metadata": {},
   "source": [
    "# Affine layer: backward\n",
    "Now implement the `affine_backward` function and test your implementation using numeric gradient checking."
   ]
  },
  {
   "cell_type": "code",
   "execution_count": 26,
   "metadata": {
    "ExecuteTime": {
     "end_time": "2023-09-01T07:02:31.541914Z",
     "start_time": "2023-09-01T07:02:31.433551Z"
    }
   },
   "outputs": [
    {
     "name": "stdout",
     "output_type": "stream",
     "text": [
      "Testing affine_backward function:\n",
      "dx error:  1.0073197343977312e-09\n",
      "dw error:  5.284631764367503e-11\n",
      "db error:  1.714610111690866e-10\n"
     ]
    }
   ],
   "source": [
    "# Test the affine_backward function\n",
    "\n",
    "x = np.random.randn(10, 2, 3)\n",
    "w = np.random.randn(6, 5)\n",
    "b = np.random.randn(5)\n",
    "dout = np.random.randn(10, 5)\n",
    "\n",
    "dx_num = eval_numerical_gradient_array(lambda x: affine_forward(x, w, b)[0], x, dout)\n",
    "dw_num = eval_numerical_gradient_array(lambda w: affine_forward(x, w, b)[0], w, dout)\n",
    "db_num = eval_numerical_gradient_array(lambda b: affine_forward(x, w, b)[0], b, dout)\n",
    "\n",
    "_, cache = affine_forward(x, w, b)\n",
    "dx, dw, db = affine_backward(dout, cache)\n",
    "# The error should be around 1e-10\n",
    "print('Testing affine_backward function:')\n",
    "print('dx error: ', rel_error(dx_num, dx))\n",
    "print('dw error: ', rel_error(dw_num, dw))\n",
    "print('db error: ', rel_error(db_num, db))"
   ]
  },
  {
   "cell_type": "markdown",
   "metadata": {},
   "source": [
    "# ReLU layer: forward\n",
    "Implement the forward pass for the ReLU activation function in the `relu_forward` function and test your implementation using the following:"
   ]
  },
  {
   "cell_type": "code",
   "execution_count": 34,
   "metadata": {
    "ExecuteTime": {
     "end_time": "2023-09-01T07:27:03.544988Z",
     "start_time": "2023-09-01T07:27:03.446825Z"
    }
   },
   "outputs": [
    {
     "name": "stdout",
     "output_type": "stream",
     "text": [
      "Testing relu_forward function:\n",
      "difference:  4.999999798022158e-08\n"
     ]
    }
   ],
   "source": [
    "# Test the relu_forward function\n",
    "\n",
    "x = np.linspace(-0.5, 0.5, num=12).reshape(3, 4)\n",
    "\n",
    "out, _ = relu_forward(x)\n",
    "correct_out = np.array([[ 0.,          0.,          0.,          0.,        ],\n",
    "                        [ 0.,          0.,          0.04545455,  0.13636364,],\n",
    "                        [ 0.22727273,  0.31818182,  0.40909091,  0.5,       ]])\n",
    "\n",
    "# Compare your output with ours. The error should be around 1e-8\n",
    "print('Testing relu_forward function:')\n",
    "print('difference: ', rel_error(out, correct_out))"
   ]
  },
  {
   "cell_type": "markdown",
   "metadata": {},
   "source": [
    "# ReLU layer: backward\n",
    "Now implement the backward pass for the ReLU activation function in the `relu_backward` function and test your implementation using numeric gradient checking. Note that the ReLU activation is not differentiable at 0, but typically we don't worry about this and simply assign either 0 or 1 as the derivative by convention."
   ]
  },
  {
   "cell_type": "code",
   "execution_count": 41,
   "metadata": {
    "ExecuteTime": {
     "end_time": "2023-09-01T07:41:51.729382Z",
     "start_time": "2023-09-01T07:41:51.621031Z"
    }
   },
   "outputs": [
    {
     "name": "stdout",
     "output_type": "stream",
     "text": [
      "Testing relu_backward function:\n",
      "dx error:  3.2755955148731643e-12\n"
     ]
    }
   ],
   "source": [
    "x = np.random.randn(10, 10)\n",
    "dout = np.random.randn(*x.shape)\n",
    "\n",
    "dx_num = eval_numerical_gradient_array(lambda x: relu_forward(x)[0], x, dout)\n",
    "\n",
    "_, cache = relu_forward(x)\n",
    "dx = relu_backward(dout, cache)\n",
    "\n",
    "# The error should be around 1e-12\n",
    "print('Testing relu_backward function:')\n",
    "print('dx error: ', rel_error(dx_num, dx))"
   ]
  },
  {
   "cell_type": "markdown",
   "metadata": {},
   "source": [
    "# \"Sandwich\" layers\n",
    "There are some common patterns of layers that are frequently used in neural nets. For example, affine layers are frequently followed by a ReLU nonlinearity. To make these common patterns easy, we define several convenience layers in the file `deeplearning/layer_utils.py`.\n",
    "\n",
    "For now take a look at the `affine_relu_forward` and `affine_relu_backward` functions, and run the following to numerically gradient check the backward pass:"
   ]
  },
  {
   "cell_type": "code",
   "execution_count": 42,
   "metadata": {
    "ExecuteTime": {
     "end_time": "2023-09-01T07:52:37.359434Z",
     "start_time": "2023-09-01T07:52:37.209902Z"
    }
   },
   "outputs": [
    {
     "name": "stdout",
     "output_type": "stream",
     "text": [
      "Testing affine_relu_forward:\n",
      "dx error:  1.6189981732725837e-11\n",
      "dw error:  6.634449034685112e-11\n",
      "db error:  1.8928932101850778e-11\n"
     ]
    }
   ],
   "source": [
    "from deeplearning.layer_utils import affine_relu_forward, affine_relu_backward\n",
    "\n",
    "x = np.random.randn(2, 3, 4)\n",
    "w = np.random.randn(12, 10)\n",
    "b = np.random.randn(10)\n",
    "dout = np.random.randn(2, 10)\n",
    "\n",
    "out, cache = affine_relu_forward(x, w, b)\n",
    "dx, dw, db = affine_relu_backward(dout, cache)\n",
    "\n",
    "dx_num = eval_numerical_gradient_array(lambda x: affine_relu_forward(x, w, b)[0], x, dout)\n",
    "dw_num = eval_numerical_gradient_array(lambda w: affine_relu_forward(x, w, b)[0], w, dout)\n",
    "db_num = eval_numerical_gradient_array(lambda b: affine_relu_forward(x, w, b)[0], b, dout)\n",
    "\n",
    "print('Testing affine_relu_forward:')\n",
    "print('dx error: ', rel_error(dx_num, dx))\n",
    "print('dw error: ', rel_error(dw_num, dw))\n",
    "print('db error: ', rel_error(db_num, db))"
   ]
  },
  {
   "cell_type": "markdown",
   "metadata": {},
   "source": [
    "# Loss layers: Softmax and SVM\n",
    "Here we provide two loss functions that we will use to train our deep neural networks. You should understand how they work by looking at the implementations in `deeplearning/layers.py`.\n",
    "\n",
    "You can make sure that the implementations are correct by running the following:"
   ]
  },
  {
   "cell_type": "code",
   "execution_count": 51,
   "metadata": {
    "ExecuteTime": {
     "end_time": "2023-09-01T08:43:41.398835Z",
     "start_time": "2023-09-01T08:43:41.082569Z"
    }
   },
   "outputs": [
    {
     "name": "stdout",
     "output_type": "stream",
     "text": [
      "(50, 10)\n",
      "(50,)\n",
      "Testing svm_loss:\n",
      "loss:  9.000977026840296\n",
      "dx error:  1.4021566006651672e-09\n",
      "\n",
      "Testing softmax_loss:\n",
      "loss:  2.302683249916458\n",
      "dx error:  8.766618947477147e-09\n"
     ]
    }
   ],
   "source": [
    "num_classes, num_inputs = 10, 50\n",
    "x = 0.001 * np.random.randn(num_inputs, num_classes)\n",
    "print(x.shape)\n",
    "y = np.random.randint(num_classes, size=num_inputs)\n",
    "print(y.shape)\n",
    "\n",
    "dx_num = eval_numerical_gradient(lambda x: svm_loss(x, y)[0], x, verbose=False)\n",
    "loss, dx = svm_loss(x, y)\n",
    "\n",
    "# Test svm_loss function. Loss should be around 9 and dx error should be 1e-9\n",
    "print('Testing svm_loss:')\n",
    "print('loss: ', loss)\n",
    "print('dx error: ', rel_error(dx_num, dx))\n",
    "\n",
    "dx_num = eval_numerical_gradient(lambda x: softmax_loss(x, y)[0], x, verbose=False)\n",
    "loss, dx = softmax_loss(x, y)\n",
    "\n",
    "# Test softmax_loss function. Loss should be 2.3 and dx error should be 1e-8\n",
    "print('\\nTesting softmax_loss:')\n",
    "print('loss: ', loss)\n",
    "print('dx error: ', rel_error(dx_num, dx))"
   ]
  },
  {
   "cell_type": "markdown",
   "metadata": {},
   "source": [
    "# Two-layer network\n",
    "\n",
    "Open the file `deeplearning/classifiers/fc_net.py` and complete the implementation of the `TwoLayerNet` class. This class will serve as a model for the other networks you will implement in this assignment, so read through it to make sure you understand the API. Run the cell below to test your implementation."
   ]
  },
  {
   "cell_type": "code",
   "execution_count": 53,
   "metadata": {
    "ExecuteTime": {
     "end_time": "2023-09-01T17:54:12.594704Z",
     "start_time": "2023-09-01T17:54:11.882976Z"
    }
   },
   "outputs": [
    {
     "name": "stdout",
     "output_type": "stream",
     "text": [
      "Testing initialization ... \n",
      "Testing test-time forward pass ... \n",
      "Testing training loss (no regularization)\n",
      "Running numeric gradient check with reg =  0.0\n",
      "W1 relative error: 1.83e-08\n",
      "W2 relative error: 3.37e-10\n",
      "b1 relative error: 8.01e-09\n",
      "b2 relative error: 2.53e-10\n",
      "Running numeric gradient check with reg =  0.7\n",
      "W1 relative error: 2.53e-07\n",
      "W2 relative error: 2.85e-08\n",
      "b1 relative error: 1.35e-08\n",
      "b2 relative error: 1.97e-09\n"
     ]
    }
   ],
   "source": [
    "N, D, H, C = 3, 5, 50, 7\n",
    "X = np.random.randn(N, D)\n",
    "y = np.random.randint(C, size=N)\n",
    "\n",
    "std = 1e-2\n",
    "model = TwoLayerNet(input_dim=D, hidden_dim=H, num_classes=C, weight_scale=std)\n",
    "\n",
    "print ('Testing initialization ... ')\n",
    "W1_std = abs(model.params['W1'].std() - std)\n",
    "b1 = model.params['b1']\n",
    "W2_std = abs(model.params['W2'].std() - std)\n",
    "b2 = model.params['b2']\n",
    "assert W1_std < std / 10, 'First layer weights do not seem right'\n",
    "assert np.all(b1 == 0), 'First layer biases do not seem right'\n",
    "assert W2_std < std / 10, 'Second layer weights do not seem right'\n",
    "assert np.all(b2 == 0), 'Second layer biases do not seem right'\n",
    "\n",
    "print ('Testing test-time forward pass ... ')\n",
    "model.params['W1'] = np.linspace(-0.7, 0.3, num=D*H).reshape(D, H)\n",
    "model.params['b1'] = np.linspace(-0.1, 0.9, num=H)\n",
    "model.params['W2'] = np.linspace(-0.3, 0.4, num=H*C).reshape(H, C)\n",
    "model.params['b2'] = np.linspace(-0.9, 0.1, num=C)\n",
    "X = np.linspace(-5.5, 4.5, num=N*D).reshape(D, N).T\n",
    "scores = model.loss(X)\n",
    "correct_scores = np.asarray(\n",
    "  [[11.53165108,  12.2917344,   13.05181771,  13.81190102,  14.57198434, 15.33206765,  16.09215096],\n",
    "   [12.05769098,  12.74614105,  13.43459113,  14.1230412,   14.81149128, 15.49994135,  16.18839143],\n",
    "   [12.58373087,  13.20054771,  13.81736455,  14.43418138,  15.05099822, 15.66781506,  16.2846319 ]])\n",
    "scores_diff = np.abs(scores - correct_scores).sum()\n",
    "assert scores_diff < 1e-6, 'Problem with test-time forward pass'\n",
    "\n",
    "print ('Testing training loss (no regularization)')\n",
    "y = np.asarray([0, 5, 1])\n",
    "loss, grads = model.loss(X, y)\n",
    "correct_loss = 3.4702243556\n",
    "assert abs(loss - correct_loss) < 1e-10, 'Problem with training-time loss'\n",
    "\n",
    "model.reg = 1.0\n",
    "loss, grads = model.loss(X, y)\n",
    "correct_loss = 26.5948426952\n",
    "assert abs(loss - correct_loss) < 1e-10, 'Problem with regularization loss'\n",
    "\n",
    "for reg in [0.0, 0.7]:\n",
    "    print ('Running numeric gradient check with reg = ', reg)\n",
    "    model.reg = reg\n",
    "    loss, grads = model.loss(X, y)\n",
    "\n",
    "    for name in sorted(grads):\n",
    "        f = lambda _: model.loss(X, y)[0]\n",
    "        grad_num = eval_numerical_gradient(f, model.params[name], verbose=False)\n",
    "        print ('%s relative error: %.2e' % (name, rel_error(grad_num, grads[name])))"
   ]
  },
  {
   "cell_type": "markdown",
   "metadata": {},
   "source": [
    "# Solver\n",
    "Following a modular design, for this assignment we have split the logic for training models into a separate class from the models themselves.\n",
    "\n",
    "Open the file `deeplearning/solver.py` and read through it to familiarize yourself with the API. After doing so, use a `Solver` instance to train a `TwoLayerNet` that achieves at least `50%` accuracy on the validation set."
   ]
  },
  {
   "cell_type": "code",
   "execution_count": 54,
   "metadata": {
    "ExecuteTime": {
     "end_time": "2023-09-01T18:14:00.514959Z",
     "start_time": "2023-09-01T18:11:32.516713Z"
    }
   },
   "outputs": [
    {
     "name": "stdout",
     "output_type": "stream",
     "text": [
      "(Iteration 1 / 4900) loss: 2.302200\n",
      "(Epoch 0 / 10) train acc: 0.163000; val_acc: 0.153000\n",
      "(Iteration 11 / 4900) loss: 2.231917\n",
      "(Iteration 21 / 4900) loss: 2.142166\n",
      "(Iteration 31 / 4900) loss: 1.999730\n",
      "(Iteration 41 / 4900) loss: 2.010403\n",
      "(Iteration 51 / 4900) loss: 1.928361\n",
      "(Iteration 61 / 4900) loss: 1.945485\n",
      "(Iteration 71 / 4900) loss: 1.882856\n",
      "(Iteration 81 / 4900) loss: 1.728381\n",
      "(Iteration 91 / 4900) loss: 1.906969\n",
      "(Iteration 101 / 4900) loss: 1.753786\n",
      "(Iteration 111 / 4900) loss: 1.755652\n",
      "(Iteration 121 / 4900) loss: 1.616164\n",
      "(Iteration 131 / 4900) loss: 1.769610\n",
      "(Iteration 141 / 4900) loss: 1.909818\n",
      "(Iteration 151 / 4900) loss: 1.597272\n",
      "(Iteration 161 / 4900) loss: 1.743147\n",
      "(Iteration 171 / 4900) loss: 1.612413\n",
      "(Iteration 181 / 4900) loss: 1.774063\n",
      "(Iteration 191 / 4900) loss: 1.682216\n",
      "(Iteration 201 / 4900) loss: 1.607974\n",
      "(Iteration 211 / 4900) loss: 1.571553\n",
      "(Iteration 221 / 4900) loss: 1.834397\n",
      "(Iteration 231 / 4900) loss: 1.708597\n",
      "(Iteration 241 / 4900) loss: 1.638292\n",
      "(Iteration 251 / 4900) loss: 1.631184\n",
      "(Iteration 261 / 4900) loss: 1.730343\n",
      "(Iteration 271 / 4900) loss: 1.554314\n",
      "(Iteration 281 / 4900) loss: 1.771400\n",
      "(Iteration 291 / 4900) loss: 1.703536\n",
      "(Iteration 301 / 4900) loss: 1.622848\n",
      "(Iteration 311 / 4900) loss: 1.861936\n",
      "(Iteration 321 / 4900) loss: 1.533123\n",
      "(Iteration 331 / 4900) loss: 1.695472\n",
      "(Iteration 341 / 4900) loss: 1.455229\n",
      "(Iteration 351 / 4900) loss: 1.647714\n",
      "(Iteration 361 / 4900) loss: 1.565112\n",
      "(Iteration 371 / 4900) loss: 1.408472\n",
      "(Iteration 381 / 4900) loss: 1.528136\n",
      "(Iteration 391 / 4900) loss: 1.544865\n",
      "(Iteration 401 / 4900) loss: 1.679178\n",
      "(Iteration 411 / 4900) loss: 1.569294\n",
      "(Iteration 421 / 4900) loss: 1.536686\n",
      "(Iteration 431 / 4900) loss: 1.601948\n",
      "(Iteration 441 / 4900) loss: 1.521264\n",
      "(Iteration 451 / 4900) loss: 1.645162\n",
      "(Iteration 461 / 4900) loss: 1.626752\n",
      "(Iteration 471 / 4900) loss: 1.501532\n",
      "(Iteration 481 / 4900) loss: 1.580079\n",
      "(Epoch 1 / 10) train acc: 0.423000; val_acc: 0.465000\n",
      "(Iteration 491 / 4900) loss: 1.522159\n",
      "(Iteration 501 / 4900) loss: 1.440079\n",
      "(Iteration 511 / 4900) loss: 1.637210\n",
      "(Iteration 521 / 4900) loss: 1.616487\n",
      "(Iteration 531 / 4900) loss: 1.618263\n",
      "(Iteration 541 / 4900) loss: 1.383876\n",
      "(Iteration 551 / 4900) loss: 1.670836\n",
      "(Iteration 561 / 4900) loss: 1.424371\n",
      "(Iteration 571 / 4900) loss: 1.504987\n",
      "(Iteration 581 / 4900) loss: 1.489151\n",
      "(Iteration 591 / 4900) loss: 1.737341\n",
      "(Iteration 601 / 4900) loss: 1.589540\n",
      "(Iteration 611 / 4900) loss: 1.422680\n",
      "(Iteration 621 / 4900) loss: 1.356162\n",
      "(Iteration 631 / 4900) loss: 1.528104\n",
      "(Iteration 641 / 4900) loss: 1.592219\n",
      "(Iteration 651 / 4900) loss: 1.509656\n",
      "(Iteration 661 / 4900) loss: 1.476810\n",
      "(Iteration 671 / 4900) loss: 1.474891\n",
      "(Iteration 681 / 4900) loss: 1.435919\n",
      "(Iteration 691 / 4900) loss: 1.590776\n",
      "(Iteration 701 / 4900) loss: 1.353957\n",
      "(Iteration 711 / 4900) loss: 1.521034\n",
      "(Iteration 721 / 4900) loss: 1.569912\n",
      "(Iteration 731 / 4900) loss: 1.806829\n",
      "(Iteration 741 / 4900) loss: 1.505060\n",
      "(Iteration 751 / 4900) loss: 1.432919\n",
      "(Iteration 761 / 4900) loss: 1.471917\n",
      "(Iteration 771 / 4900) loss: 1.489391\n",
      "(Iteration 781 / 4900) loss: 1.414588\n",
      "(Iteration 791 / 4900) loss: 1.512361\n",
      "(Iteration 801 / 4900) loss: 1.603914\n",
      "(Iteration 811 / 4900) loss: 1.479360\n",
      "(Iteration 821 / 4900) loss: 1.381470\n",
      "(Iteration 831 / 4900) loss: 1.482918\n",
      "(Iteration 841 / 4900) loss: 1.568550\n",
      "(Iteration 851 / 4900) loss: 1.453588\n",
      "(Iteration 861 / 4900) loss: 1.266417\n",
      "(Iteration 871 / 4900) loss: 1.436355\n",
      "(Iteration 881 / 4900) loss: 1.381649\n",
      "(Iteration 891 / 4900) loss: 1.469113\n",
      "(Iteration 901 / 4900) loss: 1.531470\n",
      "(Iteration 911 / 4900) loss: 1.650683\n",
      "(Iteration 921 / 4900) loss: 1.672902\n",
      "(Iteration 931 / 4900) loss: 1.422022\n",
      "(Iteration 941 / 4900) loss: 1.413180\n",
      "(Iteration 951 / 4900) loss: 1.327323\n",
      "(Iteration 961 / 4900) loss: 1.750922\n",
      "(Iteration 971 / 4900) loss: 1.422967\n",
      "(Epoch 2 / 10) train acc: 0.487000; val_acc: 0.478000\n",
      "(Iteration 981 / 4900) loss: 1.520400\n",
      "(Iteration 991 / 4900) loss: 1.415506\n",
      "(Iteration 1001 / 4900) loss: 1.508550\n",
      "(Iteration 1011 / 4900) loss: 1.553631\n",
      "(Iteration 1021 / 4900) loss: 1.378758\n",
      "(Iteration 1031 / 4900) loss: 1.460979\n",
      "(Iteration 1041 / 4900) loss: 1.383506\n",
      "(Iteration 1051 / 4900) loss: 1.447459\n",
      "(Iteration 1061 / 4900) loss: 1.375973\n",
      "(Iteration 1071 / 4900) loss: 1.374427\n",
      "(Iteration 1081 / 4900) loss: 1.494909\n",
      "(Iteration 1091 / 4900) loss: 1.503382\n",
      "(Iteration 1101 / 4900) loss: 1.538203\n",
      "(Iteration 1111 / 4900) loss: 1.400416\n",
      "(Iteration 1121 / 4900) loss: 1.775231\n",
      "(Iteration 1131 / 4900) loss: 1.601023\n",
      "(Iteration 1141 / 4900) loss: 1.444948\n",
      "(Iteration 1151 / 4900) loss: 1.428945\n",
      "(Iteration 1161 / 4900) loss: 1.308339\n",
      "(Iteration 1171 / 4900) loss: 1.414229\n",
      "(Iteration 1181 / 4900) loss: 1.256418\n",
      "(Iteration 1191 / 4900) loss: 1.467182\n",
      "(Iteration 1201 / 4900) loss: 1.512565\n",
      "(Iteration 1211 / 4900) loss: 1.433306\n",
      "(Iteration 1221 / 4900) loss: 1.455632\n",
      "(Iteration 1231 / 4900) loss: 1.153260\n",
      "(Iteration 1241 / 4900) loss: 1.636892\n",
      "(Iteration 1251 / 4900) loss: 1.336948\n",
      "(Iteration 1261 / 4900) loss: 1.600785\n",
      "(Iteration 1271 / 4900) loss: 1.627226\n",
      "(Iteration 1281 / 4900) loss: 1.338556\n",
      "(Iteration 1291 / 4900) loss: 1.297348\n",
      "(Iteration 1301 / 4900) loss: 1.423440\n",
      "(Iteration 1311 / 4900) loss: 1.263790\n",
      "(Iteration 1321 / 4900) loss: 1.610620\n",
      "(Iteration 1331 / 4900) loss: 1.547304\n",
      "(Iteration 1341 / 4900) loss: 1.216646\n",
      "(Iteration 1351 / 4900) loss: 1.457686\n",
      "(Iteration 1361 / 4900) loss: 1.487086\n",
      "(Iteration 1371 / 4900) loss: 1.281508\n",
      "(Iteration 1381 / 4900) loss: 1.350019\n",
      "(Iteration 1391 / 4900) loss: 1.466485\n",
      "(Iteration 1401 / 4900) loss: 1.276861\n",
      "(Iteration 1411 / 4900) loss: 1.383062\n",
      "(Iteration 1421 / 4900) loss: 1.357723\n",
      "(Iteration 1431 / 4900) loss: 1.313200\n",
      "(Iteration 1441 / 4900) loss: 1.370297\n",
      "(Iteration 1451 / 4900) loss: 1.301766\n",
      "(Iteration 1461 / 4900) loss: 1.359720\n",
      "(Epoch 3 / 10) train acc: 0.491000; val_acc: 0.476000\n",
      "(Iteration 1471 / 4900) loss: 1.457077\n",
      "(Iteration 1481 / 4900) loss: 1.422645\n",
      "(Iteration 1491 / 4900) loss: 1.187646\n",
      "(Iteration 1501 / 4900) loss: 1.247785\n",
      "(Iteration 1511 / 4900) loss: 1.546766\n",
      "(Iteration 1521 / 4900) loss: 1.384839\n",
      "(Iteration 1531 / 4900) loss: 1.426291\n",
      "(Iteration 1541 / 4900) loss: 1.467959\n",
      "(Iteration 1551 / 4900) loss: 1.302485\n",
      "(Iteration 1561 / 4900) loss: 1.326739\n",
      "(Iteration 1571 / 4900) loss: 1.285621\n",
      "(Iteration 1581 / 4900) loss: 1.453188\n",
      "(Iteration 1591 / 4900) loss: 1.336483\n",
      "(Iteration 1601 / 4900) loss: 1.409737\n",
      "(Iteration 1611 / 4900) loss: 1.321840\n",
      "(Iteration 1621 / 4900) loss: 1.229588\n",
      "(Iteration 1631 / 4900) loss: 1.516709\n",
      "(Iteration 1641 / 4900) loss: 1.303572\n",
      "(Iteration 1651 / 4900) loss: 1.401109\n",
      "(Iteration 1661 / 4900) loss: 1.319404\n",
      "(Iteration 1671 / 4900) loss: 1.101511\n",
      "(Iteration 1681 / 4900) loss: 1.258561\n",
      "(Iteration 1691 / 4900) loss: 1.445915\n",
      "(Iteration 1701 / 4900) loss: 1.305931\n",
      "(Iteration 1711 / 4900) loss: 1.204569\n",
      "(Iteration 1721 / 4900) loss: 1.396350\n",
      "(Iteration 1731 / 4900) loss: 1.245458\n",
      "(Iteration 1741 / 4900) loss: 1.374640\n",
      "(Iteration 1751 / 4900) loss: 1.323048\n",
      "(Iteration 1761 / 4900) loss: 1.298781\n",
      "(Iteration 1771 / 4900) loss: 1.396236\n",
      "(Iteration 1781 / 4900) loss: 1.440464\n",
      "(Iteration 1791 / 4900) loss: 1.364231\n",
      "(Iteration 1801 / 4900) loss: 1.451152\n",
      "(Iteration 1811 / 4900) loss: 1.271133\n",
      "(Iteration 1821 / 4900) loss: 1.306826\n",
      "(Iteration 1831 / 4900) loss: 1.474261\n",
      "(Iteration 1841 / 4900) loss: 1.392993\n",
      "(Iteration 1851 / 4900) loss: 1.315030\n",
      "(Iteration 1861 / 4900) loss: 1.406254\n",
      "(Iteration 1871 / 4900) loss: 1.174179\n",
      "(Iteration 1881 / 4900) loss: 1.256301\n",
      "(Iteration 1891 / 4900) loss: 1.489116\n",
      "(Iteration 1901 / 4900) loss: 1.320758\n",
      "(Iteration 1911 / 4900) loss: 1.346600\n",
      "(Iteration 1921 / 4900) loss: 1.195934\n",
      "(Iteration 1931 / 4900) loss: 1.535967\n",
      "(Iteration 1941 / 4900) loss: 1.433232\n",
      "(Iteration 1951 / 4900) loss: 1.162193\n",
      "(Epoch 4 / 10) train acc: 0.520000; val_acc: 0.507000\n",
      "(Iteration 1961 / 4900) loss: 1.178384\n",
      "(Iteration 1971 / 4900) loss: 1.371210\n",
      "(Iteration 1981 / 4900) loss: 1.227807\n",
      "(Iteration 1991 / 4900) loss: 1.262796\n",
      "(Iteration 2001 / 4900) loss: 1.367472\n",
      "(Iteration 2011 / 4900) loss: 1.621010\n",
      "(Iteration 2021 / 4900) loss: 1.105175\n",
      "(Iteration 2031 / 4900) loss: 1.377139\n",
      "(Iteration 2041 / 4900) loss: 1.208154\n",
      "(Iteration 2051 / 4900) loss: 1.312291\n"
     ]
    },
    {
     "name": "stdout",
     "output_type": "stream",
     "text": [
      "(Iteration 2061 / 4900) loss: 1.287963\n",
      "(Iteration 2071 / 4900) loss: 1.366411\n",
      "(Iteration 2081 / 4900) loss: 1.287543\n",
      "(Iteration 2091 / 4900) loss: 1.312250\n",
      "(Iteration 2101 / 4900) loss: 1.134978\n",
      "(Iteration 2111 / 4900) loss: 1.197892\n",
      "(Iteration 2121 / 4900) loss: 1.434499\n",
      "(Iteration 2131 / 4900) loss: 1.307173\n",
      "(Iteration 2141 / 4900) loss: 1.255616\n",
      "(Iteration 2151 / 4900) loss: 1.339844\n",
      "(Iteration 2161 / 4900) loss: 1.271661\n",
      "(Iteration 2171 / 4900) loss: 1.475753\n",
      "(Iteration 2181 / 4900) loss: 1.291853\n",
      "(Iteration 2191 / 4900) loss: 1.322866\n",
      "(Iteration 2201 / 4900) loss: 1.309612\n",
      "(Iteration 2211 / 4900) loss: 1.262015\n",
      "(Iteration 2221 / 4900) loss: 1.386694\n",
      "(Iteration 2231 / 4900) loss: 1.330761\n",
      "(Iteration 2241 / 4900) loss: 1.328698\n",
      "(Iteration 2251 / 4900) loss: 1.279404\n",
      "(Iteration 2261 / 4900) loss: 1.312199\n",
      "(Iteration 2271 / 4900) loss: 1.176355\n",
      "(Iteration 2281 / 4900) loss: 1.441772\n",
      "(Iteration 2291 / 4900) loss: 1.327134\n",
      "(Iteration 2301 / 4900) loss: 1.489699\n",
      "(Iteration 2311 / 4900) loss: 1.373198\n",
      "(Iteration 2321 / 4900) loss: 1.571646\n",
      "(Iteration 2331 / 4900) loss: 1.161966\n",
      "(Iteration 2341 / 4900) loss: 1.395921\n",
      "(Iteration 2351 / 4900) loss: 1.595651\n",
      "(Iteration 2361 / 4900) loss: 1.352566\n",
      "(Iteration 2371 / 4900) loss: 1.327999\n",
      "(Iteration 2381 / 4900) loss: 0.990487\n",
      "(Iteration 2391 / 4900) loss: 1.376227\n",
      "(Iteration 2401 / 4900) loss: 1.227961\n",
      "(Iteration 2411 / 4900) loss: 1.163465\n",
      "(Iteration 2421 / 4900) loss: 1.490608\n",
      "(Iteration 2431 / 4900) loss: 1.219947\n",
      "(Iteration 2441 / 4900) loss: 1.276220\n",
      "(Epoch 5 / 10) train acc: 0.551000; val_acc: 0.503000\n",
      "(Iteration 2451 / 4900) loss: 1.322548\n",
      "(Iteration 2461 / 4900) loss: 1.319693\n",
      "(Iteration 2471 / 4900) loss: 1.178001\n",
      "(Iteration 2481 / 4900) loss: 1.156131\n",
      "(Iteration 2491 / 4900) loss: 1.357760\n",
      "(Iteration 2501 / 4900) loss: 1.279037\n",
      "(Iteration 2511 / 4900) loss: 1.224339\n",
      "(Iteration 2521 / 4900) loss: 1.138730\n",
      "(Iteration 2531 / 4900) loss: 1.239748\n",
      "(Iteration 2541 / 4900) loss: 1.177361\n",
      "(Iteration 2551 / 4900) loss: 1.454039\n",
      "(Iteration 2561 / 4900) loss: 1.216800\n",
      "(Iteration 2571 / 4900) loss: 1.273694\n",
      "(Iteration 2581 / 4900) loss: 1.218708\n",
      "(Iteration 2591 / 4900) loss: 1.169243\n",
      "(Iteration 2601 / 4900) loss: 1.303368\n",
      "(Iteration 2611 / 4900) loss: 1.125775\n",
      "(Iteration 2621 / 4900) loss: 1.300472\n",
      "(Iteration 2631 / 4900) loss: 1.361577\n",
      "(Iteration 2641 / 4900) loss: 1.317236\n",
      "(Iteration 2651 / 4900) loss: 1.312616\n",
      "(Iteration 2661 / 4900) loss: 1.144528\n",
      "(Iteration 2671 / 4900) loss: 1.036399\n",
      "(Iteration 2681 / 4900) loss: 1.341257\n",
      "(Iteration 2691 / 4900) loss: 1.304692\n",
      "(Iteration 2701 / 4900) loss: 1.251457\n",
      "(Iteration 2711 / 4900) loss: 1.343697\n",
      "(Iteration 2721 / 4900) loss: 1.230359\n",
      "(Iteration 2731 / 4900) loss: 1.324646\n",
      "(Iteration 2741 / 4900) loss: 1.412797\n",
      "(Iteration 2751 / 4900) loss: 1.158986\n",
      "(Iteration 2761 / 4900) loss: 1.358764\n",
      "(Iteration 2771 / 4900) loss: 1.284690\n",
      "(Iteration 2781 / 4900) loss: 1.163947\n",
      "(Iteration 2791 / 4900) loss: 1.309024\n",
      "(Iteration 2801 / 4900) loss: 1.158321\n",
      "(Iteration 2811 / 4900) loss: 1.246397\n",
      "(Iteration 2821 / 4900) loss: 1.310271\n",
      "(Iteration 2831 / 4900) loss: 1.481452\n",
      "(Iteration 2841 / 4900) loss: 1.182802\n",
      "(Iteration 2851 / 4900) loss: 1.285832\n",
      "(Iteration 2861 / 4900) loss: 1.072566\n",
      "(Iteration 2871 / 4900) loss: 1.293992\n",
      "(Iteration 2881 / 4900) loss: 1.105257\n",
      "(Iteration 2891 / 4900) loss: 1.152519\n",
      "(Iteration 2901 / 4900) loss: 1.278461\n",
      "(Iteration 2911 / 4900) loss: 1.196380\n",
      "(Iteration 2921 / 4900) loss: 1.274265\n",
      "(Iteration 2931 / 4900) loss: 1.226121\n",
      "(Epoch 6 / 10) train acc: 0.576000; val_acc: 0.499000\n",
      "(Iteration 2941 / 4900) loss: 1.027549\n",
      "(Iteration 2951 / 4900) loss: 1.130981\n",
      "(Iteration 2961 / 4900) loss: 1.041123\n",
      "(Iteration 2971 / 4900) loss: 1.239507\n",
      "(Iteration 2981 / 4900) loss: 1.165142\n",
      "(Iteration 2991 / 4900) loss: 1.382612\n",
      "(Iteration 3001 / 4900) loss: 1.325712\n",
      "(Iteration 3011 / 4900) loss: 1.388107\n",
      "(Iteration 3021 / 4900) loss: 1.288726\n",
      "(Iteration 3031 / 4900) loss: 1.136926\n",
      "(Iteration 3041 / 4900) loss: 1.335612\n",
      "(Iteration 3051 / 4900) loss: 1.330235\n",
      "(Iteration 3061 / 4900) loss: 1.117572\n",
      "(Iteration 3071 / 4900) loss: 1.282596\n",
      "(Iteration 3081 / 4900) loss: 1.204207\n",
      "(Iteration 3091 / 4900) loss: 1.214916\n",
      "(Iteration 3101 / 4900) loss: 1.350395\n",
      "(Iteration 3111 / 4900) loss: 1.287491\n",
      "(Iteration 3121 / 4900) loss: 1.271709\n",
      "(Iteration 3131 / 4900) loss: 1.160363\n",
      "(Iteration 3141 / 4900) loss: 1.115328\n",
      "(Iteration 3151 / 4900) loss: 1.187029\n",
      "(Iteration 3161 / 4900) loss: 1.018500\n",
      "(Iteration 3171 / 4900) loss: 1.228533\n",
      "(Iteration 3181 / 4900) loss: 1.256316\n",
      "(Iteration 3191 / 4900) loss: 1.454411\n",
      "(Iteration 3201 / 4900) loss: 1.281874\n",
      "(Iteration 3211 / 4900) loss: 1.332508\n",
      "(Iteration 3221 / 4900) loss: 1.104101\n",
      "(Iteration 3231 / 4900) loss: 1.011786\n",
      "(Iteration 3241 / 4900) loss: 1.172462\n",
      "(Iteration 3251 / 4900) loss: 1.268284\n",
      "(Iteration 3261 / 4900) loss: 1.225733\n",
      "(Iteration 3271 / 4900) loss: 1.326433\n",
      "(Iteration 3281 / 4900) loss: 1.382120\n",
      "(Iteration 3291 / 4900) loss: 1.270326\n",
      "(Iteration 3301 / 4900) loss: 1.073040\n",
      "(Iteration 3311 / 4900) loss: 1.202861\n",
      "(Iteration 3321 / 4900) loss: 1.253096\n",
      "(Iteration 3331 / 4900) loss: 1.378752\n",
      "(Iteration 3341 / 4900) loss: 1.098383\n",
      "(Iteration 3351 / 4900) loss: 1.088157\n",
      "(Iteration 3361 / 4900) loss: 1.041857\n",
      "(Iteration 3371 / 4900) loss: 0.993386\n",
      "(Iteration 3381 / 4900) loss: 1.111333\n",
      "(Iteration 3391 / 4900) loss: 1.052447\n",
      "(Iteration 3401 / 4900) loss: 1.133935\n",
      "(Iteration 3411 / 4900) loss: 1.214969\n",
      "(Iteration 3421 / 4900) loss: 1.178717\n",
      "(Epoch 7 / 10) train acc: 0.584000; val_acc: 0.514000\n",
      "(Iteration 3431 / 4900) loss: 1.060797\n",
      "(Iteration 3441 / 4900) loss: 1.375484\n",
      "(Iteration 3451 / 4900) loss: 1.149508\n",
      "(Iteration 3461 / 4900) loss: 1.192698\n",
      "(Iteration 3471 / 4900) loss: 1.226944\n",
      "(Iteration 3481 / 4900) loss: 1.115592\n",
      "(Iteration 3491 / 4900) loss: 1.347524\n",
      "(Iteration 3501 / 4900) loss: 1.196330\n",
      "(Iteration 3511 / 4900) loss: 1.425034\n",
      "(Iteration 3521 / 4900) loss: 1.439929\n",
      "(Iteration 3531 / 4900) loss: 1.204649\n",
      "(Iteration 3541 / 4900) loss: 0.974621\n",
      "(Iteration 3551 / 4900) loss: 1.096343\n",
      "(Iteration 3561 / 4900) loss: 1.174604\n",
      "(Iteration 3571 / 4900) loss: 0.990531\n",
      "(Iteration 3581 / 4900) loss: 1.150003\n",
      "(Iteration 3591 / 4900) loss: 1.173646\n",
      "(Iteration 3601 / 4900) loss: 1.226079\n",
      "(Iteration 3611 / 4900) loss: 1.297295\n",
      "(Iteration 3621 / 4900) loss: 0.920125\n",
      "(Iteration 3631 / 4900) loss: 1.105256\n",
      "(Iteration 3641 / 4900) loss: 1.382492\n",
      "(Iteration 3651 / 4900) loss: 1.095413\n",
      "(Iteration 3661 / 4900) loss: 1.129376\n",
      "(Iteration 3671 / 4900) loss: 1.104743\n",
      "(Iteration 3681 / 4900) loss: 1.209733\n",
      "(Iteration 3691 / 4900) loss: 1.318982\n",
      "(Iteration 3701 / 4900) loss: 1.073731\n",
      "(Iteration 3711 / 4900) loss: 1.042296\n",
      "(Iteration 3721 / 4900) loss: 1.433537\n",
      "(Iteration 3731 / 4900) loss: 1.283833\n",
      "(Iteration 3741 / 4900) loss: 1.067511\n",
      "(Iteration 3751 / 4900) loss: 1.111124\n",
      "(Iteration 3761 / 4900) loss: 1.213780\n",
      "(Iteration 3771 / 4900) loss: 1.064061\n",
      "(Iteration 3781 / 4900) loss: 1.229469\n",
      "(Iteration 3791 / 4900) loss: 1.072120\n",
      "(Iteration 3801 / 4900) loss: 1.181468\n",
      "(Iteration 3811 / 4900) loss: 1.030693\n",
      "(Iteration 3821 / 4900) loss: 1.267168\n",
      "(Iteration 3831 / 4900) loss: 1.123228\n",
      "(Iteration 3841 / 4900) loss: 1.113110\n",
      "(Iteration 3851 / 4900) loss: 1.207585\n",
      "(Iteration 3861 / 4900) loss: 1.112693\n",
      "(Iteration 3871 / 4900) loss: 1.135171\n",
      "(Iteration 3881 / 4900) loss: 1.031205\n",
      "(Iteration 3891 / 4900) loss: 1.233912\n",
      "(Iteration 3901 / 4900) loss: 1.029339\n",
      "(Iteration 3911 / 4900) loss: 0.992219\n",
      "(Epoch 8 / 10) train acc: 0.589000; val_acc: 0.531000\n",
      "(Iteration 3921 / 4900) loss: 1.182662\n",
      "(Iteration 3931 / 4900) loss: 1.052046\n",
      "(Iteration 3941 / 4900) loss: 1.111059\n",
      "(Iteration 3951 / 4900) loss: 1.081014\n",
      "(Iteration 3961 / 4900) loss: 1.162012\n",
      "(Iteration 3971 / 4900) loss: 1.301665\n",
      "(Iteration 3981 / 4900) loss: 1.353234\n",
      "(Iteration 3991 / 4900) loss: 1.087708\n",
      "(Iteration 4001 / 4900) loss: 1.253034\n",
      "(Iteration 4011 / 4900) loss: 1.066964\n",
      "(Iteration 4021 / 4900) loss: 1.110957\n",
      "(Iteration 4031 / 4900) loss: 1.264326\n",
      "(Iteration 4041 / 4900) loss: 1.123075\n",
      "(Iteration 4051 / 4900) loss: 1.044427\n",
      "(Iteration 4061 / 4900) loss: 1.024520\n",
      "(Iteration 4071 / 4900) loss: 0.986309\n",
      "(Iteration 4081 / 4900) loss: 0.979890\n",
      "(Iteration 4091 / 4900) loss: 1.043200\n",
      "(Iteration 4101 / 4900) loss: 1.513115\n"
     ]
    },
    {
     "name": "stdout",
     "output_type": "stream",
     "text": [
      "(Iteration 4111 / 4900) loss: 1.006665\n",
      "(Iteration 4121 / 4900) loss: 1.044152\n",
      "(Iteration 4131 / 4900) loss: 1.159363\n",
      "(Iteration 4141 / 4900) loss: 1.013834\n",
      "(Iteration 4151 / 4900) loss: 1.288713\n",
      "(Iteration 4161 / 4900) loss: 1.135213\n",
      "(Iteration 4171 / 4900) loss: 1.323370\n",
      "(Iteration 4181 / 4900) loss: 1.185491\n",
      "(Iteration 4191 / 4900) loss: 0.967632\n",
      "(Iteration 4201 / 4900) loss: 0.994612\n",
      "(Iteration 4211 / 4900) loss: 1.169745\n",
      "(Iteration 4221 / 4900) loss: 1.122892\n",
      "(Iteration 4231 / 4900) loss: 0.983917\n",
      "(Iteration 4241 / 4900) loss: 1.181607\n",
      "(Iteration 4251 / 4900) loss: 1.148094\n",
      "(Iteration 4261 / 4900) loss: 1.253217\n",
      "(Iteration 4271 / 4900) loss: 1.043881\n",
      "(Iteration 4281 / 4900) loss: 1.066219\n",
      "(Iteration 4291 / 4900) loss: 1.047465\n",
      "(Iteration 4301 / 4900) loss: 1.086130\n",
      "(Iteration 4311 / 4900) loss: 1.031667\n",
      "(Iteration 4321 / 4900) loss: 1.130621\n",
      "(Iteration 4331 / 4900) loss: 1.043633\n",
      "(Iteration 4341 / 4900) loss: 1.151727\n",
      "(Iteration 4351 / 4900) loss: 1.096083\n",
      "(Iteration 4361 / 4900) loss: 1.077715\n",
      "(Iteration 4371 / 4900) loss: 1.011891\n",
      "(Iteration 4381 / 4900) loss: 1.169823\n",
      "(Iteration 4391 / 4900) loss: 1.205633\n",
      "(Iteration 4401 / 4900) loss: 1.025208\n",
      "(Epoch 9 / 10) train acc: 0.571000; val_acc: 0.530000\n",
      "(Iteration 4411 / 4900) loss: 1.321538\n",
      "(Iteration 4421 / 4900) loss: 0.999766\n",
      "(Iteration 4431 / 4900) loss: 1.175301\n",
      "(Iteration 4441 / 4900) loss: 1.187696\n",
      "(Iteration 4451 / 4900) loss: 0.886020\n",
      "(Iteration 4461 / 4900) loss: 1.235982\n",
      "(Iteration 4471 / 4900) loss: 1.124777\n",
      "(Iteration 4481 / 4900) loss: 1.111138\n",
      "(Iteration 4491 / 4900) loss: 0.995131\n",
      "(Iteration 4501 / 4900) loss: 1.055676\n",
      "(Iteration 4511 / 4900) loss: 1.234287\n",
      "(Iteration 4521 / 4900) loss: 1.323322\n",
      "(Iteration 4531 / 4900) loss: 1.016847\n",
      "(Iteration 4541 / 4900) loss: 1.062326\n",
      "(Iteration 4551 / 4900) loss: 1.223235\n",
      "(Iteration 4561 / 4900) loss: 1.100123\n",
      "(Iteration 4571 / 4900) loss: 0.996029\n",
      "(Iteration 4581 / 4900) loss: 1.213377\n",
      "(Iteration 4591 / 4900) loss: 1.345744\n",
      "(Iteration 4601 / 4900) loss: 0.850735\n",
      "(Iteration 4611 / 4900) loss: 1.032776\n",
      "(Iteration 4621 / 4900) loss: 1.129200\n",
      "(Iteration 4631 / 4900) loss: 1.063033\n",
      "(Iteration 4641 / 4900) loss: 1.234299\n",
      "(Iteration 4651 / 4900) loss: 1.165128\n",
      "(Iteration 4661 / 4900) loss: 1.119541\n",
      "(Iteration 4671 / 4900) loss: 1.349672\n",
      "(Iteration 4681 / 4900) loss: 1.111159\n",
      "(Iteration 4691 / 4900) loss: 1.155309\n",
      "(Iteration 4701 / 4900) loss: 0.969200\n",
      "(Iteration 4711 / 4900) loss: 1.030279\n",
      "(Iteration 4721 / 4900) loss: 1.166138\n",
      "(Iteration 4731 / 4900) loss: 1.259919\n",
      "(Iteration 4741 / 4900) loss: 1.112485\n",
      "(Iteration 4751 / 4900) loss: 1.020365\n",
      "(Iteration 4761 / 4900) loss: 1.199933\n",
      "(Iteration 4771 / 4900) loss: 1.034225\n",
      "(Iteration 4781 / 4900) loss: 1.265823\n",
      "(Iteration 4791 / 4900) loss: 0.947925\n",
      "(Iteration 4801 / 4900) loss: 1.176898\n",
      "(Iteration 4811 / 4900) loss: 1.073337\n",
      "(Iteration 4821 / 4900) loss: 1.033501\n",
      "(Iteration 4831 / 4900) loss: 1.129726\n",
      "(Iteration 4841 / 4900) loss: 1.120636\n",
      "(Iteration 4851 / 4900) loss: 1.164184\n",
      "(Iteration 4861 / 4900) loss: 1.067640\n",
      "(Iteration 4871 / 4900) loss: 1.052669\n",
      "(Iteration 4881 / 4900) loss: 1.260298\n",
      "(Iteration 4891 / 4900) loss: 1.239866\n",
      "(Epoch 10 / 10) train acc: 0.627000; val_acc: 0.512000\n"
     ]
    }
   ],
   "source": [
    "model = TwoLayerNet()\n",
    "solver = None\n",
    "\n",
    "##############################################################################\n",
    "# TODO: Use a Solver instance to train a TwoLayerNet that achieves at least  #\n",
    "# 50% accuracy on the validation set.                                        #\n",
    "##############################################################################\n",
    "optim_config = {}\n",
    "optim_config['learning_rate'] = 0.001\n",
    "solver = Solver(model, data, optim_config=optim_config, lr_decay=0.9, num_epochs=10)\n",
    "solver.train()\n",
    "##############################################################################\n",
    "#                             END OF YOUR CODE                               #\n",
    "##############################################################################"
   ]
  },
  {
   "cell_type": "code",
   "execution_count": 55,
   "metadata": {
    "ExecuteTime": {
     "end_time": "2023-09-01T18:14:12.811568Z",
     "start_time": "2023-09-01T18:14:12.159936Z"
    }
   },
   "outputs": [
    {
     "data": {
      "image/png": "[encoded data removed]",
      "text/plain": [
       "<Figure size 1500x1200 with 2 Axes>"
      ]
     },
     "metadata": {},
     "output_type": "display_data"
    }
   ],
   "source": [
    "# Run this cell to visualize training loss and train / val accuracy, and save the log file of the\n",
    "# experiment for submission.\n",
    "\n",
    "plt.subplot(2, 1, 1)\n",
    "plt.title('Training loss')\n",
    "plt.plot(solver.loss_history, 'o')\n",
    "plt.xlabel('Iteration')\n",
    "\n",
    "plt.subplot(2, 1, 2)\n",
    "plt.title('Accuracy')\n",
    "plt.plot(solver.train_acc_history, '-o', label='train')\n",
    "plt.plot(solver.val_acc_history, '-o', label='val')\n",
    "plt.plot([0.5] * len(solver.val_acc_history), 'k--')\n",
    "plt.xlabel('Epoch')\n",
    "plt.legend(loc='lower right')\n",
    "plt.gcf().set_size_inches(15, 12)\n",
    "plt.show()\n",
    "\n",
    "os.makedirs('submission_logs', exist_ok=True)\n",
    "solver.record_histories_as_npz('submission_logs/train_2layer_fc.npz')"
   ]
  },
  {
   "cell_type": "markdown",
   "metadata": {},
   "source": [
    "# Multilayer network\n",
    "Next you will implement a fully-connected network with an arbitrary number of hidden layers.\n",
    "\n",
    "Read through the `FullyConnectedNet` class in the file `deeplearning/classifiers/fc_net.py`.\n",
    "\n",
    "Implement the initialization, the forward pass, and the backward pass. For the moment don't worry about implementing dropout or batch normalization; we will add those features soon."
   ]
  },
  {
   "cell_type": "markdown",
   "metadata": {},
   "source": [
    "## Initial loss and gradient check"
   ]
  },
  {
   "cell_type": "markdown",
   "metadata": {},
   "source": [
    "As a sanity check, run the following to check the initial loss and to gradient check the network both with and without regularization. Do the initial losses seem reasonable?\n",
    "\n",
    "For gradient checking, you should expect to see errors around 1e-6 or less."
   ]
  },
  {
   "cell_type": "code",
   "execution_count": 73,
   "metadata": {
    "ExecuteTime": {
     "end_time": "2023-09-01T19:33:22.909583Z",
     "start_time": "2023-09-01T19:33:20.476135Z"
    }
   },
   "outputs": [
    {
     "name": "stdout",
     "output_type": "stream",
     "text": [
      "Running check with reg =  0\n",
      "Initial loss:  2.3015511414743095\n",
      "W1 relative error: 5.50e-05\n",
      "W2 relative error: 5.25e-07\n",
      "W3 relative error: 1.51e-07\n",
      "b1 relative error: 1.95e-07\n",
      "b2 relative error: 1.07e-08\n",
      "b3 relative error: 1.88e-10\n",
      "Running check with reg =  3.14\n",
      "Initial loss:  6.89570860131877\n",
      "W1 relative error: 7.63e-09\n",
      "W2 relative error: 1.20e-07\n",
      "W3 relative error: 3.47e-08\n",
      "b1 relative error: 5.37e-08\n",
      "b2 relative error: 5.03e-08\n",
      "b3 relative error: 1.62e-10\n"
     ]
    }
   ],
   "source": [
    "N, D, H1, H2, C = 2, 15, 20, 30, 10\n",
    "X = np.random.randn(N, D)\n",
    "y = np.random.randint(C, size=(N,))\n",
    "\n",
    "for reg in [0, 3.14]:\n",
    "    print ('Running check with reg = ', reg)\n",
    "    model = FullyConnectedNet([H1, H2], input_dim=D, num_classes=C,\n",
    "                              reg=reg, weight_scale=5e-2, dtype=np.float64)\n",
    "\n",
    "    loss, grads = model.loss(X, y)\n",
    "    print ('Initial loss: ', loss)\n",
    "\n",
    "    for name in sorted(grads):\n",
    "        f = lambda _: model.loss(X, y)[0]\n",
    "        grad_num = eval_numerical_gradient(f, model.params[name], verbose=False, h=1e-5)\n",
    "        print ('%s relative error: %.2e' % (name, rel_error(grad_num, grads[name])))"
   ]
  },
  {
   "cell_type": "markdown",
   "metadata": {},
   "source": [
    "As another sanity check, make sure you can overfit a small dataset of 50 images. First we will try a three-layer network with 100 units in each hidden layer. You will need to tweak the learning rate and initialization scale, but you should be able to overfit and achieve 100% training accuracy within 20 epochs."
   ]
  },
  {
   "cell_type": "code",
   "execution_count": 81,
   "metadata": {
    "ExecuteTime": {
     "end_time": "2023-09-01T20:44:51.164163Z",
     "start_time": "2023-09-01T20:44:46.843334Z"
    }
   },
   "outputs": [
    {
     "name": "stderr",
     "output_type": "stream",
     "text": [
      "F:\\new_gitee_code\\neutral_network\\cs182hw1\\deeplearning\\layers.py:168: RuntimeWarning: divide by zero encountered in log\n",
      "  dx /= N\n"
     ]
    },
    {
     "name": "stdout",
     "output_type": "stream",
     "text": [
      "(Iteration 1 / 40) loss: inf\n",
      "(Epoch 0 / 20) train acc: 0.320000; val_acc: 0.132000\n",
      "(Epoch 1 / 20) train acc: 0.240000; val_acc: 0.088000\n",
      "(Epoch 2 / 20) train acc: 0.560000; val_acc: 0.125000\n",
      "(Epoch 3 / 20) train acc: 0.760000; val_acc: 0.149000\n",
      "(Epoch 4 / 20) train acc: 0.880000; val_acc: 0.129000\n",
      "(Epoch 5 / 20) train acc: 0.960000; val_acc: 0.146000\n",
      "(Iteration 11 / 40) loss: 0.008450\n",
      "(Epoch 6 / 20) train acc: 0.980000; val_acc: 0.142000\n",
      "(Epoch 7 / 20) train acc: 0.980000; val_acc: 0.142000\n",
      "(Epoch 8 / 20) train acc: 0.960000; val_acc: 0.149000\n",
      "(Epoch 9 / 20) train acc: 1.000000; val_acc: 0.145000\n",
      "(Epoch 10 / 20) train acc: 1.000000; val_acc: 0.145000\n",
      "(Iteration 21 / 40) loss: 0.000000\n",
      "(Epoch 11 / 20) train acc: 1.000000; val_acc: 0.145000\n",
      "(Epoch 12 / 20) train acc: 1.000000; val_acc: 0.145000\n",
      "(Epoch 13 / 20) train acc: 1.000000; val_acc: 0.145000\n",
      "(Epoch 14 / 20) train acc: 1.000000; val_acc: 0.145000\n",
      "(Epoch 15 / 20) train acc: 1.000000; val_acc: 0.145000\n",
      "(Iteration 31 / 40) loss: 0.000033\n",
      "(Epoch 16 / 20) train acc: 1.000000; val_acc: 0.145000\n",
      "(Epoch 17 / 20) train acc: 1.000000; val_acc: 0.145000\n",
      "(Epoch 18 / 20) train acc: 1.000000; val_acc: 0.145000\n",
      "(Epoch 19 / 20) train acc: 1.000000; val_acc: 0.145000\n",
      "(Epoch 20 / 20) train acc: 1.000000; val_acc: 0.145000\n"
     ]
    },
    {
     "data": {
      "image/png": "[encoded data removed]",
      "text/plain": [
       "<Figure size 1000x800 with 1 Axes>"
      ]
     },
     "metadata": {},
     "output_type": "display_data"
    }
   ],
   "source": [
    "# TODO: Use a three-layer Net to overfit 50 training examples.\n",
    "\n",
    "num_train = 50\n",
    "small_data = {\n",
    "  'X_train': data['X_train'][:num_train],\n",
    "  'y_train': data['y_train'][:num_train],\n",
    "  'X_val': data['X_val'],\n",
    "  'y_val': data['y_val'],\n",
    "}\n",
    "\n",
    "############################################################################\n",
    "# TODO: Tune these parameters to get 100% train accuracy within 20 epochs. #\n",
    "############################################################################\n",
    "weight_scale = 0.1\n",
    "learning_rate = 1e-3\n",
    "############################################################################\n",
    "#                             END OF YOUR CODE                             #\n",
    "############################################################################\n",
    "\n",
    "model = FullyConnectedNet([100, 100],\n",
    "              weight_scale=weight_scale, dtype=np.float64)\n",
    "solver = Solver(model, small_data,\n",
    "                print_every=10, num_epochs=20, batch_size=25,\n",
    "                update_rule='sgd',\n",
    "                optim_config={\n",
    "                  'learning_rate': learning_rate,\n",
    "                }\n",
    "         )\n",
    "solver.train()\n",
    "\n",
    "plt.plot(solver.loss_history, 'o')\n",
    "plt.title('Training loss history')\n",
    "plt.xlabel('Iteration')\n",
    "plt.ylabel('Training loss')\n",
    "plt.show()\n",
    "\n",
    "solver.record_histories_as_npz('submission_logs/overfit_3layer_fc.npz')"
   ]
  },
  {
   "cell_type": "markdown",
   "metadata": {},
   "source": [
    "Now try to use a five-layer network with 100 units on each layer to overfit 50 training examples. Again you will have to adjust the learning rate and weight initialization, but you should be able to achieve 100% training accuracy within 20 epochs."
   ]
  },
  {
   "cell_type": "code",
   "execution_count": 85,
   "metadata": {
    "ExecuteTime": {
     "end_time": "2023-09-01T20:50:47.855508Z",
     "start_time": "2023-09-01T20:50:43.490873Z"
    }
   },
   "outputs": [
    {
     "name": "stdout",
     "output_type": "stream",
     "text": [
      "(Iteration 1 / 40) loss: 98.139997\n",
      "(Epoch 0 / 20) train acc: 0.160000; val_acc: 0.116000\n",
      "(Epoch 1 / 20) train acc: 0.220000; val_acc: 0.116000\n",
      "(Epoch 2 / 20) train acc: 0.300000; val_acc: 0.119000\n",
      "(Epoch 3 / 20) train acc: 0.360000; val_acc: 0.103000\n",
      "(Epoch 4 / 20) train acc: 0.520000; val_acc: 0.122000\n",
      "(Epoch 5 / 20) train acc: 0.560000; val_acc: 0.131000\n",
      "(Iteration 11 / 40) loss: 9.054900\n",
      "(Epoch 6 / 20) train acc: 0.600000; val_acc: 0.133000\n",
      "(Epoch 7 / 20) train acc: 0.680000; val_acc: 0.126000\n",
      "(Epoch 8 / 20) train acc: 0.760000; val_acc: 0.114000\n",
      "(Epoch 9 / 20) train acc: 0.760000; val_acc: 0.138000\n",
      "(Epoch 10 / 20) train acc: 0.940000; val_acc: 0.130000\n",
      "(Iteration 21 / 40) loss: 0.347506\n",
      "(Epoch 11 / 20) train acc: 0.960000; val_acc: 0.129000\n",
      "(Epoch 12 / 20) train acc: 0.980000; val_acc: 0.128000\n",
      "(Epoch 13 / 20) train acc: 1.000000; val_acc: 0.130000\n",
      "(Epoch 14 / 20) train acc: 1.000000; val_acc: 0.130000\n",
      "(Epoch 15 / 20) train acc: 1.000000; val_acc: 0.129000\n",
      "(Iteration 31 / 40) loss: 0.000211\n",
      "(Epoch 16 / 20) train acc: 1.000000; val_acc: 0.129000\n",
      "(Epoch 17 / 20) train acc: 1.000000; val_acc: 0.129000\n",
      "(Epoch 18 / 20) train acc: 1.000000; val_acc: 0.129000\n",
      "(Epoch 19 / 20) train acc: 1.000000; val_acc: 0.129000\n",
      "(Epoch 20 / 20) train acc: 1.000000; val_acc: 0.128000\n"
     ]
    },
    {
     "data": {
      "image/png": "[encoded data removed]",
      "text/plain": [
       "<Figure size 1000x800 with 1 Axes>"
      ]
     },
     "metadata": {},
     "output_type": "display_data"
    }
   ],
   "source": [
    "## TODO: Use a five-layer Net to overfit 50 training examples.\n",
    "\n",
    "num_train = 50\n",
    "small_data = {\n",
    "  'X_train': data['X_train'][:num_train],\n",
    "  'y_train': data['y_train'][:num_train],\n",
    "  'X_val': data['X_val'],\n",
    "  'y_val': data['y_val'],\n",
    "}\n",
    "\n",
    "############################################################################\n",
    "# TODO: Tune these parameters to get 100% train accuracy within 20 epochs. #\n",
    "############################################################################\n",
    "weight_scale = 0.1\n",
    "learning_rate = 2e-4\n",
    "############################################################################\n",
    "#                             END OF YOUR CODE                             #\n",
    "############################################################################\n",
    "\n",
    "model = FullyConnectedNet([100, 100, 100, 100],\n",
    "                weight_scale=weight_scale, dtype=np.float64)\n",
    "solver = Solver(model, small_data,\n",
    "                print_every=10, num_epochs=20, batch_size=25,\n",
    "                update_rule='sgd',\n",
    "                optim_config={\n",
    "                  'learning_rate': learning_rate,\n",
    "                }\n",
    "         )\n",
    "solver.train()\n",
    "\n",
    "plt.plot(solver.loss_history, 'o')\n",
    "plt.title('Training loss history')\n",
    "plt.xlabel('Iteration')\n",
    "plt.ylabel('Training loss')\n",
    "plt.show()\n",
    "\n",
    "solver.record_histories_as_npz('submission_logs/overfit_5layer_fc.npz')"
   ]
  },
  {
   "cell_type": "markdown",
   "metadata": {},
   "source": [
    "# Collect your submissions"
   ]
  },
  {
   "cell_type": "code",
   "execution_count": null,
   "metadata": {},
   "outputs": [],
   "source": [
    "!rm -f cs182hw1_submission.zip\n",
    "!zip -r cs182hw1_submission.zip . -x \"*.git*\" \"*deeplearning/datasets*\" \"*.ipynb_checkpoints*\" \"*README.md\" \".env/*\" \"*.pyc\" \"*deeplearning/build/*\" \"*__pycache__/*\""
   ]
  },
  {
   "cell_type": "markdown",
   "metadata": {},
   "source": [
    "# Question\n",
    "Did you notice anything about the comparative difficulty of training the three-layer net vs training the five layer net?\n",
    "\n",
    "**Please include your response in the written assignment submission.**\n"
   ]
  }
 ],
 "metadata": {
  "kernelspec": {
   "display_name": "malning",
   "language": "python",
   "name": "malning"
  },
  "language_info": {
   "codemirror_mode": {
    "name": "ipython",
    "version": 3
   },
   "file_extension": ".py",
   "mimetype": "text/x-python",
   "name": "python",
   "nbconvert_exporter": "python",
   "pygments_lexer": "ipython3",
   "version": "3.7.0"
  },
  "vscode": {
   "interpreter": {
    "hash": "31f2aee4e71d21fbe5cf8b01ff0e069b9275f58929596ceb00d14d90e3e16cd6"
   }
  }
 },
 "nbformat": 4,
 "nbformat_minor": 1
}
