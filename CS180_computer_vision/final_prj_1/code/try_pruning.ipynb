{
 "cells": [
  {
   "cell_type": "code",
   "execution_count": 35,
   "metadata": {},
   "outputs": [],
   "source": [
    "import os\n",
    "os.environ[\"KMP_DUPLICATE_LIB_OK\"]=\"TRUE\"\n",
    "from tqdm import tqdm\n",
    "import random"
   ]
  },
  {
   "cell_type": "code",
   "execution_count": 3,
   "metadata": {},
   "outputs": [],
   "source": [
    "import numpy as np\n",
    "import torch\n",
    "from matplotlib import pyplot as plt\n",
    "from torch import nn\n",
    "import torchvision.models as models\n",
    "import torchvision.transforms as transforms\n",
    "from torchvision.datasets import DatasetFolder\n",
    "import torchvision\n",
    "from torch.utils.data import Dataset, DataLoader\n",
    "from PIL import Image"
   ]
  },
  {
   "cell_type": "code",
   "execution_count": 4,
   "metadata": {},
   "outputs": [],
   "source": [
    "def get_sparsity(tensor: torch.Tensor) -> int:\n",
    "    \"\"\"\n",
    "    calculate the sparsity of the given tensor\n",
    "        sparsity = #zeros / #elements = 1 - #nonzeros / #elements\n",
    "    \"\"\"\n",
    "    return 1 - float(tensor.count_nonzero() / tensor.numel())\n",
    "\n",
    "def get_model_sparsity(model: nn.Module) -> float:\n",
    "    \"\"\"\n",
    "    calculate the sparsity of the given model\n",
    "        sparsity = #zeros / #elements = 1 - #nonzeros / #elements\n",
    "    \"\"\"\n",
    "    num_nonzeros, num_elements = 0, 0\n",
    "    for param in model.parameters():\n",
    "        num_nonzeros += param.count_nonzero()\n",
    "        num_elements += param.numel()\n",
    "    return 1 - float(num_nonzeros) / num_elements\n",
    "\n",
    "def get_num_parameters(model: nn.Module, count_nonzero_only=False) -> int:\n",
    "    \"\"\"\n",
    "    calculate the total number of parameters of model\n",
    "    :param count_nonzero_only: only count nonzero weights\n",
    "    \"\"\"\n",
    "    num_counted_elements = 0\n",
    "    for param in model.parameters():\n",
    "        if count_nonzero_only:\n",
    "            num_counted_elements += param.count_nonzero()\n",
    "        else:\n",
    "            num_counted_elements += param.numel()\n",
    "    return num_counted_elements\n",
    "\n",
    "\n",
    "def get_model_size(model: nn.Module, data_width=32, count_nonzero_only=False) -> int:\n",
    "    \"\"\"\n",
    "    calculate the model size in bits\n",
    "    :param data_width: #bits per element\n",
    "    :param count_nonzero_only: only count nonzero weights\n",
    "    \"\"\"\n",
    "    return get_num_parameters(model, count_nonzero_only) * data_width\n",
    "\n",
    "Byte = 8\n",
    "KiB = 1024 * Byte\n",
    "MiB = 1024 * KiB\n",
    "GiB = 1024 * MiB"
   ]
  },
  {
   "cell_type": "code",
   "execution_count": 21,
   "metadata": {},
   "outputs": [],
   "source": [
    "device = torch.device('cuda' if torch.cuda.is_available() else 'cpu')"
   ]
  },
  {
   "cell_type": "code",
   "execution_count": 17,
   "metadata": {},
   "outputs": [
    {
     "name": "stderr",
     "output_type": "stream",
     "text": [
      "100%|██████████| 50001/50001 [00:09<00:00, 5240.28it/s]\n"
     ]
    }
   ],
   "source": [
    "def rename_files(directory, suffix):\n",
    "    for filename in tqdm(os.listdir(directory)):\n",
    "        if os.path.isfile(os.path.join(directory, filename)):\n",
    "            new_filename = filename[:-len(suffix)] + os.path.splitext(filename)[1]\n",
    "            #print(new_filename)\n",
    "            os.rename(os.path.join(directory, filename), os.path.join(directory, new_filename))\n",
    "\n",
    "# Example usage: Replace \".txt\" with \".csv\" in all filenames in a directory\n",
    "directory = 'F:/imagenet_1k_test/val/'  # Specify the directory path\n",
    "suffix = \"_n01751748.JPEG\"\n",
    "\n",
    "rename_files(directory, suffix)"
   ]
  },
  {
   "cell_type": "code",
   "execution_count": 36,
   "metadata": {},
   "outputs": [],
   "source": [
    "class CustomDataset(Dataset):\n",
    "    def __init__(self, sample_rate = 0.1, transform=None):\n",
    "        self.val_folder = 'F:/imagenet_1k_test/val/'\n",
    "        self.val_index = 'F:/imagenet_1k_test/labels/val.txt'\n",
    "        self.transform = transform\n",
    "\n",
    "        self.images = []\n",
    "        self.labels = []\n",
    "\n",
    "        with open(self.val_index, 'r') as f:\n",
    "            lines = f.readlines()\n",
    "            random.shuffle(lines)\n",
    "            num = len(lines)\n",
    "            sample_num = int(num * sample_rate)\n",
    "            print(f\"sample {sample_num} images from {num} val dataset\")\n",
    "            for line in lines[:sample_num]:\n",
    "                image_name, label = line.strip().split()\n",
    "                self.images.append(self.val_folder + \"/\" + image_name)\n",
    "                self.labels.append(int(label))\n",
    "\n",
    "    def __getitem__(self, index):\n",
    "        image_path = self.images[index]\n",
    "        image = Image.open(image_path).convert('RGB')\n",
    "\n",
    "        if self.transform is not None:\n",
    "            image = self.transform(image)\n",
    "\n",
    "        label = self.labels[index]\n",
    "\n",
    "        return image, label\n",
    "\n",
    "    def __len__(self):\n",
    "        return len(self.images)\n",
    "\n",
    "\n",
    "def calculate_accuracy(model, sample_rate=0.1):\n",
    "    transform = transforms.Compose([\n",
    "        transforms.Resize((224, 224)),\n",
    "        transforms.ToTensor(),\n",
    "        transforms.Normalize(mean=[0.485, 0.456, 0.406], std=[0.229, 0.224, 0.225])\n",
    "    ])\n",
    "\n",
    "    val_dataset = CustomDataset(sample_rate=sample_rate, transform=transform)\n",
    "    val_loader = DataLoader(val_dataset, batch_size=64, shuffle=False)\n",
    "\n",
    "    model = model.to(device)\n",
    "    model.eval()\n",
    "\n",
    "    correct = 0\n",
    "    total = 0\n",
    "\n",
    "    with torch.no_grad():\n",
    "        for images, labels in tqdm(val_loader):\n",
    "            images = images.to(device)\n",
    "            labels = labels.to(device)\n",
    "\n",
    "            outputs = model(images)\n",
    "            _, predicted = torch.max(outputs.data, 1)\n",
    "\n",
    "            total += labels.size(0)\n",
    "            correct += (predicted == labels).sum().item()\n",
    "\n",
    "    accuracy = 100 * correct / total\n",
    "    return accuracy"
   ]
  },
  {
   "cell_type": "code",
   "execution_count": 42,
   "metadata": {},
   "outputs": [
    {
     "name": "stdout",
     "output_type": "stream",
     "text": [
      "sample 1500 images from 50000 val dataset\n"
     ]
    },
    {
     "name": "stderr",
     "output_type": "stream",
     "text": [
      "100%|██████████| 24/24 [00:15<00:00,  1.58it/s]"
     ]
    },
    {
     "name": "stdout",
     "output_type": "stream",
     "text": [
      "accuracy: 70.93333333333334%\n"
     ]
    },
    {
     "name": "stderr",
     "output_type": "stream",
     "text": [
      "\n"
     ]
    }
   ],
   "source": [
    "# use VGG19 pretrained model to inference and calculate accuracy\n",
    "model = models.vgg19(pretrained=True)\n",
    "\n",
    "accuracy = calculate_accuracy(model, sample_rate=0.03)\n",
    "print(f\"accuracy: {accuracy}%\")"
   ]
  },
  {
   "cell_type": "code",
   "execution_count": 7,
   "metadata": {},
   "outputs": [
    {
     "name": "stdout",
     "output_type": "stream",
     "text": [
      "1: features.0.weight\n",
      "2: features.2.weight\n",
      "3: features.5.weight\n",
      "4: features.7.weight\n",
      "5: features.10.weight\n",
      "6: features.12.weight\n",
      "7: features.14.weight\n",
      "8: features.16.weight\n",
      "9: features.19.weight\n",
      "10: features.21.weight\n",
      "11: features.23.weight\n",
      "12: features.25.weight\n",
      "13: features.28.weight\n",
      "14: features.30.weight\n",
      "15: features.32.weight\n",
      "16: features.34.weight\n",
      "17: classifier.0.weight\n",
      "18: classifier.3.weight\n",
      "19: classifier.6.weight\n"
     ]
    }
   ],
   "source": [
    "index = 1\n",
    "for name, param in model.named_parameters():\n",
    "    if(param.dim() > 1):\n",
    "        print(f\"{index}: {name}\")\n",
    "        index += 1"
   ]
  },
  {
   "cell_type": "code",
   "execution_count": 10,
   "metadata": {},
   "outputs": [],
   "source": [
    "def plot_weight_distribution(model, bins=256, count_nonzero_only=False):\n",
    "    fig, axes = plt.subplots(3,3, figsize=(10, 6))\n",
    "    axes = axes.ravel()\n",
    "    plot_index = 0\n",
    "    for name, param in model.named_parameters():\n",
    "        if param.dim() > 1:\n",
    "            ax = axes[plot_index]\n",
    "            if count_nonzero_only:\n",
    "                param_cpu = param.detach().view(-1).cpu()\n",
    "                param_cpu = param_cpu[param_cpu != 0].view(-1)\n",
    "                ax.hist(param_cpu, bins=bins, density=True,\n",
    "                        color = 'blue', alpha = 0.5)\n",
    "            else:\n",
    "                ax.hist(param.detach().view(-1).cpu(), bins=bins, density=True,\n",
    "                        color = 'blue', alpha = 0.5)\n",
    "            ax.set_xlabel(name)\n",
    "            ax.set_ylabel('density')\n",
    "            plot_index += 1\n",
    "            \n",
    "            if(plot_index == 9):\n",
    "                break\n",
    "            \n",
    "    fig.suptitle('Histogram of Weights')\n",
    "    fig.tight_layout()\n",
    "    fig.subplots_adjust(top=0.925)\n",
    "    plt.show()"
   ]
  },
  {
   "cell_type": "code",
   "execution_count": 11,
   "metadata": {},
   "outputs": [
    {
     "data": {
      "image/png": "[encoded data removed]",
      "text/plain": [
       "<Figure size 1000x600 with 9 Axes>"
      ]
     },
     "metadata": {},
     "output_type": "display_data"
    }
   ],
   "source": [
    "plot_weight_distribution(model)"
   ]
  },
  {
   "cell_type": "code",
   "execution_count": 29,
   "metadata": {},
   "outputs": [],
   "source": [
    "def fine_grained_prune(tensor: torch.Tensor, sparsity : float) -> torch.Tensor:\n",
    "    \"\"\"\n",
    "    magnitude-based pruning for single tensor\n",
    "    :param tensor: torch.(cuda.)Tensor, weight of conv/fc layer\n",
    "    :param sparsity: float, pruning sparsity\n",
    "        sparsity = #zeros / #elements = 1 - #nonzeros / #elements\n",
    "    :return:\n",
    "        torch.(cuda.)Tensor, mask for zeros\n",
    "    \"\"\"\n",
    "    sparsity = min(max(0.0, sparsity), 1.0)\n",
    "    if sparsity == 1.0:\n",
    "        tensor.zero_()\n",
    "        return torch.zeros_like(tensor)\n",
    "    elif sparsity == 0.0:\n",
    "        return torch.ones_like(tensor)\n",
    "\n",
    "    # Step 1: calculate the #zeros (please use round())\n",
    "    num_elements = tensor.numel()\n",
    "    num_zeros = round(num_elements * sparsity)\n",
    "    # Step 2: calculate the importance of weight\n",
    "    importance = torch.abs(tensor)\n",
    "    # Step 3: calculate the pruning threshold\n",
    "    threshold = torch.kthvalue(importance.view(-1), k=num_zeros).values\n",
    "    #print(f\"threshold is {threshold}\")\n",
    "    # Step 4: get binary mask (1 for nonzeros, 0 for zeros)\n",
    "    mask = torch.gt(importance, threshold)\n",
    "\n",
    "    # Step 5: apply mask to prune the tensor\n",
    "    tensor.mul_(mask)\n",
    "\n",
    "    return mask"
   ]
  },
  {
   "cell_type": "code",
   "execution_count": 30,
   "metadata": {},
   "outputs": [],
   "source": [
    "class FineGrainedPruner:\n",
    "    def __init__(self, model, sparsity_dict):\n",
    "        self.masks = FineGrainedPruner.prune(model, sparsity_dict)\n",
    "        \n",
    "    @torch.no_grad()\n",
    "    def apply(self, model):\n",
    "        for name, param in model.named_parameters():\n",
    "            if name in self.masks:\n",
    "                param *= self.masks[name]\n",
    "                \n",
    "    @staticmethod\n",
    "    @torch.no_grad()\n",
    "    def prune(model, sparsity_dict):\n",
    "        masks = dict()\n",
    "        for name, param in model.named_parameters():\n",
    "            if param.dim() > 1: # we only prune conv and fc weights\n",
    "                masks[name] = fine_grained_prune(param, sparsity_dict[name])\n",
    "        return masks"
   ]
  },
  {
   "cell_type": "code",
   "execution_count": 43,
   "metadata": {},
   "outputs": [],
   "source": [
    "@torch.no_grad()\n",
    "def sensitivity_scan(model, scan_step=0.1, scan_start=0.4, scan_end=1.0, verbose=True):\n",
    "    sparsities = np.arange(start=scan_start, stop=scan_end, step=scan_step)\n",
    "    accuracies = []\n",
    "    named_conv_weights = [(name, param) for (name, param) \\\n",
    "                          in model.named_parameters() if param.dim() > 1]\n",
    "    for i_layer, (name, param) in enumerate(named_conv_weights):\n",
    "        param_clone = param.detach().clone()\n",
    "        accuracy = []\n",
    "        for sparsity in tqdm(sparsities, desc=f'scanning {i_layer}/{len(named_conv_weights)} weight - {name}'):\n",
    "            fine_grained_prune(param.detach(), sparsity=sparsity)\n",
    "            #acc = evaluate(model, dataloader, verbose=False)\n",
    "            acc = calculate_accuracy(model, sample_rate=0.03)\n",
    "            if verbose:\n",
    "                print(f'\\r    sparsity={sparsity:.2f}: accuracy={acc:.2f}%', end='')\n",
    "            # restore\n",
    "            param.copy_(param_clone)\n",
    "            accuracy.append(acc)\n",
    "        if verbose:\n",
    "            print(f'\\r    sparsity=[{\",\".join([\"{:.2f}\".format(x) for x in sparsities])}]: accuracy=[{\", \".join([\"{:.2f}%\".format(x) for x in accuracy])}]', end='')\n",
    "        accuracies.append(accuracy)\n",
    "    return sparsities, accuracies"
   ]
  },
  {
   "cell_type": "code",
   "execution_count": 44,
   "metadata": {},
   "outputs": [
    {
     "name": "stderr",
     "output_type": "stream",
     "text": [
      "scanning 0/19 weight - features.0.weight:   0%|          | 0/6 [00:00<?, ?it/s]"
     ]
    },
    {
     "name": "stdout",
     "output_type": "stream",
     "text": [
      "sample 1500 images from 50000 val dataset\n"
     ]
    },
    {
     "name": "stderr",
     "output_type": "stream",
     "text": [
      "100%|██████████| 24/24 [00:16<00:00,  1.42it/s]\n",
      "scanning 0/19 weight - features.0.weight:  17%|█▋        | 1/6 [00:16<01:24, 16.99s/it]"
     ]
    },
    {
     "name": "stdout",
     "output_type": "stream",
     "text": [
      "    sparsity=0.40: accuracy=69.53%sample 1500 images from 50000 val dataset\n"
     ]
    },
    {
     "name": "stderr",
     "output_type": "stream",
     "text": [
      "100%|██████████| 24/24 [00:27<00:00,  1.16s/it]\n",
      "scanning 0/19 weight - features.0.weight:  33%|███▎      | 2/6 [00:44<01:33, 23.44s/it]"
     ]
    },
    {
     "name": "stdout",
     "output_type": "stream",
     "text": [
      "    sparsity=0.50: accuracy=67.47%sample 1500 images from 50000 val dataset\n"
     ]
    },
    {
     "name": "stderr",
     "output_type": "stream",
     "text": [
      "100%|██████████| 24/24 [00:17<00:00,  1.34it/s]\n",
      "scanning 0/19 weight - features.0.weight:  50%|█████     | 3/6 [01:02<01:02, 20.97s/it]"
     ]
    },
    {
     "name": "stdout",
     "output_type": "stream",
     "text": [
      "    sparsity=0.60: accuracy=61.13%sample 1500 images from 50000 val dataset\n"
     ]
    },
    {
     "name": "stderr",
     "output_type": "stream",
     "text": [
      "100%|██████████| 24/24 [00:15<00:00,  1.56it/s]\n",
      "scanning 0/19 weight - features.0.weight:  67%|██████▋   | 4/6 [01:18<00:37, 18.77s/it]"
     ]
    },
    {
     "name": "stdout",
     "output_type": "stream",
     "text": [
      "    sparsity=0.70: accuracy=57.13%sample 1500 images from 50000 val dataset\n"
     ]
    },
    {
     "name": "stderr",
     "output_type": "stream",
     "text": [
      "100%|██████████| 24/24 [00:15<00:00,  1.59it/s]\n",
      "scanning 0/19 weight - features.0.weight:  83%|████████▎ | 5/6 [01:33<00:17, 17.44s/it]"
     ]
    },
    {
     "name": "stdout",
     "output_type": "stream",
     "text": [
      "    sparsity=0.80: accuracy=48.07%sample 1500 images from 50000 val dataset\n"
     ]
    },
    {
     "name": "stderr",
     "output_type": "stream",
     "text": [
      "100%|██████████| 24/24 [00:14<00:00,  1.67it/s]\n",
      "scanning 0/19 weight - features.0.weight: 100%|██████████| 6/6 [01:47<00:00, 17.98s/it]\n"
     ]
    },
    {
     "name": "stdout",
     "output_type": "stream",
     "text": [
      "    sparsity=[0.40,0.50,0.60,0.70,0.80,0.90]: accuracy=[69.53%, 67.47%, 61.13%, 57.13%, 48.07%, 36.93%]"
     ]
    },
    {
     "name": "stderr",
     "output_type": "stream",
     "text": [
      "scanning 1/19 weight - features.2.weight:   0%|          | 0/6 [00:00<?, ?it/s]"
     ]
    },
    {
     "name": "stdout",
     "output_type": "stream",
     "text": [
      "sample 1500 images from 50000 val dataset\n"
     ]
    },
    {
     "name": "stderr",
     "output_type": "stream",
     "text": [
      "100%|██████████| 24/24 [00:14<00:00,  1.61it/s]\n",
      "scanning 1/19 weight - features.2.weight:  17%|█▋        | 1/6 [00:14<01:14, 14.92s/it]"
     ]
    },
    {
     "name": "stdout",
     "output_type": "stream",
     "text": [
      "    sparsity=0.40: accuracy=69.73%sample 1500 images from 50000 val dataset\n"
     ]
    },
    {
     "name": "stderr",
     "output_type": "stream",
     "text": [
      "100%|██████████| 24/24 [00:14<00:00,  1.63it/s]\n",
      "scanning 1/19 weight - features.2.weight:  33%|███▎      | 2/6 [00:29<00:59, 14.82s/it]"
     ]
    },
    {
     "name": "stdout",
     "output_type": "stream",
     "text": [
      "    sparsity=0.50: accuracy=71.67%sample 1500 images from 50000 val dataset\n"
     ]
    },
    {
     "name": "stderr",
     "output_type": "stream",
     "text": [
      "100%|██████████| 24/24 [00:15<00:00,  1.59it/s]\n",
      "scanning 1/19 weight - features.2.weight:  50%|█████     | 3/6 [00:44<00:44, 14.97s/it]"
     ]
    },
    {
     "name": "stdout",
     "output_type": "stream",
     "text": [
      "    sparsity=0.60: accuracy=69.87%sample 1500 images from 50000 val dataset\n"
     ]
    },
    {
     "name": "stderr",
     "output_type": "stream",
     "text": [
      "100%|██████████| 24/24 [00:14<00:00,  1.65it/s]\n",
      "scanning 1/19 weight - features.2.weight:  67%|██████▋   | 4/6 [00:59<00:29, 14.82s/it]"
     ]
    },
    {
     "name": "stdout",
     "output_type": "stream",
     "text": [
      "    sparsity=0.70: accuracy=69.20%sample 1500 images from 50000 val dataset\n"
     ]
    },
    {
     "name": "stderr",
     "output_type": "stream",
     "text": [
      "100%|██████████| 24/24 [00:14<00:00,  1.67it/s]\n",
      "scanning 1/19 weight - features.2.weight:  83%|████████▎ | 5/6 [01:13<00:14, 14.68s/it]"
     ]
    },
    {
     "name": "stdout",
     "output_type": "stream",
     "text": [
      "    sparsity=0.80: accuracy=69.73%sample 1500 images from 50000 val dataset\n"
     ]
    },
    {
     "name": "stderr",
     "output_type": "stream",
     "text": [
      "100%|██████████| 24/24 [00:14<00:00,  1.62it/s]\n",
      "scanning 1/19 weight - features.2.weight: 100%|██████████| 6/6 [01:28<00:00, 14.78s/it]\n"
     ]
    },
    {
     "name": "stdout",
     "output_type": "stream",
     "text": [
      "    sparsity=[0.40,0.50,0.60,0.70,0.80,0.90]: accuracy=[69.73%, 71.67%, 69.87%, 69.20%, 69.73%, 63.87%]"
     ]
    },
    {
     "name": "stderr",
     "output_type": "stream",
     "text": [
      "scanning 2/19 weight - features.5.weight:   0%|          | 0/6 [00:00<?, ?it/s]"
     ]
    },
    {
     "name": "stdout",
     "output_type": "stream",
     "text": [
      "sample 1500 images from 50000 val dataset\n"
     ]
    },
    {
     "name": "stderr",
     "output_type": "stream",
     "text": [
      "100%|██████████| 24/24 [00:14<00:00,  1.67it/s]\n",
      "scanning 2/19 weight - features.5.weight:  17%|█▋        | 1/6 [00:14<01:12, 14.43s/it]"
     ]
    },
    {
     "name": "stdout",
     "output_type": "stream",
     "text": [
      "    sparsity=0.40: accuracy=71.47%sample 1500 images from 50000 val dataset\n"
     ]
    },
    {
     "name": "stderr",
     "output_type": "stream",
     "text": [
      "100%|██████████| 24/24 [00:14<00:00,  1.64it/s]\n",
      "scanning 2/19 weight - features.5.weight:  33%|███▎      | 2/6 [00:29<00:58, 14.58s/it]"
     ]
    },
    {
     "name": "stdout",
     "output_type": "stream",
     "text": [
      "    sparsity=0.50: accuracy=70.87%sample 1500 images from 50000 val dataset\n"
     ]
    },
    {
     "name": "stderr",
     "output_type": "stream",
     "text": [
      "100%|██████████| 24/24 [00:14<00:00,  1.67it/s]\n",
      "scanning 2/19 weight - features.5.weight:  50%|█████     | 3/6 [00:43<00:43, 14.50s/it]"
     ]
    },
    {
     "name": "stdout",
     "output_type": "stream",
     "text": [
      "    sparsity=0.60: accuracy=70.67%sample 1500 images from 50000 val dataset\n"
     ]
    },
    {
     "name": "stderr",
     "output_type": "stream",
     "text": [
      "100%|██████████| 24/24 [00:14<00:00,  1.65it/s]\n",
      "scanning 2/19 weight - features.5.weight:  67%|██████▋   | 4/6 [00:58<00:29, 14.52s/it]"
     ]
    },
    {
     "name": "stdout",
     "output_type": "stream",
     "text": [
      "    sparsity=0.70: accuracy=66.53%sample 1500 images from 50000 val dataset\n"
     ]
    },
    {
     "name": "stderr",
     "output_type": "stream",
     "text": [
      "100%|██████████| 24/24 [00:14<00:00,  1.68it/s]\n",
      "scanning 2/19 weight - features.5.weight:  83%|████████▎ | 5/6 [01:12<00:14, 14.44s/it]"
     ]
    },
    {
     "name": "stdout",
     "output_type": "stream",
     "text": [
      "    sparsity=0.80: accuracy=67.33%sample 1500 images from 50000 val dataset\n"
     ]
    },
    {
     "name": "stderr",
     "output_type": "stream",
     "text": [
      "100%|██████████| 24/24 [00:14<00:00,  1.62it/s]\n",
      "scanning 2/19 weight - features.5.weight: 100%|██████████| 6/6 [01:27<00:00, 14.54s/it]\n"
     ]
    },
    {
     "name": "stdout",
     "output_type": "stream",
     "text": [
      "    sparsity=[0.40,0.50,0.60,0.70,0.80,0.90]: accuracy=[71.47%, 70.87%, 70.67%, 66.53%, 67.33%, 58.13%]"
     ]
    },
    {
     "name": "stderr",
     "output_type": "stream",
     "text": [
      "scanning 3/19 weight - features.7.weight:   0%|          | 0/6 [00:00<?, ?it/s]"
     ]
    },
    {
     "name": "stdout",
     "output_type": "stream",
     "text": [
      "sample 1500 images from 50000 val dataset\n"
     ]
    },
    {
     "name": "stderr",
     "output_type": "stream",
     "text": [
      "100%|██████████| 24/24 [00:15<00:00,  1.60it/s]\n",
      "scanning 3/19 weight - features.7.weight:  17%|█▋        | 1/6 [00:15<01:15, 15.09s/it]"
     ]
    },
    {
     "name": "stdout",
     "output_type": "stream",
     "text": [
      "    sparsity=0.40: accuracy=71.80%sample 1500 images from 50000 val dataset\n"
     ]
    },
    {
     "name": "stderr",
     "output_type": "stream",
     "text": [
      "100%|██████████| 24/24 [00:14<00:00,  1.68it/s]\n",
      "scanning 3/19 weight - features.7.weight:  33%|███▎      | 2/6 [00:29<00:58, 14.66s/it]"
     ]
    },
    {
     "name": "stdout",
     "output_type": "stream",
     "text": [
      "    sparsity=0.50: accuracy=71.67%sample 1500 images from 50000 val dataset\n"
     ]
    },
    {
     "name": "stderr",
     "output_type": "stream",
     "text": [
      "100%|██████████| 24/24 [00:15<00:00,  1.58it/s]\n",
      "scanning 3/19 weight - features.7.weight:  50%|█████     | 3/6 [00:44<00:44, 14.90s/it]"
     ]
    },
    {
     "name": "stdout",
     "output_type": "stream",
     "text": [
      "    sparsity=0.60: accuracy=69.33%sample 1500 images from 50000 val dataset\n"
     ]
    },
    {
     "name": "stderr",
     "output_type": "stream",
     "text": [
      "100%|██████████| 24/24 [00:14<00:00,  1.61it/s]\n",
      "scanning 3/19 weight - features.7.weight:  67%|██████▋   | 4/6 [00:59<00:29, 14.93s/it]"
     ]
    },
    {
     "name": "stdout",
     "output_type": "stream",
     "text": [
      "    sparsity=0.70: accuracy=68.07%sample 1500 images from 50000 val dataset\n"
     ]
    },
    {
     "name": "stderr",
     "output_type": "stream",
     "text": [
      "100%|██████████| 24/24 [00:14<00:00,  1.66it/s]\n",
      "scanning 3/19 weight - features.7.weight:  83%|████████▎ | 5/6 [01:14<00:14, 14.78s/it]"
     ]
    },
    {
     "name": "stdout",
     "output_type": "stream",
     "text": [
      "    sparsity=0.80: accuracy=64.00%sample 1500 images from 50000 val dataset\n"
     ]
    },
    {
     "name": "stderr",
     "output_type": "stream",
     "text": [
      "100%|██████████| 24/24 [00:14<00:00,  1.61it/s]\n",
      "scanning 3/19 weight - features.7.weight: 100%|██████████| 6/6 [01:29<00:00, 14.84s/it]\n"
     ]
    },
    {
     "name": "stdout",
     "output_type": "stream",
     "text": [
      "    sparsity=[0.40,0.50,0.60,0.70,0.80,0.90]: accuracy=[71.80%, 71.67%, 69.33%, 68.07%, 64.00%, 37.13%]"
     ]
    },
    {
     "name": "stderr",
     "output_type": "stream",
     "text": [
      "scanning 4/19 weight - features.10.weight:   0%|          | 0/6 [00:00<?, ?it/s]"
     ]
    },
    {
     "name": "stdout",
     "output_type": "stream",
     "text": [
      "sample 1500 images from 50000 val dataset\n"
     ]
    },
    {
     "name": "stderr",
     "output_type": "stream",
     "text": [
      "100%|██████████| 24/24 [00:15<00:00,  1.59it/s]\n",
      "scanning 4/19 weight - features.10.weight:  17%|█▋        | 1/6 [00:15<01:15, 15.13s/it]"
     ]
    },
    {
     "name": "stdout",
     "output_type": "stream",
     "text": [
      "    sparsity=0.40: accuracy=69.40%sample 1500 images from 50000 val dataset\n"
     ]
    },
    {
     "name": "stderr",
     "output_type": "stream",
     "text": [
      "100%|██████████| 24/24 [00:14<00:00,  1.61it/s]\n",
      "scanning 4/19 weight - features.10.weight:  33%|███▎      | 2/6 [00:30<01:00, 15.02s/it]"
     ]
    },
    {
     "name": "stdout",
     "output_type": "stream",
     "text": [
      "    sparsity=0.50: accuracy=68.87%sample 1500 images from 50000 val dataset\n"
     ]
    },
    {
     "name": "stderr",
     "output_type": "stream",
     "text": [
      "100%|██████████| 24/24 [00:14<00:00,  1.63it/s]\n",
      "scanning 4/19 weight - features.10.weight:  50%|█████     | 3/6 [00:44<00:44, 14.91s/it]"
     ]
    },
    {
     "name": "stdout",
     "output_type": "stream",
     "text": [
      "    sparsity=0.60: accuracy=70.67%sample 1500 images from 50000 val dataset\n"
     ]
    },
    {
     "name": "stderr",
     "output_type": "stream",
     "text": [
      "100%|██████████| 24/24 [00:14<00:00,  1.60it/s]\n",
      "scanning 4/19 weight - features.10.weight:  67%|██████▋   | 4/6 [00:59<00:29, 14.96s/it]"
     ]
    },
    {
     "name": "stdout",
     "output_type": "stream",
     "text": [
      "    sparsity=0.70: accuracy=66.47%sample 1500 images from 50000 val dataset\n"
     ]
    },
    {
     "name": "stderr",
     "output_type": "stream",
     "text": [
      "100%|██████████| 24/24 [00:15<00:00,  1.51it/s]\n",
      "scanning 4/19 weight - features.10.weight:  83%|████████▎ | 5/6 [01:15<00:15, 15.31s/it]"
     ]
    },
    {
     "name": "stdout",
     "output_type": "stream",
     "text": [
      "    sparsity=0.80: accuracy=62.80%sample 1500 images from 50000 val dataset\n"
     ]
    },
    {
     "name": "stderr",
     "output_type": "stream",
     "text": [
      "100%|██████████| 24/24 [00:14<00:00,  1.63it/s]\n",
      "scanning 4/19 weight - features.10.weight: 100%|██████████| 6/6 [01:30<00:00, 15.10s/it]\n"
     ]
    },
    {
     "name": "stdout",
     "output_type": "stream",
     "text": [
      "    sparsity=[0.40,0.50,0.60,0.70,0.80,0.90]: accuracy=[69.40%, 68.87%, 70.67%, 66.47%, 62.80%, 28.73%]"
     ]
    },
    {
     "name": "stderr",
     "output_type": "stream",
     "text": [
      "scanning 5/19 weight - features.12.weight:   0%|          | 0/6 [00:00<?, ?it/s]"
     ]
    },
    {
     "name": "stdout",
     "output_type": "stream",
     "text": [
      "sample 1500 images from 50000 val dataset\n"
     ]
    },
    {
     "name": "stderr",
     "output_type": "stream",
     "text": [
      "100%|██████████| 24/24 [00:16<00:00,  1.49it/s]\n",
      "scanning 5/19 weight - features.12.weight:  17%|█▋        | 1/6 [00:16<01:20, 16.18s/it]"
     ]
    },
    {
     "name": "stdout",
     "output_type": "stream",
     "text": [
      "    sparsity=0.40: accuracy=70.40%sample 1500 images from 50000 val dataset\n"
     ]
    },
    {
     "name": "stderr",
     "output_type": "stream",
     "text": [
      "100%|██████████| 24/24 [00:18<00:00,  1.27it/s]\n",
      "scanning 5/19 weight - features.12.weight:  33%|███▎      | 2/6 [00:35<01:11, 17.83s/it]"
     ]
    },
    {
     "name": "stdout",
     "output_type": "stream",
     "text": [
      "    sparsity=0.50: accuracy=69.00%sample 1500 images from 50000 val dataset\n"
     ]
    },
    {
     "name": "stderr",
     "output_type": "stream",
     "text": [
      "100%|██████████| 24/24 [00:14<00:00,  1.61it/s]\n",
      "scanning 5/19 weight - features.12.weight:  50%|█████     | 3/6 [00:50<00:49, 16.49s/it]"
     ]
    },
    {
     "name": "stdout",
     "output_type": "stream",
     "text": [
      "    sparsity=0.60: accuracy=70.07%sample 1500 images from 50000 val dataset\n"
     ]
    },
    {
     "name": "stderr",
     "output_type": "stream",
     "text": [
      "100%|██████████| 24/24 [00:14<00:00,  1.60it/s]\n",
      "scanning 5/19 weight - features.12.weight:  67%|██████▋   | 4/6 [01:05<00:31, 15.91s/it]"
     ]
    },
    {
     "name": "stdout",
     "output_type": "stream",
     "text": [
      "    sparsity=0.70: accuracy=68.07%sample 1500 images from 50000 val dataset\n"
     ]
    },
    {
     "name": "stderr",
     "output_type": "stream",
     "text": [
      "100%|██████████| 24/24 [00:14<00:00,  1.63it/s]\n",
      "scanning 5/19 weight - features.12.weight:  83%|████████▎ | 5/6 [01:19<00:15, 15.51s/it]"
     ]
    },
    {
     "name": "stdout",
     "output_type": "stream",
     "text": [
      "    sparsity=0.80: accuracy=66.80%sample 1500 images from 50000 val dataset\n"
     ]
    },
    {
     "name": "stderr",
     "output_type": "stream",
     "text": [
      "100%|██████████| 24/24 [00:14<00:00,  1.60it/s]\n",
      "scanning 5/19 weight - features.12.weight: 100%|██████████| 6/6 [01:34<00:00, 15.82s/it]\n"
     ]
    },
    {
     "name": "stdout",
     "output_type": "stream",
     "text": [
      "    sparsity=[0.40,0.50,0.60,0.70,0.80,0.90]: accuracy=[70.40%, 69.00%, 70.07%, 68.07%, 66.80%, 61.80%]"
     ]
    },
    {
     "name": "stderr",
     "output_type": "stream",
     "text": [
      "scanning 6/19 weight - features.14.weight:   0%|          | 0/6 [00:00<?, ?it/s]"
     ]
    },
    {
     "name": "stdout",
     "output_type": "stream",
     "text": [
      "sample 1500 images from 50000 val dataset\n"
     ]
    },
    {
     "name": "stderr",
     "output_type": "stream",
     "text": [
      "100%|██████████| 24/24 [00:19<00:00,  1.26it/s]\n",
      "scanning 6/19 weight - features.14.weight:  17%|█▋        | 1/6 [00:19<01:35, 19.14s/it]"
     ]
    },
    {
     "name": "stdout",
     "output_type": "stream",
     "text": [
      "    sparsity=0.40: accuracy=70.40%sample 1500 images from 50000 val dataset\n"
     ]
    },
    {
     "name": "stderr",
     "output_type": "stream",
     "text": [
      "100%|██████████| 24/24 [00:18<00:00,  1.30it/s]\n",
      "scanning 6/19 weight - features.14.weight:  33%|███▎      | 2/6 [00:37<01:15, 18.81s/it]"
     ]
    },
    {
     "name": "stdout",
     "output_type": "stream",
     "text": [
      "    sparsity=0.50: accuracy=71.40%sample 1500 images from 50000 val dataset\n"
     ]
    },
    {
     "name": "stderr",
     "output_type": "stream",
     "text": [
      "100%|██████████| 24/24 [00:17<00:00,  1.36it/s]\n",
      "scanning 6/19 weight - features.14.weight:  50%|█████     | 3/6 [00:55<00:54, 18.28s/it]"
     ]
    },
    {
     "name": "stdout",
     "output_type": "stream",
     "text": [
      "    sparsity=0.60: accuracy=71.13%sample 1500 images from 50000 val dataset\n"
     ]
    },
    {
     "name": "stderr",
     "output_type": "stream",
     "text": [
      "100%|██████████| 24/24 [00:18<00:00,  1.29it/s]\n",
      "scanning 6/19 weight - features.14.weight:  67%|██████▋   | 4/6 [01:14<00:36, 18.42s/it]"
     ]
    },
    {
     "name": "stdout",
     "output_type": "stream",
     "text": [
      "    sparsity=0.70: accuracy=68.53%sample 1500 images from 50000 val dataset\n"
     ]
    },
    {
     "name": "stderr",
     "output_type": "stream",
     "text": [
      "100%|██████████| 24/24 [00:18<00:00,  1.32it/s]\n",
      "scanning 6/19 weight - features.14.weight:  83%|████████▎ | 5/6 [01:32<00:18, 18.33s/it]"
     ]
    },
    {
     "name": "stdout",
     "output_type": "stream",
     "text": [
      "    sparsity=0.80: accuracy=68.33%sample 1500 images from 50000 val dataset\n"
     ]
    },
    {
     "name": "stderr",
     "output_type": "stream",
     "text": [
      "100%|██████████| 24/24 [00:17<00:00,  1.40it/s]\n",
      "scanning 6/19 weight - features.14.weight: 100%|██████████| 6/6 [01:49<00:00, 18.23s/it]\n"
     ]
    },
    {
     "name": "stdout",
     "output_type": "stream",
     "text": [
      "    sparsity=[0.40,0.50,0.60,0.70,0.80,0.90]: accuracy=[70.40%, 71.40%, 71.13%, 68.53%, 68.33%, 63.00%]"
     ]
    },
    {
     "name": "stderr",
     "output_type": "stream",
     "text": [
      "scanning 7/19 weight - features.16.weight:   0%|          | 0/6 [00:00<?, ?it/s]"
     ]
    },
    {
     "name": "stdout",
     "output_type": "stream",
     "text": [
      "sample 1500 images from 50000 val dataset\n"
     ]
    },
    {
     "name": "stderr",
     "output_type": "stream",
     "text": [
      "100%|██████████| 24/24 [00:17<00:00,  1.37it/s]\n",
      "scanning 7/19 weight - features.16.weight:  17%|█▋        | 1/6 [00:17<01:27, 17.53s/it]"
     ]
    },
    {
     "name": "stdout",
     "output_type": "stream",
     "text": [
      "    sparsity=0.40: accuracy=69.53%sample 1500 images from 50000 val dataset\n"
     ]
    },
    {
     "name": "stderr",
     "output_type": "stream",
     "text": [
      "100%|██████████| 24/24 [00:16<00:00,  1.41it/s]\n",
      "scanning 7/19 weight - features.16.weight:  33%|███▎      | 2/6 [00:34<01:08, 17.23s/it]"
     ]
    },
    {
     "name": "stdout",
     "output_type": "stream",
     "text": [
      "    sparsity=0.50: accuracy=70.20%sample 1500 images from 50000 val dataset\n"
     ]
    },
    {
     "name": "stderr",
     "output_type": "stream",
     "text": [
      "100%|██████████| 24/24 [00:17<00:00,  1.34it/s]\n",
      "scanning 7/19 weight - features.16.weight:  50%|█████     | 3/6 [00:52<00:52, 17.56s/it]"
     ]
    },
    {
     "name": "stdout",
     "output_type": "stream",
     "text": [
      "    sparsity=0.60: accuracy=69.00%sample 1500 images from 50000 val dataset\n"
     ]
    },
    {
     "name": "stderr",
     "output_type": "stream",
     "text": [
      "100%|██████████| 24/24 [00:18<00:00,  1.32it/s]\n",
      "scanning 7/19 weight - features.16.weight:  67%|██████▋   | 4/6 [01:10<00:35, 17.81s/it]"
     ]
    },
    {
     "name": "stdout",
     "output_type": "stream",
     "text": [
      "    sparsity=0.70: accuracy=66.27%sample 1500 images from 50000 val dataset\n"
     ]
    },
    {
     "name": "stderr",
     "output_type": "stream",
     "text": [
      "100%|██████████| 24/24 [00:17<00:00,  1.36it/s]\n",
      "scanning 7/19 weight - features.16.weight:  83%|████████▎ | 5/6 [01:28<00:17, 17.77s/it]"
     ]
    },
    {
     "name": "stdout",
     "output_type": "stream",
     "text": [
      "    sparsity=0.80: accuracy=62.53%sample 1500 images from 50000 val dataset\n"
     ]
    },
    {
     "name": "stderr",
     "output_type": "stream",
     "text": [
      "100%|██████████| 24/24 [00:22<00:00,  1.09it/s]\n",
      "scanning 7/19 weight - features.16.weight: 100%|██████████| 6/6 [01:50<00:00, 18.43s/it]\n"
     ]
    },
    {
     "name": "stdout",
     "output_type": "stream",
     "text": [
      "    sparsity=[0.40,0.50,0.60,0.70,0.80,0.90]: accuracy=[69.53%, 70.20%, 69.00%, 66.27%, 62.53%, 42.93%]"
     ]
    },
    {
     "name": "stderr",
     "output_type": "stream",
     "text": [
      "scanning 8/19 weight - features.19.weight:   0%|          | 0/6 [00:00<?, ?it/s]"
     ]
    },
    {
     "name": "stdout",
     "output_type": "stream",
     "text": [
      "sample 1500 images from 50000 val dataset\n"
     ]
    },
    {
     "name": "stderr",
     "output_type": "stream",
     "text": [
      "100%|██████████| 24/24 [00:17<00:00,  1.34it/s]\n",
      "scanning 8/19 weight - features.19.weight:  17%|█▋        | 1/6 [00:17<01:29, 17.99s/it]"
     ]
    },
    {
     "name": "stdout",
     "output_type": "stream",
     "text": [
      "    sparsity=0.40: accuracy=70.33%sample 1500 images from 50000 val dataset\n"
     ]
    },
    {
     "name": "stderr",
     "output_type": "stream",
     "text": [
      "100%|██████████| 24/24 [00:17<00:00,  1.38it/s]\n",
      "scanning 8/19 weight - features.19.weight:  33%|███▎      | 2/6 [00:35<01:10, 17.64s/it]"
     ]
    },
    {
     "name": "stdout",
     "output_type": "stream",
     "text": [
      "    sparsity=0.50: accuracy=69.60%sample 1500 images from 50000 val dataset\n"
     ]
    },
    {
     "name": "stderr",
     "output_type": "stream",
     "text": [
      "100%|██████████| 24/24 [00:17<00:00,  1.38it/s]\n",
      "scanning 8/19 weight - features.19.weight:  50%|█████     | 3/6 [00:52<00:52, 17.55s/it]"
     ]
    },
    {
     "name": "stdout",
     "output_type": "stream",
     "text": [
      "    sparsity=0.60: accuracy=69.80%sample 1500 images from 50000 val dataset\n"
     ]
    },
    {
     "name": "stderr",
     "output_type": "stream",
     "text": [
      "100%|██████████| 24/24 [00:18<00:00,  1.32it/s]\n",
      "scanning 8/19 weight - features.19.weight:  67%|██████▋   | 4/6 [01:11<00:35, 17.82s/it]"
     ]
    },
    {
     "name": "stdout",
     "output_type": "stream",
     "text": [
      "    sparsity=0.70: accuracy=67.67%sample 1500 images from 50000 val dataset\n"
     ]
    },
    {
     "name": "stderr",
     "output_type": "stream",
     "text": [
      "100%|██████████| 24/24 [00:23<00:00,  1.04it/s]\n",
      "scanning 8/19 weight - features.19.weight:  83%|████████▎ | 5/6 [01:34<00:19, 19.73s/it]"
     ]
    },
    {
     "name": "stdout",
     "output_type": "stream",
     "text": [
      "    sparsity=0.80: accuracy=64.07%sample 1500 images from 50000 val dataset\n"
     ]
    },
    {
     "name": "stderr",
     "output_type": "stream",
     "text": [
      "100%|██████████| 24/24 [00:24<00:00,  1.00s/it]\n",
      "scanning 8/19 weight - features.19.weight: 100%|██████████| 6/6 [01:58<00:00, 19.72s/it]\n"
     ]
    },
    {
     "name": "stdout",
     "output_type": "stream",
     "text": [
      "    sparsity=[0.40,0.50,0.60,0.70,0.80,0.90]: accuracy=[70.33%, 69.60%, 69.80%, 67.67%, 64.07%, 49.40%]"
     ]
    },
    {
     "name": "stderr",
     "output_type": "stream",
     "text": [
      "scanning 9/19 weight - features.21.weight:   0%|          | 0/6 [00:00<?, ?it/s]"
     ]
    },
    {
     "name": "stdout",
     "output_type": "stream",
     "text": [
      "sample 1500 images from 50000 val dataset\n"
     ]
    },
    {
     "name": "stderr",
     "output_type": "stream",
     "text": [
      "100%|██████████| 24/24 [00:23<00:00,  1.02it/s]\n",
      "scanning 9/19 weight - features.21.weight:  17%|█▋        | 1/6 [00:23<01:57, 23.52s/it]"
     ]
    },
    {
     "name": "stdout",
     "output_type": "stream",
     "text": [
      "    sparsity=0.40: accuracy=71.07%sample 1500 images from 50000 val dataset\n"
     ]
    },
    {
     "name": "stderr",
     "output_type": "stream",
     "text": [
      "100%|██████████| 24/24 [00:22<00:00,  1.04it/s]\n",
      "scanning 9/19 weight - features.21.weight:  33%|███▎      | 2/6 [00:46<01:32, 23.24s/it]"
     ]
    },
    {
     "name": "stdout",
     "output_type": "stream",
     "text": [
      "    sparsity=0.50: accuracy=70.93%sample 1500 images from 50000 val dataset\n"
     ]
    },
    {
     "name": "stderr",
     "output_type": "stream",
     "text": [
      "100%|██████████| 24/24 [00:23<00:00,  1.04it/s]\n",
      "scanning 9/19 weight - features.21.weight:  50%|█████     | 3/6 [01:09<01:09, 23.18s/it]"
     ]
    },
    {
     "name": "stdout",
     "output_type": "stream",
     "text": [
      "    sparsity=0.60: accuracy=71.27%sample 1500 images from 50000 val dataset\n"
     ]
    },
    {
     "name": "stderr",
     "output_type": "stream",
     "text": [
      "100%|██████████| 24/24 [00:23<00:00,  1.02it/s]\n",
      "scanning 9/19 weight - features.21.weight:  67%|██████▋   | 4/6 [01:33<00:46, 23.31s/it]"
     ]
    },
    {
     "name": "stdout",
     "output_type": "stream",
     "text": [
      "    sparsity=0.70: accuracy=69.27%sample 1500 images from 50000 val dataset\n"
     ]
    },
    {
     "name": "stderr",
     "output_type": "stream",
     "text": [
      "100%|██████████| 24/24 [00:22<00:00,  1.05it/s]\n",
      "scanning 9/19 weight - features.21.weight:  83%|████████▎ | 5/6 [01:56<00:23, 23.20s/it]"
     ]
    },
    {
     "name": "stdout",
     "output_type": "stream",
     "text": [
      "    sparsity=0.80: accuracy=66.40%sample 1500 images from 50000 val dataset\n"
     ]
    },
    {
     "name": "stderr",
     "output_type": "stream",
     "text": [
      "100%|██████████| 24/24 [00:23<00:00,  1.01it/s]\n",
      "scanning 9/19 weight - features.21.weight: 100%|██████████| 6/6 [02:19<00:00, 23.33s/it]\n"
     ]
    },
    {
     "name": "stdout",
     "output_type": "stream",
     "text": [
      "    sparsity=[0.40,0.50,0.60,0.70,0.80,0.90]: accuracy=[71.07%, 70.93%, 71.27%, 69.27%, 66.40%, 50.73%]"
     ]
    },
    {
     "name": "stderr",
     "output_type": "stream",
     "text": [
      "scanning 10/19 weight - features.23.weight:   0%|          | 0/6 [00:00<?, ?it/s]"
     ]
    },
    {
     "name": "stdout",
     "output_type": "stream",
     "text": [
      "sample 1500 images from 50000 val dataset\n"
     ]
    },
    {
     "name": "stderr",
     "output_type": "stream",
     "text": [
      "100%|██████████| 24/24 [00:21<00:00,  1.12it/s]\n",
      "scanning 10/19 weight - features.23.weight:  17%|█▋        | 1/6 [00:21<01:47, 21.54s/it]"
     ]
    },
    {
     "name": "stdout",
     "output_type": "stream",
     "text": [
      "    sparsity=0.40: accuracy=68.13%sample 1500 images from 50000 val dataset\n"
     ]
    },
    {
     "name": "stderr",
     "output_type": "stream",
     "text": [
      "100%|██████████| 24/24 [00:17<00:00,  1.39it/s]\n",
      "scanning 10/19 weight - features.23.weight:  33%|███▎      | 2/6 [00:38<01:16, 19.06s/it]"
     ]
    },
    {
     "name": "stdout",
     "output_type": "stream",
     "text": [
      "    sparsity=0.50: accuracy=72.13%sample 1500 images from 50000 val dataset\n"
     ]
    },
    {
     "name": "stderr",
     "output_type": "stream",
     "text": [
      "100%|██████████| 24/24 [00:17<00:00,  1.39it/s]\n",
      "scanning 10/19 weight - features.23.weight:  50%|█████     | 3/6 [00:56<00:54, 18.26s/it]"
     ]
    },
    {
     "name": "stdout",
     "output_type": "stream",
     "text": [
      "    sparsity=0.60: accuracy=69.33%sample 1500 images from 50000 val dataset\n"
     ]
    },
    {
     "name": "stderr",
     "output_type": "stream",
     "text": [
      "100%|██████████| 24/24 [00:16<00:00,  1.43it/s]\n",
      "scanning 10/19 weight - features.23.weight:  67%|██████▋   | 4/6 [01:12<00:35, 17.68s/it]"
     ]
    },
    {
     "name": "stdout",
     "output_type": "stream",
     "text": [
      "    sparsity=0.70: accuracy=69.73%sample 1500 images from 50000 val dataset\n"
     ]
    },
    {
     "name": "stderr",
     "output_type": "stream",
     "text": [
      "100%|██████████| 24/24 [00:17<00:00,  1.41it/s]\n",
      "scanning 10/19 weight - features.23.weight:  83%|████████▎ | 5/6 [01:30<00:17, 17.48s/it]"
     ]
    },
    {
     "name": "stdout",
     "output_type": "stream",
     "text": [
      "    sparsity=0.80: accuracy=66.60%sample 1500 images from 50000 val dataset\n"
     ]
    },
    {
     "name": "stderr",
     "output_type": "stream",
     "text": [
      "100%|██████████| 24/24 [00:15<00:00,  1.50it/s]\n",
      "scanning 10/19 weight - features.23.weight: 100%|██████████| 6/6 [01:46<00:00, 17.69s/it]\n"
     ]
    },
    {
     "name": "stdout",
     "output_type": "stream",
     "text": [
      "    sparsity=[0.40,0.50,0.60,0.70,0.80,0.90]: accuracy=[68.13%, 72.13%, 69.33%, 69.73%, 66.60%, 54.07%]"
     ]
    },
    {
     "name": "stderr",
     "output_type": "stream",
     "text": [
      "scanning 11/19 weight - features.25.weight:   0%|          | 0/6 [00:00<?, ?it/s]"
     ]
    },
    {
     "name": "stdout",
     "output_type": "stream",
     "text": [
      "sample 1500 images from 50000 val dataset\n"
     ]
    },
    {
     "name": "stderr",
     "output_type": "stream",
     "text": [
      "100%|██████████| 24/24 [00:15<00:00,  1.59it/s]\n",
      "scanning 11/19 weight - features.25.weight:  17%|█▋        | 1/6 [00:15<01:15, 15.16s/it]"
     ]
    },
    {
     "name": "stdout",
     "output_type": "stream",
     "text": [
      "    sparsity=0.40: accuracy=71.87%sample 1500 images from 50000 val dataset\n"
     ]
    },
    {
     "name": "stderr",
     "output_type": "stream",
     "text": [
      "100%|██████████| 24/24 [00:15<00:00,  1.59it/s]\n",
      "scanning 11/19 weight - features.25.weight:  33%|███▎      | 2/6 [00:30<01:00, 15.16s/it]"
     ]
    },
    {
     "name": "stdout",
     "output_type": "stream",
     "text": [
      "    sparsity=0.50: accuracy=68.27%sample 1500 images from 50000 val dataset\n"
     ]
    },
    {
     "name": "stderr",
     "output_type": "stream",
     "text": [
      "100%|██████████| 24/24 [00:15<00:00,  1.59it/s]\n",
      "scanning 11/19 weight - features.25.weight:  50%|█████     | 3/6 [00:45<00:45, 15.13s/it]"
     ]
    },
    {
     "name": "stdout",
     "output_type": "stream",
     "text": [
      "    sparsity=0.60: accuracy=70.53%sample 1500 images from 50000 val dataset\n"
     ]
    },
    {
     "name": "stderr",
     "output_type": "stream",
     "text": [
      "100%|██████████| 24/24 [00:15<00:00,  1.56it/s]\n",
      "scanning 11/19 weight - features.25.weight:  67%|██████▋   | 4/6 [01:00<00:30, 15.23s/it]"
     ]
    },
    {
     "name": "stdout",
     "output_type": "stream",
     "text": [
      "    sparsity=0.70: accuracy=68.00%sample 1500 images from 50000 val dataset\n"
     ]
    },
    {
     "name": "stderr",
     "output_type": "stream",
     "text": [
      "100%|██████████| 24/24 [00:14<00:00,  1.62it/s]\n",
      "scanning 11/19 weight - features.25.weight:  83%|████████▎ | 5/6 [01:15<00:15, 15.11s/it]"
     ]
    },
    {
     "name": "stdout",
     "output_type": "stream",
     "text": [
      "    sparsity=0.80: accuracy=63.60%sample 1500 images from 50000 val dataset\n"
     ]
    },
    {
     "name": "stderr",
     "output_type": "stream",
     "text": [
      "100%|██████████| 24/24 [00:14<00:00,  1.60it/s]\n",
      "scanning 11/19 weight - features.25.weight: 100%|██████████| 6/6 [01:30<00:00, 15.12s/it]\n"
     ]
    },
    {
     "name": "stdout",
     "output_type": "stream",
     "text": [
      "    sparsity=[0.40,0.50,0.60,0.70,0.80,0.90]: accuracy=[71.87%, 68.27%, 70.53%, 68.00%, 63.60%, 44.47%]"
     ]
    },
    {
     "name": "stderr",
     "output_type": "stream",
     "text": [
      "scanning 12/19 weight - features.28.weight:   0%|          | 0/6 [00:00<?, ?it/s]"
     ]
    },
    {
     "name": "stdout",
     "output_type": "stream",
     "text": [
      "sample 1500 images from 50000 val dataset\n"
     ]
    },
    {
     "name": "stderr",
     "output_type": "stream",
     "text": [
      "100%|██████████| 24/24 [00:14<00:00,  1.62it/s]\n",
      "scanning 12/19 weight - features.28.weight:  17%|█▋        | 1/6 [00:14<01:14, 14.83s/it]"
     ]
    },
    {
     "name": "stdout",
     "output_type": "stream",
     "text": [
      "    sparsity=0.40: accuracy=71.33%sample 1500 images from 50000 val dataset\n"
     ]
    },
    {
     "name": "stderr",
     "output_type": "stream",
     "text": [
      "100%|██████████| 24/24 [00:15<00:00,  1.58it/s]\n",
      "scanning 12/19 weight - features.28.weight:  33%|███▎      | 2/6 [00:30<01:00, 15.04s/it]"
     ]
    },
    {
     "name": "stdout",
     "output_type": "stream",
     "text": [
      "    sparsity=0.50: accuracy=68.67%sample 1500 images from 50000 val dataset\n"
     ]
    },
    {
     "name": "stderr",
     "output_type": "stream",
     "text": [
      "100%|██████████| 24/24 [00:15<00:00,  1.56it/s]\n",
      "scanning 12/19 weight - features.28.weight:  50%|█████     | 3/6 [00:45<00:45, 15.19s/it]"
     ]
    },
    {
     "name": "stdout",
     "output_type": "stream",
     "text": [
      "    sparsity=0.60: accuracy=70.53%sample 1500 images from 50000 val dataset\n"
     ]
    },
    {
     "name": "stderr",
     "output_type": "stream",
     "text": [
      "100%|██████████| 24/24 [00:15<00:00,  1.56it/s]\n",
      "scanning 12/19 weight - features.28.weight:  67%|██████▋   | 4/6 [01:00<00:30, 15.27s/it]"
     ]
    },
    {
     "name": "stdout",
     "output_type": "stream",
     "text": [
      "    sparsity=0.70: accuracy=68.53%sample 1500 images from 50000 val dataset\n"
     ]
    },
    {
     "name": "stderr",
     "output_type": "stream",
     "text": [
      "100%|██████████| 24/24 [00:15<00:00,  1.58it/s]\n",
      "scanning 12/19 weight - features.28.weight:  83%|████████▎ | 5/6 [01:15<00:15, 15.25s/it]"
     ]
    },
    {
     "name": "stdout",
     "output_type": "stream",
     "text": [
      "    sparsity=0.80: accuracy=64.27%sample 1500 images from 50000 val dataset\n"
     ]
    },
    {
     "name": "stderr",
     "output_type": "stream",
     "text": [
      "100%|██████████| 24/24 [00:15<00:00,  1.57it/s]\n",
      "scanning 12/19 weight - features.28.weight: 100%|██████████| 6/6 [01:31<00:00, 15.21s/it]\n"
     ]
    },
    {
     "name": "stdout",
     "output_type": "stream",
     "text": [
      "    sparsity=[0.40,0.50,0.60,0.70,0.80,0.90]: accuracy=[71.33%, 68.67%, 70.53%, 68.53%, 64.27%, 48.53%]"
     ]
    },
    {
     "name": "stderr",
     "output_type": "stream",
     "text": [
      "scanning 13/19 weight - features.30.weight:   0%|          | 0/6 [00:00<?, ?it/s]"
     ]
    },
    {
     "name": "stdout",
     "output_type": "stream",
     "text": [
      "sample 1500 images from 50000 val dataset\n"
     ]
    },
    {
     "name": "stderr",
     "output_type": "stream",
     "text": [
      "100%|██████████| 24/24 [00:14<00:00,  1.61it/s]\n",
      "scanning 13/19 weight - features.30.weight:  17%|█▋        | 1/6 [00:14<01:14, 14.99s/it]"
     ]
    },
    {
     "name": "stdout",
     "output_type": "stream",
     "text": [
      "    sparsity=0.40: accuracy=70.80%sample 1500 images from 50000 val dataset\n"
     ]
    },
    {
     "name": "stderr",
     "output_type": "stream",
     "text": [
      "100%|██████████| 24/24 [00:14<00:00,  1.62it/s]\n",
      "scanning 13/19 weight - features.30.weight:  33%|███▎      | 2/6 [00:29<00:59, 14.88s/it]"
     ]
    },
    {
     "name": "stdout",
     "output_type": "stream",
     "text": [
      "    sparsity=0.50: accuracy=72.33%sample 1500 images from 50000 val dataset\n"
     ]
    },
    {
     "name": "stderr",
     "output_type": "stream",
     "text": [
      "100%|██████████| 24/24 [00:14<00:00,  1.60it/s]\n",
      "scanning 13/19 weight - features.30.weight:  50%|█████     | 3/6 [00:44<00:44, 14.95s/it]"
     ]
    },
    {
     "name": "stdout",
     "output_type": "stream",
     "text": [
      "    sparsity=0.60: accuracy=69.40%sample 1500 images from 50000 val dataset\n"
     ]
    },
    {
     "name": "stderr",
     "output_type": "stream",
     "text": [
      "100%|██████████| 24/24 [00:15<00:00,  1.59it/s]\n",
      "scanning 13/19 weight - features.30.weight:  67%|██████▋   | 4/6 [00:59<00:30, 15.03s/it]"
     ]
    },
    {
     "name": "stdout",
     "output_type": "stream",
     "text": [
      "    sparsity=0.70: accuracy=68.33%sample 1500 images from 50000 val dataset\n"
     ]
    },
    {
     "name": "stderr",
     "output_type": "stream",
     "text": [
      "100%|██████████| 24/24 [00:14<00:00,  1.63it/s]\n",
      "scanning 13/19 weight - features.30.weight:  83%|████████▎ | 5/6 [01:14<00:14, 14.94s/it]"
     ]
    },
    {
     "name": "stdout",
     "output_type": "stream",
     "text": [
      "    sparsity=0.80: accuracy=70.20%sample 1500 images from 50000 val dataset\n"
     ]
    },
    {
     "name": "stderr",
     "output_type": "stream",
     "text": [
      "100%|██████████| 24/24 [00:15<00:00,  1.59it/s]\n",
      "scanning 13/19 weight - features.30.weight: 100%|██████████| 6/6 [01:29<00:00, 14.97s/it]\n"
     ]
    },
    {
     "name": "stdout",
     "output_type": "stream",
     "text": [
      "    sparsity=[0.40,0.50,0.60,0.70,0.80,0.90]: accuracy=[70.80%, 72.33%, 69.40%, 68.33%, 70.20%, 55.87%]"
     ]
    },
    {
     "name": "stderr",
     "output_type": "stream",
     "text": [
      "scanning 14/19 weight - features.32.weight:   0%|          | 0/6 [00:00<?, ?it/s]"
     ]
    },
    {
     "name": "stdout",
     "output_type": "stream",
     "text": [
      "sample 1500 images from 50000 val dataset\n"
     ]
    },
    {
     "name": "stderr",
     "output_type": "stream",
     "text": [
      "100%|██████████| 24/24 [00:14<00:00,  1.61it/s]\n",
      "scanning 14/19 weight - features.32.weight:  17%|█▋        | 1/6 [00:14<01:14, 14.93s/it]"
     ]
    },
    {
     "name": "stdout",
     "output_type": "stream",
     "text": [
      "    sparsity=0.40: accuracy=70.33%sample 1500 images from 50000 val dataset\n"
     ]
    },
    {
     "name": "stderr",
     "output_type": "stream",
     "text": [
      "100%|██████████| 24/24 [00:14<00:00,  1.60it/s]\n",
      "scanning 14/19 weight - features.32.weight:  33%|███▎      | 2/6 [00:29<00:59, 14.99s/it]"
     ]
    },
    {
     "name": "stdout",
     "output_type": "stream",
     "text": [
      "    sparsity=0.50: accuracy=69.93%sample 1500 images from 50000 val dataset\n"
     ]
    },
    {
     "name": "stderr",
     "output_type": "stream",
     "text": [
      "100%|██████████| 24/24 [00:15<00:00,  1.58it/s]\n",
      "scanning 14/19 weight - features.32.weight:  50%|█████     | 3/6 [00:45<00:45, 15.11s/it]"
     ]
    },
    {
     "name": "stdout",
     "output_type": "stream",
     "text": [
      "    sparsity=0.60: accuracy=70.27%sample 1500 images from 50000 val dataset\n"
     ]
    },
    {
     "name": "stderr",
     "output_type": "stream",
     "text": [
      "100%|██████████| 24/24 [00:14<00:00,  1.62it/s]\n",
      "scanning 14/19 weight - features.32.weight:  67%|██████▋   | 4/6 [01:00<00:30, 15.02s/it]"
     ]
    },
    {
     "name": "stdout",
     "output_type": "stream",
     "text": [
      "    sparsity=0.70: accuracy=71.47%sample 1500 images from 50000 val dataset\n"
     ]
    },
    {
     "name": "stderr",
     "output_type": "stream",
     "text": [
      "100%|██████████| 24/24 [00:15<00:00,  1.54it/s]\n",
      "scanning 14/19 weight - features.32.weight:  83%|████████▎ | 5/6 [01:15<00:15, 15.22s/it]"
     ]
    },
    {
     "name": "stdout",
     "output_type": "stream",
     "text": [
      "    sparsity=0.80: accuracy=69.27%sample 1500 images from 50000 val dataset\n"
     ]
    },
    {
     "name": "stderr",
     "output_type": "stream",
     "text": [
      "100%|██████████| 24/24 [00:15<00:00,  1.58it/s]\n",
      "scanning 14/19 weight - features.32.weight: 100%|██████████| 6/6 [01:30<00:00, 15.15s/it]\n"
     ]
    },
    {
     "name": "stdout",
     "output_type": "stream",
     "text": [
      "    sparsity=[0.40,0.50,0.60,0.70,0.80,0.90]: accuracy=[70.33%, 69.93%, 70.27%, 71.47%, 69.27%, 62.27%]"
     ]
    },
    {
     "name": "stderr",
     "output_type": "stream",
     "text": [
      "scanning 15/19 weight - features.34.weight:   0%|          | 0/6 [00:00<?, ?it/s]"
     ]
    },
    {
     "name": "stdout",
     "output_type": "stream",
     "text": [
      "sample 1500 images from 50000 val dataset\n"
     ]
    },
    {
     "name": "stderr",
     "output_type": "stream",
     "text": [
      "100%|██████████| 24/24 [00:15<00:00,  1.59it/s]\n",
      "scanning 15/19 weight - features.34.weight:  17%|█▋        | 1/6 [00:15<01:15, 15.15s/it]"
     ]
    },
    {
     "name": "stdout",
     "output_type": "stream",
     "text": [
      "    sparsity=0.40: accuracy=72.40%sample 1500 images from 50000 val dataset\n"
     ]
    },
    {
     "name": "stderr",
     "output_type": "stream",
     "text": [
      "100%|██████████| 24/24 [00:15<00:00,  1.59it/s]\n",
      "scanning 15/19 weight - features.34.weight:  33%|███▎      | 2/6 [00:30<01:00, 15.16s/it]"
     ]
    },
    {
     "name": "stdout",
     "output_type": "stream",
     "text": [
      "    sparsity=0.50: accuracy=70.53%sample 1500 images from 50000 val dataset\n"
     ]
    },
    {
     "name": "stderr",
     "output_type": "stream",
     "text": [
      "100%|██████████| 24/24 [00:15<00:00,  1.59it/s]\n",
      "scanning 15/19 weight - features.34.weight:  50%|█████     | 3/6 [00:45<00:45, 15.17s/it]"
     ]
    },
    {
     "name": "stdout",
     "output_type": "stream",
     "text": [
      "    sparsity=0.60: accuracy=68.13%sample 1500 images from 50000 val dataset\n"
     ]
    },
    {
     "name": "stderr",
     "output_type": "stream",
     "text": [
      "100%|██████████| 24/24 [00:15<00:00,  1.59it/s]\n",
      "scanning 15/19 weight - features.34.weight:  67%|██████▋   | 4/6 [01:00<00:30, 15.17s/it]"
     ]
    },
    {
     "name": "stdout",
     "output_type": "stream",
     "text": [
      "    sparsity=0.70: accuracy=68.20%sample 1500 images from 50000 val dataset\n"
     ]
    },
    {
     "name": "stderr",
     "output_type": "stream",
     "text": [
      "100%|██████████| 24/24 [00:14<00:00,  1.62it/s]\n",
      "scanning 15/19 weight - features.34.weight:  83%|████████▎ | 5/6 [01:15<00:15, 15.05s/it]"
     ]
    },
    {
     "name": "stdout",
     "output_type": "stream",
     "text": [
      "    sparsity=0.80: accuracy=65.20%sample 1500 images from 50000 val dataset\n"
     ]
    },
    {
     "name": "stderr",
     "output_type": "stream",
     "text": [
      "100%|██████████| 24/24 [00:15<00:00,  1.58it/s]\n",
      "scanning 15/19 weight - features.34.weight: 100%|██████████| 6/6 [01:30<00:00, 15.12s/it]\n"
     ]
    },
    {
     "name": "stdout",
     "output_type": "stream",
     "text": [
      "    sparsity=[0.40,0.50,0.60,0.70,0.80,0.90]: accuracy=[72.40%, 70.53%, 68.13%, 68.20%, 65.20%, 55.13%]"
     ]
    },
    {
     "name": "stderr",
     "output_type": "stream",
     "text": [
      "scanning 16/19 weight - classifier.0.weight:   0%|          | 0/6 [00:00<?, ?it/s]"
     ]
    },
    {
     "name": "stdout",
     "output_type": "stream",
     "text": [
      "sample 1500 images from 50000 val dataset\n"
     ]
    },
    {
     "name": "stderr",
     "output_type": "stream",
     "text": [
      "100%|██████████| 24/24 [00:15<00:00,  1.55it/s]\n",
      "scanning 16/19 weight - classifier.0.weight:  17%|█▋        | 1/6 [00:15<01:17, 15.50s/it]"
     ]
    },
    {
     "name": "stdout",
     "output_type": "stream",
     "text": [
      "    sparsity=0.40: accuracy=71.87%sample 1500 images from 50000 val dataset\n"
     ]
    },
    {
     "name": "stderr",
     "output_type": "stream",
     "text": [
      "100%|██████████| 24/24 [00:15<00:00,  1.53it/s]\n",
      "scanning 16/19 weight - classifier.0.weight:  33%|███▎      | 2/6 [00:31<01:02, 15.60s/it]"
     ]
    },
    {
     "name": "stdout",
     "output_type": "stream",
     "text": [
      "    sparsity=0.50: accuracy=70.73%sample 1500 images from 50000 val dataset\n"
     ]
    },
    {
     "name": "stderr",
     "output_type": "stream",
     "text": [
      "100%|██████████| 24/24 [00:15<00:00,  1.56it/s]\n",
      "scanning 16/19 weight - classifier.0.weight:  50%|█████     | 3/6 [00:46<00:46, 15.51s/it]"
     ]
    },
    {
     "name": "stdout",
     "output_type": "stream",
     "text": [
      "    sparsity=0.60: accuracy=70.13%sample 1500 images from 50000 val dataset\n"
     ]
    },
    {
     "name": "stderr",
     "output_type": "stream",
     "text": [
      "100%|██████████| 24/24 [00:15<00:00,  1.53it/s]\n",
      "scanning 16/19 weight - classifier.0.weight:  67%|██████▋   | 4/6 [01:02<00:31, 15.58s/it]"
     ]
    },
    {
     "name": "stdout",
     "output_type": "stream",
     "text": [
      "    sparsity=0.70: accuracy=71.93%sample 1500 images from 50000 val dataset\n"
     ]
    },
    {
     "name": "stderr",
     "output_type": "stream",
     "text": [
      "100%|██████████| 24/24 [00:16<00:00,  1.50it/s]\n",
      "scanning 16/19 weight - classifier.0.weight:  83%|████████▎ | 5/6 [01:18<00:15, 15.75s/it]"
     ]
    },
    {
     "name": "stdout",
     "output_type": "stream",
     "text": [
      "    sparsity=0.80: accuracy=70.13%sample 1500 images from 50000 val dataset\n"
     ]
    },
    {
     "name": "stderr",
     "output_type": "stream",
     "text": [
      "100%|██████████| 24/24 [00:15<00:00,  1.54it/s]\n",
      "scanning 16/19 weight - classifier.0.weight: 100%|██████████| 6/6 [01:33<00:00, 15.66s/it]\n"
     ]
    },
    {
     "name": "stdout",
     "output_type": "stream",
     "text": [
      "    sparsity=[0.40,0.50,0.60,0.70,0.80,0.90]: accuracy=[71.87%, 70.73%, 70.13%, 71.93%, 70.13%, 67.87%]"
     ]
    },
    {
     "name": "stderr",
     "output_type": "stream",
     "text": [
      "scanning 17/19 weight - classifier.3.weight:   0%|          | 0/6 [00:00<?, ?it/s]"
     ]
    },
    {
     "name": "stdout",
     "output_type": "stream",
     "text": [
      "sample 1500 images from 50000 val dataset\n"
     ]
    },
    {
     "name": "stderr",
     "output_type": "stream",
     "text": [
      "100%|██████████| 24/24 [00:15<00:00,  1.59it/s]\n",
      "scanning 17/19 weight - classifier.3.weight:  17%|█▋        | 1/6 [00:15<01:15, 15.14s/it]"
     ]
    },
    {
     "name": "stdout",
     "output_type": "stream",
     "text": [
      "    sparsity=0.40: accuracy=69.20%sample 1500 images from 50000 val dataset\n"
     ]
    },
    {
     "name": "stderr",
     "output_type": "stream",
     "text": [
      "100%|██████████| 24/24 [00:15<00:00,  1.56it/s]\n",
      "scanning 17/19 weight - classifier.3.weight:  33%|███▎      | 2/6 [00:30<01:01, 15.33s/it]"
     ]
    },
    {
     "name": "stdout",
     "output_type": "stream",
     "text": [
      "    sparsity=0.50: accuracy=69.67%sample 1500 images from 50000 val dataset\n"
     ]
    },
    {
     "name": "stderr",
     "output_type": "stream",
     "text": [
      "100%|██████████| 24/24 [00:15<00:00,  1.52it/s]\n",
      "scanning 17/19 weight - classifier.3.weight:  50%|█████     | 3/6 [00:46<00:46, 15.57s/it]"
     ]
    },
    {
     "name": "stdout",
     "output_type": "stream",
     "text": [
      "    sparsity=0.60: accuracy=70.33%sample 1500 images from 50000 val dataset\n"
     ]
    },
    {
     "name": "stderr",
     "output_type": "stream",
     "text": [
      "100%|██████████| 24/24 [00:15<00:00,  1.54it/s]\n",
      "scanning 17/19 weight - classifier.3.weight:  67%|██████▋   | 4/6 [01:02<00:31, 15.61s/it]"
     ]
    },
    {
     "name": "stdout",
     "output_type": "stream",
     "text": [
      "    sparsity=0.70: accuracy=70.60%sample 1500 images from 50000 val dataset\n"
     ]
    },
    {
     "name": "stderr",
     "output_type": "stream",
     "text": [
      "100%|██████████| 24/24 [00:15<00:00,  1.53it/s]\n",
      "scanning 17/19 weight - classifier.3.weight:  83%|████████▎ | 5/6 [01:17<00:15, 15.63s/it]"
     ]
    },
    {
     "name": "stdout",
     "output_type": "stream",
     "text": [
      "    sparsity=0.80: accuracy=68.13%sample 1500 images from 50000 val dataset\n"
     ]
    },
    {
     "name": "stderr",
     "output_type": "stream",
     "text": [
      "100%|██████████| 24/24 [00:17<00:00,  1.38it/s]\n",
      "scanning 17/19 weight - classifier.3.weight: 100%|██████████| 6/6 [01:35<00:00, 15.87s/it]\n"
     ]
    },
    {
     "name": "stdout",
     "output_type": "stream",
     "text": [
      "    sparsity=[0.40,0.50,0.60,0.70,0.80,0.90]: accuracy=[69.20%, 69.67%, 70.33%, 70.60%, 68.13%, 70.47%]"
     ]
    },
    {
     "name": "stderr",
     "output_type": "stream",
     "text": [
      "scanning 18/19 weight - classifier.6.weight:   0%|          | 0/6 [00:00<?, ?it/s]"
     ]
    },
    {
     "name": "stdout",
     "output_type": "stream",
     "text": [
      "sample 1500 images from 50000 val dataset\n"
     ]
    },
    {
     "name": "stderr",
     "output_type": "stream",
     "text": [
      "100%|██████████| 24/24 [00:22<00:00,  1.08it/s]\n",
      "scanning 18/19 weight - classifier.6.weight:  17%|█▋        | 1/6 [00:22<01:51, 22.33s/it]"
     ]
    },
    {
     "name": "stdout",
     "output_type": "stream",
     "text": [
      "    sparsity=0.40: accuracy=70.27%sample 1500 images from 50000 val dataset\n"
     ]
    },
    {
     "name": "stderr",
     "output_type": "stream",
     "text": [
      "100%|██████████| 24/24 [00:22<00:00,  1.07it/s]\n",
      "scanning 18/19 weight - classifier.6.weight:  33%|███▎      | 2/6 [00:44<01:29, 22.44s/it]"
     ]
    },
    {
     "name": "stdout",
     "output_type": "stream",
     "text": [
      "    sparsity=0.50: accuracy=71.80%sample 1500 images from 50000 val dataset\n"
     ]
    },
    {
     "name": "stderr",
     "output_type": "stream",
     "text": [
      "100%|██████████| 24/24 [00:22<00:00,  1.08it/s]\n",
      "scanning 18/19 weight - classifier.6.weight:  50%|█████     | 3/6 [01:07<01:07, 22.34s/it]"
     ]
    },
    {
     "name": "stdout",
     "output_type": "stream",
     "text": [
      "    sparsity=0.60: accuracy=70.13%sample 1500 images from 50000 val dataset\n"
     ]
    },
    {
     "name": "stderr",
     "output_type": "stream",
     "text": [
      "100%|██████████| 24/24 [00:14<00:00,  1.61it/s]\n",
      "scanning 18/19 weight - classifier.6.weight:  67%|██████▋   | 4/6 [01:22<00:38, 19.43s/it]"
     ]
    },
    {
     "name": "stdout",
     "output_type": "stream",
     "text": [
      "    sparsity=0.70: accuracy=70.27%sample 1500 images from 50000 val dataset\n"
     ]
    },
    {
     "name": "stderr",
     "output_type": "stream",
     "text": [
      "100%|██████████| 24/24 [00:15<00:00,  1.55it/s]\n",
      "scanning 18/19 weight - classifier.6.weight:  83%|████████▎ | 5/6 [01:37<00:18, 18.04s/it]"
     ]
    },
    {
     "name": "stdout",
     "output_type": "stream",
     "text": [
      "    sparsity=0.80: accuracy=69.13%sample 1500 images from 50000 val dataset\n"
     ]
    },
    {
     "name": "stderr",
     "output_type": "stream",
     "text": [
      "100%|██████████| 24/24 [00:15<00:00,  1.56it/s]\n",
      "scanning 18/19 weight - classifier.6.weight: 100%|██████████| 6/6 [01:52<00:00, 18.83s/it]"
     ]
    },
    {
     "name": "stdout",
     "output_type": "stream",
     "text": [
      "    sparsity=[0.40,0.50,0.60,0.70,0.80,0.90]: accuracy=[70.27%, 71.80%, 70.13%, 70.27%, 69.13%, 62.07%]"
     ]
    },
    {
     "name": "stderr",
     "output_type": "stream",
     "text": [
      "\n"
     ]
    }
   ],
   "source": [
    "sparsities, accuracies = sensitivity_scan(\n",
    "    model, scan_step=0.1, scan_start=0.4, scan_end=1.0)"
   ]
  },
  {
   "cell_type": "code",
   "execution_count": 48,
   "metadata": {},
   "outputs": [
    {
     "data": {
      "text/plain": [
       "19"
      ]
     },
     "execution_count": 48,
     "metadata": {},
     "output_type": "execute_result"
    }
   ],
   "source": [
    "import math\n",
    "math.ceil(len(accuracies))"
   ]
  },
  {
   "cell_type": "code",
   "execution_count": 56,
   "metadata": {},
   "outputs": [
    {
     "data": {
      "image/png": "[encoded data removed]",
      "text/plain": [
       "<Figure size 1500x1600 with 20 Axes>"
      ]
     },
     "metadata": {},
     "output_type": "display_data"
    }
   ],
   "source": [
    "def plot_sensitivity_scan(sparsities, accuracies, dense_model_accuracy, begin, end):\n",
    "    lower_bound_accuracy = 100 - (100 - dense_model_accuracy) * 1.5\n",
    "    fig, axes = plt.subplots(5, 4, figsize=(15,16))\n",
    "    axes = axes.ravel()\n",
    "    plot_index = 0\n",
    "    for name, param in model.named_parameters():\n",
    "        if param.dim() > 1:\n",
    "            ax = axes[plot_index]\n",
    "            curve = ax.plot(sparsities, accuracies[plot_index])\n",
    "            line = ax.plot(sparsities, [lower_bound_accuracy] * len(sparsities))\n",
    "            ax.set_xticks(np.arange(start=0.4, stop=1.0, step=0.1))\n",
    "            ax.set_ylim(50, 75)\n",
    "            ax.set_title(name)\n",
    "            ax.set_xlabel('sparsity')\n",
    "            ax.set_ylabel('top-1 accuracy')\n",
    "            ax.legend([\n",
    "                'accuracy after pruning',\n",
    "                f'{lower_bound_accuracy / dense_model_accuracy * 100:.0f}% of dense model accuracy'\n",
    "            ])\n",
    "            ax.grid(axis='x')\n",
    "            plot_index += 1\n",
    "    fig.suptitle('Sensitivity Curves: Validation Accuracy vs. Pruning Sparsity')\n",
    "    fig.tight_layout()\n",
    "    fig.subplots_adjust(top=0.925)\n",
    "    plt.show()\n",
    "    \n",
    "plot_sensitivity_scan(sparsities, accuracies, 70, 0, 9)"
   ]
  },
  {
   "cell_type": "code",
   "execution_count": 58,
   "metadata": {},
   "outputs": [
    {
     "data": {
      "image/png": "[encoded data removed]",
      "text/plain": [
       "<Figure size 1200x600 with 1 Axes>"
      ]
     },
     "metadata": {},
     "output_type": "display_data"
    }
   ],
   "source": [
    "def plot_num_parameters_distribution(model):\n",
    "    num_parameters = dict()\n",
    "    for name, param in model.named_parameters():\n",
    "        if param.dim() > 1:\n",
    "            num_parameters[name] = param.numel()\n",
    "    fig = plt.figure(figsize=(12, 6))\n",
    "    plt.grid(axis='y')\n",
    "    plt.bar(list(num_parameters.keys()), list(num_parameters.values()))\n",
    "    plt.title('#Parameter Distribution')\n",
    "    plt.ylabel('Number of Parameters')\n",
    "    plt.xticks(rotation=60)\n",
    "    plt.tight_layout()\n",
    "    plt.show()\n",
    "\n",
    "plot_num_parameters_distribution(model)"
   ]
  },
  {
   "cell_type": "code",
   "execution_count": 59,
   "metadata": {},
   "outputs": [],
   "source": [
    "def recover_model():\n",
    "    model = models.vgg19(pretrained=True)\n",
    "    return model"
   ]
  },
  {
   "cell_type": "code",
   "execution_count": 113,
   "metadata": {},
   "outputs": [],
   "source": [
    "# original\n",
    "\n",
    "sparsity_dict = {\n",
    "    'features.0.weight' : 0.4,     # 4%\n",
    "    'features.2.weight' : 0.5,     # 0%\n",
    "    'features.5.weight' : 0.6,     # 0%\n",
    "    'features.7.weight' : 0.5,     # 0%\n",
    "    'features.10.weight' : 0.6,    # 5%\n",
    "    'features.12.weight' : 0.6,    # 2%\n",
    "    'features.14.weight' : 0.6,    # 3%\n",
    "    'features.16.weight' : 0.5,    # 0%\n",
    "    'features.19.weight' : 0.6,    # 3%\n",
    "    'features.21.weight' : 0.6,    # 2%\n",
    "    'features.23.weight' : 0.5,    # 0%\n",
    "    'features.25.weight' : 0.6,    # 2%\n",
    "    'features.28.weight' : 0.6,    # 0%\n",
    "    'features.30.weight' : 0.5,    # 0%\n",
    "    'features.32.weight' : 0.7,    # 2%\n",
    "    'features.34.weight' : 0.4,    # 1%\n",
    "    'classifier.0.weight' : 0.7,\n",
    "    'classifier.3.weight' : 0.7,\n",
    "    'classifier.6.weight' : 0.5\n",
    "}"
   ]
  },
  {
   "cell_type": "code",
   "execution_count": 140,
   "metadata": {},
   "outputs": [],
   "source": [
    "sparsity_dict = {\n",
    "    'features.0.weight' : 0.1,     # 4%\n",
    "    'features.2.weight' : 0.5,     # 0%\n",
    "    'features.5.weight' : 0.6,     # 0%\n",
    "    'features.7.weight' : 0.5,     # 0%\n",
    "    'features.10.weight' : 0.3,    # 5%\n",
    "    'features.12.weight' : 0.3,    # 2%\n",
    "    'features.14.weight' : 0.3,    # 3%\n",
    "    'features.16.weight' : 0.5,    # 0%\n",
    "    'features.19.weight' : 0.3,    # 3%\n",
    "    'features.21.weight' : 0.3,    # 2%\n",
    "    'features.23.weight' : 0.5,    # 0%\n",
    "    'features.25.weight' : 0.3,    # 2%\n",
    "    'features.28.weight' : 0.6,    # 0%\n",
    "    'features.30.weight' : 0.5,    # 0%\n",
    "    'features.32.weight' : 0.3,    # 2%\n",
    "    'features.34.weight' : 0.3,    # 1%\n",
    "    'classifier.0.weight' : 0.7,\n",
    "    'classifier.3.weight' : 0.7,\n",
    "    'classifier.6.weight' : 0.5\n",
    "}"
   ]
  },
  {
   "cell_type": "code",
   "execution_count": 61,
   "metadata": {},
   "outputs": [
    {
     "name": "stderr",
     "output_type": "stream",
     "text": [
      "d:\\Anaconda\\Anaconda_setup\\envs\\malning\\lib\\site-packages\\torchvision\\models\\_utils.py:209: UserWarning: The parameter 'pretrained' is deprecated since 0.13 and may be removed in the future, please use 'weights' instead.\n",
      "  f\"The parameter '{pretrained_param}' is deprecated since 0.13 and may be removed in the future, \"\n",
      "d:\\Anaconda\\Anaconda_setup\\envs\\malning\\lib\\site-packages\\torchvision\\models\\_utils.py:223: UserWarning: Arguments other than a weight enum or `None` for 'weights' are deprecated since 0.13 and may be removed in the future. The current behavior is equivalent to passing `weights=VGG19_Weights.IMAGENET1K_V1`. You can also use `weights=VGG19_Weights.DEFAULT` to get the most up-to-date weights.\n",
      "  warnings.warn(msg)\n"
     ]
    },
    {
     "name": "stdout",
     "output_type": "stream",
     "text": [
      "sample 5000 images from 50000 val dataset\n"
     ]
    },
    {
     "name": "stderr",
     "output_type": "stream",
     "text": [
      "100%|██████████| 79/79 [00:57<00:00,  1.37it/s]\n"
     ]
    }
   ],
   "source": [
    "model = recover_model()\n",
    "dense_model_accuracy = calculate_accuracy(model)\n",
    "dense_model_size = get_model_size(model)"
   ]
  },
  {
   "cell_type": "code",
   "execution_count": 62,
   "metadata": {},
   "outputs": [
    {
     "name": "stdout",
     "output_type": "stream",
     "text": [
      "dense_model_accuracy:  70.44\n",
      "dense_model_size:  4597351680\n"
     ]
    }
   ],
   "source": [
    "print(\"dense_model_accuracy: \", dense_model_accuracy)\n",
    "print(\"dense_model_size: \", dense_model_size)"
   ]
  },
  {
   "cell_type": "code",
   "execution_count": 142,
   "metadata": {},
   "outputs": [
    {
     "name": "stdout",
     "output_type": "stream",
     "text": [
      "After pruning with sparsity dictionary\n",
      "  features.0.weight: 0.10\n",
      "  features.2.weight: 0.50\n",
      "  features.5.weight: 0.60\n",
      "  features.7.weight: 0.50\n",
      "  features.10.weight: 0.30\n",
      "  features.12.weight: 0.30\n",
      "  features.14.weight: 0.30\n",
      "  features.16.weight: 0.50\n",
      "  features.19.weight: 0.30\n",
      "  features.21.weight: 0.30\n",
      "  features.23.weight: 0.50\n",
      "  features.25.weight: 0.30\n",
      "  features.28.weight: 0.60\n",
      "  features.30.weight: 0.50\n",
      "  features.32.weight: 0.30\n",
      "  features.34.weight: 0.30\n",
      "  classifier.0.weight: 0.70\n",
      "  classifier.3.weight: 0.70\n",
      "  classifier.6.weight: 0.50\n",
      "The sparsity of each layer becomes\n",
      "  features.0.weight: 0.10\n",
      "  features.2.weight: 0.50\n",
      "  features.5.weight: 0.60\n",
      "  features.7.weight: 0.50\n",
      "  features.10.weight: 0.30\n",
      "  features.12.weight: 0.30\n",
      "  features.14.weight: 0.30\n",
      "  features.16.weight: 0.50\n",
      "  features.19.weight: 0.30\n",
      "  features.21.weight: 0.30\n",
      "  features.23.weight: 0.50\n",
      "  features.25.weight: 0.30\n",
      "  features.28.weight: 0.60\n",
      "  features.30.weight: 0.50\n",
      "  features.32.weight: 0.30\n",
      "  features.34.weight: 0.30\n",
      "  classifier.0.weight: 0.70\n",
      "  classifier.3.weight: 0.70\n",
      "  classifier.6.weight: 0.50\n",
      "Sparse model has size=191.15 MiB = 34.88% of dense model size\n",
      "sample 5000 images from 50000 val dataset\n"
     ]
    },
    {
     "name": "stderr",
     "output_type": "stream",
     "text": [
      "100%|██████████| 79/79 [01:23<00:00,  1.06s/it]"
     ]
    },
    {
     "name": "stdout",
     "output_type": "stream",
     "text": [
      "Sparse model has accuracy=68.36% before fintuning\n"
     ]
    },
    {
     "name": "stderr",
     "output_type": "stream",
     "text": [
      "\n"
     ]
    }
   ],
   "source": [
    "model = recover_model()\n",
    "pruner = FineGrainedPruner(model, sparsity_dict)\n",
    "print(f'After pruning with sparsity dictionary')\n",
    "for name, sparsity in sparsity_dict.items():\n",
    "    print(f'  {name}: {sparsity:.2f}')\n",
    "print(f'The sparsity of each layer becomes')\n",
    "for name, param in model.named_parameters():\n",
    "    if name in sparsity_dict:\n",
    "        print(f'  {name}: {get_sparsity(param):.2f}')\n",
    "\n",
    "sparse_model_size = get_model_size(model, count_nonzero_only=True)\n",
    "print(f\"Sparse model has size={sparse_model_size / MiB:.2f} MiB = {sparse_model_size / dense_model_size * 100:.2f}% of dense model size\")\n",
    "sparse_model_accuracy = calculate_accuracy(model, sample_rate=0.1)\n",
    "print(f\"Sparse model has accuracy={sparse_model_accuracy:.2f}% before fintuning\")\n",
    "\n",
    "#plot_weight_distribution(model, count_nonzero_only=True)"
   ]
  }
 ],
 "metadata": {
  "kernelspec": {
   "display_name": "malning",
   "language": "python",
   "name": "malning"
  },
  "language_info": {
   "codemirror_mode": {
    "name": "ipython",
    "version": 3
   },
   "file_extension": ".py",
   "mimetype": "text/x-python",
   "name": "python",
   "nbconvert_exporter": "python",
   "pygments_lexer": "ipython3",
   "version": "3.7.0"
  }
 },
 "nbformat": 4,
 "nbformat_minor": 2
}
